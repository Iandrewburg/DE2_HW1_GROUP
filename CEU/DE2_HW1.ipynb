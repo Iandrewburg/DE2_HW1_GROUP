{
 "cells": [
  {
   "cell_type": "code",
   "execution_count": 1,
   "id": "0cec42c5-dde2-427c-88ba-00bbd2dd0e23",
   "metadata": {
    "tags": []
   },
   "outputs": [
    {
     "name": "stdout",
     "output_type": "stream",
     "text": [
      "Collecting pycryptodomex\n",
      "  Downloading pycryptodomex-3.19.0-cp35-abi3-manylinux_2_17_x86_64.manylinux2014_x86_64.whl.metadata (3.4 kB)\n",
      "Downloading pycryptodomex-3.19.0-cp35-abi3-manylinux_2_17_x86_64.manylinux2014_x86_64.whl (2.1 MB)\n",
      "\u001b[2K   \u001b[90m━━━━━━━━━━━━━━━━━━━━━━━━━━━━━━━━━━━━━━━━\u001b[0m \u001b[32m2.1/2.1 MB\u001b[0m \u001b[31m9.9 MB/s\u001b[0m eta \u001b[36m0:00:00\u001b[0m:00:01\u001b[0m\n",
      "\u001b[?25hInstalling collected packages: pycryptodomex\n",
      "Successfully installed pycryptodomex-3.19.0\n"
     ]
    }
   ],
   "source": [
    "!pip install pycryptodomex"
   ]
  },
  {
   "cell_type": "code",
   "execution_count": 2,
   "id": "348aa8e2-4de8-44da-84af-d358e617ead8",
   "metadata": {
    "tags": []
   },
   "outputs": [
    {
     "name": "stdout",
     "output_type": "stream",
     "text": [
      "/workspaces/DE2_HW1_GROUP/CEU/my_keypair\n",
      "/workspaces/DE2_HW1_GROUP/CEU/my_keypair.pub\n"
     ]
    }
   ],
   "source": [
    "from pathlib import Path\n",
    "\n",
    "from Cryptodome.Cipher import PKCS1_OAEP\n",
    "from Cryptodome.PublicKey import RSA\n",
    "\n",
    "PROJECT_FOLDER = Path(\"/workspaces/DE2_HW1_GROUP/CEU\")\n",
    "# PROJECT_FOLDER = Path(\"C:\\\\Users\\\\iandr\\\\masters_coding\\\\First Semester\\\\Data Engineering 2\\\\PROJECT_FOLDER\")\n",
    "\n",
    "PRIVATE_KEY_FILE = PROJECT_FOLDER / \"my_keypair\"\n",
    "PUBLIC_KEY_FILE = PROJECT_FOLDER / \"my_keypair.pub\"\n",
    "# PUBLIC_KEY_FILE = Path(\"C:\\\\Users\\\\iandr\\\\masters_coding\\\\First Semester\\\\Data Engineering 2\\\\PROJECT_FOLDER\\\\PRIVATE_KEY_FILE\\\\my_keypair.pub\")\n",
    "\n",
    "print(PRIVATE_KEY_FILE)\n",
    "print(PUBLIC_KEY_FILE)\n",
    "\n",
    "assert Path.exists(PRIVATE_KEY_FILE)\n",
    "assert Path.exists(PUBLIC_KEY_FILE)"
   ]
  },
  {
   "cell_type": "code",
   "execution_count": 16,
   "metadata": {},
   "outputs": [
    {
     "name": "stdout",
     "output_type": "stream",
     "text": [
      "Encrypted message: b'S\\xb6\\xd6\\xc19\\x08)9a\\xd5I\\xe4@\\x9au\\xfb\\x85\\x81\"$\\xc0\\xf9\\xd0O\\x0b\\x11P\\x90?\\x19\\xf2\\xde\\xda,\"\\xf8\\x8e\\xfbf\\xb9y\\x83Y\\x88\\xf1A>\\xa6qN\\x9bz\\xde\\'T9\\x117sg\\n\\xa6\\xfb\\xed\\xa5\\x80\\x84\\xc5\\xdb@\\x03]\\xeb\\xbbdE\\x16\\xa6up?\\xec\\xc1\\xd3{\\xb4\\x01\\xe8\\xd8\\x815x\\xd3\\xa1\\x08\\xc2\\xb6\\xad\\xa0P\\xbd\\xac_NF>\\xabH\\x17v\\x04\\xb3O\\x14\\x9c@s\\xdeE\\xd6\\xe8\\x9d\\xa2\\xab\\xab\\xc7\\x99D\\xaaA\\x9a\\x1f\\xde\\xe04*\\xac\\xf1%q\\xe8\\x96;Lw\\xe2\\xdd\\xbcqNp\\x9e\\x1eu\\xfb\\xa9\\xf4\\xe7\\x84m\"\\x02H\\x8d\\xc0i\\xf8\\xa9\\x19Y\\xee\\xfa\"\\x11\\x0e=\\xb8\\xea\\xd9k \\xa6(w\\x16l\\xbc\\xdd\\xff\\xab\\x10X0@h\\x13\\xc0\\x06\\xff\\xd0\\xfc7J\\x9c\\x11\\xbbTx\\xbbuO\\xd9\\xe2\\x91\\xa2\\xec\\x0e\\xfd\\xd3f[M\\xb6\\x9e\\xcaP\\x1e\\x80\\xbe\\x85E\\xdd\\x1cI\\xe7\\xaf\\xe4\\x023\\x80\\xbf\\xccL\\x1c\\x170\\xd9\\x9f\\xf3j\\xe6A\\xa8\\x90\\x11iY\\x173\\x1d\\x87\\xe7oL\\xcf!~\\x18\\xff\\xf6\\x99\\x1e\\xf0\\xe2\\x8f\\xda\\xd5\\xf8F\\x85\\x00\\xb0\\xa7\\xa5\\xd0\\xb4\\x94\\xc0\\xa2\\x9a\\x14V\\x13\\xdc6\\x13*\\xb0\\x1c\\x05s\\xeb\\x19\\xd4\\x90\\xee!\\x00\\xc3\\x89-\\xb83\\x92\\xc3\\x95\\x89\\x8d\\xb7\\x97_80&\\\\{z\\xf5\\xa3\\xfb]\\xa3M\\xb6\\x0c\\x92\\xe1\\xf7\\xe7\\xc1\\xae\\xcb\\x88#\\xdd\\xdaQ\\xec\\xb4[\\xf6\\x17\\xfdiE&\\x7fp=.JOgi\\x9a\\x9a\\x7f\\xdd\\xa2\\xe5\\x00\\xf2\\x92\\x82\\x10X\\xfe\\xe9\\xcdN\\xa4\\xa2|\\xeb'\n"
     ]
    }
   ],
   "source": [
    "# CREATE MESSAGE FOR MARCELL\n",
    "\n",
    "from Cryptodome.PublicKey import RSA\n",
    "from Cryptodome.Cipher import PKCS1_OAEP\n",
    "import pathlib\n",
    "\n",
    "# Define Marcell's folder path\n",
    "PROJECT_FOLDER_MARCELL = Path(\"/workspaces/DE2_HW1_GROUP/MARCELL\")\n",
    "\n",
    "# Load Marcell's public key\n",
    "PUBLIC_KEY_FILE_MARCELL = PROJECT_FOLDER_MARCELL / \"my_keypair.pub\"  # Corrected file path\n",
    "with open(PUBLIC_KEY_FILE_MARCELL, \"r\") as key_file:\n",
    "    public_key_marcell = RSA.import_key(key_file.read())\n",
    "\n",
    "# My secrete message for Marcell\n",
    "short_secret_message_marcell = \"Hey, Marcell! Thank you for visiting CEU's website. We hope to see you again soon!\".encode(\"utf-8\")\n",
    "\n",
    "# Encrypt the message with the Marcell's public key\n",
    "public_key_cipher = PKCS1_OAEP.new(public_key_marcell)\n",
    "encrypted_message_marcell = public_key_cipher.encrypt(short_secret_message_marcell)\n",
    "\n",
    "# Output the encrypted message for Marcell\n",
    "print(f\"Encrypted message: {encrypted_message_marcell}\")\n",
    "\n",
    "# Save Marcell's encrypted message to a file\n",
    "ENCRYPTED_MESSAGE_FILE_MARCELL = PROJECT_FOLDER_MARCELL / \"FROM_CEU_encrypted_message.bin\"\n",
    "with open(ENCRYPTED_MESSAGE_FILE_MARCELL, \"wb\") as f:\n",
    "    f.write(encrypted_message_marcell)"
   ]
  },
  {
   "cell_type": "code",
   "execution_count": 17,
   "id": "a318bb66-2cd3-4849-8aa4-3910521b6d62",
   "metadata": {
    "tags": []
   },
   "outputs": [
    {
     "name": "stdout",
     "output_type": "stream",
     "text": [
      "Encrypted message: b'\\x85+\\xd4lR\\x96X\\xb4&/\\xfc\\xc7\\xe7yVpz2\\x02@\\xe4s\\xbe*c\\xe4\\x1b\\xb9M\\xd3\\x8e1\\x15\\xb0:g\\xac;\\x11\\xdb\\x85U\\x90\\xca\\xb2PnAv\\xd9&\\x99\\x7f\\x84f\\x17$y\\xf2\\xda\\x08\\xf6\\xe6\\xba?(`S\\xe2=\\x9f\\xcc\\xe5I\\xa6\\xaf\\x00\\xb5+\\xaf\\xbc\\n\\x83An0\\xf4\\xe8\\xd2c\\xba\\xc8\\xd2\\xbd\\xfd|\\xf4\\xe7\\x16\\xd1\\xb6\\x80\\x92^+Y\\x92\\x02Y\\xb1.\\x94l\\x10u\\xafV(M8*\\xc0\\xae;\\x06P\\x81\\xb8\\xd2\\xe6\\xb6\\xb1\\xcd\\xf3\\x90\\xcb\\x87@D\\x80\\xf7\\x93\\xa0Bn7Y#\\xeaF\\xb8z\\xcd\\xcb\\x071H\\x16B\\\\/\\xc8\\x1e\\xea\\x88:\\xb9t\\xca(\\x92\"\\x19\\x8cb\\x1f\\n\\xbc&\\xbe/]\\xe6\\r\\xe1\\xffE\\xefR\\x97\\xce-\\xfe\\x82q\\xde\\xc2\\x8ah.\\xce\\x8c\\xf7s\\xc1D\\x9e(\\xb4\\x89k\\x90,+v\\xd0\\x1fU\\xfcz\\xd0\\xf5*4\\x83\\xafp\\xa6\\xd0\\xa8!\\xa2\\x06^\\x14\\x10\\xf7\\xe8!\\x95\\x12=\\x1f\\xd9\\x11\\x05\\xcc\\xa2\\xc5\\x9dc\\xca\\x98\\xce\\xdd\\x1bLI!\\xc1\\x9a\\xa2\\xa4\\xb0\\x04\\x06\\xc6\\xea\\xae\\t\\xd6yN\\x9a\\xcb\\xbe(\\xaeH\\x8c4\\xb3\\x06\\x1e]Z\\x87HA\\x19\\x00A\\x8e\\x1d\\xc3\\x8e\\xe2\\xe7\\xc4\\xf9\\x00\\x8b\\xd5\\x7f\\xd3F,\\x9aoK\\x85m\\x03\\xd7\\xdd)\\r\\rt$\\xadq\\x18\\xaaHE\\x1a\\x9f\\x1d\\xc8\\x15D\\xe3\\xf9Z\\x1f8\\xd2_\\x84\\xed\\x90\\x81\\xde\\x14\\x91\\x8f\\x8e3\\xd2A\\xba\\xad\\x85h\\xd7_W\\x1ad\\xd0\\x87.\\xbc\\x94\\x82^\\xd2\\xf8p\\xf5\\xe7WS\\xe7\\xf8\\x03k\\xa9\\xfdG\\x907\\xb1'\n"
     ]
    }
   ],
   "source": [
    "# CREATE MESSAGE FOR ARBASH\n",
    "\n",
    "from Cryptodome.PublicKey import RSA\n",
    "from Cryptodome.Cipher import PKCS1_OAEP\n",
    "import pathlib\n",
    "\n",
    "# Define Arbash's folder path\n",
    "PROJECT_FOLDER_ARBASH = Path(\"/workspaces/DE2_HW1_GROUP/ARBASH\")\n",
    "\n",
    "# Load Arbash's public key\n",
    "PUBLIC_KEY_FILE_ARBASH = PROJECT_FOLDER_ARBASH / \"my_keypair.pub\"  # Corrected file path\n",
    "with open(PUBLIC_KEY_FILE_ARBASH, \"r\") as key_file:\n",
    "    public_key_arbash = RSA.import_key(key_file.read())\n",
    "\n",
    "# My secret message for Arbash\n",
    "short_secret_message_Arbash = \"Hey, Arbash! Thank you for visiting CEU's website. Sorry, we cannot give you free money, but with our education, you can achieve your dreams! Have a nice day!\".encode(\"utf-8\")\n",
    "\n",
    "# Encrypt the message with Arbash's public key\n",
    "public_key_cipher = PKCS1_OAEP.new(public_key_arbash)\n",
    "encrypted_message_arbash = public_key_cipher.encrypt(short_secret_message_Arbash)\n",
    "\n",
    "# Output the encrypted message for Arbash\n",
    "print(f\"Encrypted message: {encrypted_message_arbash}\")\n",
    "\n",
    "# Save Arbash'S encrypted message to a file\n",
    "ENCRYPTED_MESSAGE_FILE_ARBASH = PROJECT_FOLDER_ARBASH / \"FROM_CEU_encrypted_message.bin\"\n",
    "with open(ENCRYPTED_MESSAGE_FILE_ARBASH, \"wb\") as f:\n",
    "    f.write(encrypted_message_arbash)"
   ]
  },
  {
   "cell_type": "code",
   "execution_count": 14,
   "metadata": {},
   "outputs": [
    {
     "data": {
      "text/plain": [
       "RsaKey(n=3660829390492432726264201720878011624780433523918102739491046877484569049205221340849503071983608160579299425018837324734341836464777034958805447507219793192755988278335963438472025354880423308136459633652751586332953391641018285690740211589577446554117862971659986299685395494909023418713541405790508005399673706601744886701136767246510703547363696944535291409257160526718994066517625300341408444190600039009888209546315284130876101667671943485483376211267198533306108225860103971051097835050027186853410849060882901430013310996570036531602191798265109536942562523844062507418233740143796380945502531076682768678095217926004964959616840577158923725715423966720488405788979332056332554129703881802924211672987780313265494971063162064511354660159268075871532679171288071404963599197153605143694052021909280274364196452644383446941970499195031443439816894201030446988629087534479972170122666368046691599478405844372184731859967, e=65537)"
      ]
     },
     "execution_count": 14,
     "metadata": {},
     "output_type": "execute_result"
    }
   ],
   "source": []
  },
  {
   "cell_type": "code",
   "execution_count": 10,
   "metadata": {},
   "outputs": [
    {
     "name": "stdout",
     "output_type": "stream",
     "text": [
      "Decrypted message: Hi CEU! This is my encryted message.\n"
     ]
    }
   ],
   "source": [
    "# DECRYPT MESSAGE FROM MARCELL\n",
    "\n",
    "from Cryptodome.Cipher import PKCS1_OAEP\n",
    "from Cryptodome.PublicKey import RSA\n",
    "from pathlib import Path\n",
    "\n",
    "# Set up the paths\n",
    "PROJECT_FOLDER = Path(\"/workspaces/DE2_HW1_GROUP/CEU\")\n",
    "PRIVATE_KEY_PATH = PROJECT_FOLDER / \"my_keypair\"  # Adjust with your actual private key file path\n",
    "ENCRYPTED_MESSAGE_MARCELL = PROJECT_FOLDER / \"encrypted_message_to_CEU_Marcell.bin\"\n",
    "\n",
    "# Load the private key\n",
    "with open(PRIVATE_KEY_PATH, 'rb') as private_file:\n",
    "    private_key = RSA.import_key(private_file.read())\n",
    "\n",
    "# Decrypt the message\n",
    "with open(ENCRYPTED_MESSAGE_MARCELL, \"rb\") as f:\n",
    "    encrypted_message_from_file = f.read()\n",
    "\n",
    "private_key_cipher = PKCS1_OAEP.new(private_key)\n",
    "try:\n",
    "    decrypted_message_marcell = private_key_cipher.decrypt(encrypted_message_from_file)\n",
    "    print(f\"Decrypted message: {decrypted_message_marcell.decode('utf-8')}\")\n",
    "except ValueError as e:\n",
    "    print(f\"Decryption failed: {e}\")\n",
    "\n",
    "# Save the decrypted message to a file\n",
    "DECRYPTED_MESSAGE_FILE_MARCELL = PROJECT_FOLDER / \"decrypted_message_Marcell.bin\"\n",
    "with open(DECRYPTED_MESSAGE_FILE_MARCELL, \"wb\") as f:\n",
    "    f.write(decrypted_message_marcell)\n"
   ]
  },
  {
   "cell_type": "code",
   "execution_count": 18,
   "id": "fc349c4b-696f-4ba4-a971-a3d9d42931ea",
   "metadata": {},
   "outputs": [
    {
     "name": "stdout",
     "output_type": "stream",
     "text": [
      "Decrypted message: Hey, CEU! Please give me money\n"
     ]
    }
   ],
   "source": [
    "# DECRYPT MESSAGE FROM ARBASH\n",
    "\n",
    "from Cryptodome.Cipher import PKCS1_OAEP\n",
    "from Cryptodome.PublicKey import RSA\n",
    "from pathlib import Path\n",
    "\n",
    "# Set up the paths\n",
    "PROJECT_FOLDER = Path(\"/workspaces/DE2_HW1_GROUP/CEU\")\n",
    "PRIVATE_KEY_PATH = PROJECT_FOLDER / \"my_keypair\"  # Adjust with your actual private key file path\n",
    "ENCRYPTED_MESSAGE_ARBASH = PROJECT_FOLDER / \"arbash_to_ceu_encrypted_message.bin\"\n",
    "\n",
    "# Load the private key\n",
    "with open(PRIVATE_KEY_PATH, 'rb') as private_file:\n",
    "    private_key = RSA.import_key(private_file.read())\n",
    "\n",
    "# Decrypt the message\n",
    "with open(ENCRYPTED_MESSAGE_ARBASH, \"rb\") as f:\n",
    "    encrypted_message_from_file = f.read()\n",
    "\n",
    "private_key_cipher = PKCS1_OAEP.new(private_key)\n",
    "try:\n",
    "    decrypted_message_arbash = private_key_cipher.decrypt(encrypted_message_from_file)\n",
    "    print(f\"Decrypted message: {decrypted_message_arbash.decode('utf-8')}\")\n",
    "except ValueError as e:\n",
    "    print(f\"Decryption failed: {e}\")\n",
    "\n",
    "# Save the decrypted message to a file\n",
    "DECRYPTED_MESSAGE_FILE_MARCELL = PROJECT_FOLDER / \"decrypted_message_Arbash.bin\"\n",
    "with open(DECRYPTED_MESSAGE_FILE_MARCELL, \"wb\") as f:\n",
    "    f.write(decrypted_message_arbash)"
   ]
  },
  {
   "cell_type": "code",
   "execution_count": null,
   "metadata": {},
   "outputs": [],
   "source": []
  },
  {
   "cell_type": "code",
   "execution_count": null,
   "metadata": {},
   "outputs": [],
   "source": []
  }
 ],
 "metadata": {
  "kernelspec": {
   "display_name": "Python 3 (ipykernel)",
   "language": "python",
   "name": "python3"
  },
  "language_info": {
   "codemirror_mode": {
    "name": "ipython",
    "version": 3
   },
   "file_extension": ".py",
   "mimetype": "text/x-python",
   "name": "python",
   "nbconvert_exporter": "python",
   "pygments_lexer": "ipython3",
   "version": "3.10.8"
  }
 },
 "nbformat": 4,
 "nbformat_minor": 5
}
