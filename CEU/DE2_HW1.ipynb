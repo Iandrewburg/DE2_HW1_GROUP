{
 "cells": [
  {
   "cell_type": "code",
   "execution_count": 1,
   "id": "0cec42c5-dde2-427c-88ba-00bbd2dd0e23",
   "metadata": {
    "tags": []
   },
   "outputs": [
    {
     "name": "stdout",
     "output_type": "stream",
     "text": [
      "Collecting pycryptodomex\n",
      "  Downloading pycryptodomex-3.19.0-cp35-abi3-manylinux_2_17_x86_64.manylinux2014_x86_64.whl.metadata (3.4 kB)\n",
      "Downloading pycryptodomex-3.19.0-cp35-abi3-manylinux_2_17_x86_64.manylinux2014_x86_64.whl (2.1 MB)\n",
      "\u001b[2K   \u001b[90m━━━━━━━━━━━━━━━━━━━━━━━━━━━━━━━━━━━━━━━━\u001b[0m \u001b[32m2.1/2.1 MB\u001b[0m \u001b[31m9.9 MB/s\u001b[0m eta \u001b[36m0:00:00\u001b[0m:00:01\u001b[0m\n",
      "\u001b[?25hInstalling collected packages: pycryptodomex\n",
      "Successfully installed pycryptodomex-3.19.0\n"
     ]
    }
   ],
   "source": [
    "!pip install pycryptodomex"
   ]
  },
  {
   "cell_type": "code",
   "execution_count": 2,
   "id": "348aa8e2-4de8-44da-84af-d358e617ead8",
   "metadata": {
    "tags": []
   },
   "outputs": [
    {
     "name": "stdout",
     "output_type": "stream",
     "text": [
      "/workspaces/DE2_HW1_GROUP/CEU/my_keypair\n",
      "/workspaces/DE2_HW1_GROUP/CEU/my_keypair.pub\n"
     ]
    }
   ],
   "source": [
    "from pathlib import Path\n",
    "\n",
    "from Cryptodome.Cipher import PKCS1_OAEP\n",
    "from Cryptodome.PublicKey import RSA\n",
    "\n",
    "PROJECT_FOLDER = Path(\"/workspaces/DE2_HW1_GROUP/CEU\")\n",
    "# PROJECT_FOLDER = Path(\"C:\\\\Users\\\\iandr\\\\masters_coding\\\\First Semester\\\\Data Engineering 2\\\\PROJECT_FOLDER\")\n",
    "\n",
    "PRIVATE_KEY_FILE = PROJECT_FOLDER / \"my_keypair\"\n",
    "PUBLIC_KEY_FILE = PROJECT_FOLDER / \"my_keypair.pub\"\n",
    "# PUBLIC_KEY_FILE = Path(\"C:\\\\Users\\\\iandr\\\\masters_coding\\\\First Semester\\\\Data Engineering 2\\\\PROJECT_FOLDER\\\\PRIVATE_KEY_FILE\\\\my_keypair.pub\")\n",
    "\n",
    "print(PRIVATE_KEY_FILE)\n",
    "print(PUBLIC_KEY_FILE)\n",
    "\n",
    "assert Path.exists(PRIVATE_KEY_FILE)\n",
    "assert Path.exists(PUBLIC_KEY_FILE)"
   ]
  },
  {
   "cell_type": "code",
   "execution_count": 17,
   "metadata": {},
   "outputs": [
    {
     "name": "stdout",
     "output_type": "stream",
     "text": [
      "Encrypted message: b\"\\x1f}\\x0bZ\\xd9\\xf7\\xfcO\\xf2\\x1f\\x19q\\x9a2\\x9a\\xdb\\xef\\xf9\\x96\\xe5^\\xc9\\xae\\xf0\\xcb`M\\x9f\\x83K\\xb8\\xaf\\x1f}\\xd0T\\xb0\\x81_\\x04\\xb1\\xbe\\xf8\\x88\\x88\\x03vM\\xf4Q@\\xe1\\xa2v|kxl\\x12\\xf4\\xc0\\x84\\x8d\\x13\\x14\\xc4\\xa9\\xf9\\xb4q\\xd9R\\x14,\\x9bfL\\x19\\xf6_k\\xb7\\x93\\x8c\\x16\\x97\\xfa\\x87\\x85z\\xda\\x9f$\\xa0\\xb9jr95\\xe4\\xa8/\\x00\\xf0|d@\\x08W\\x98\\xa3\\x03\\x8d\\x16sh\\xa8\\x1f^p\\xd4%\\xa9\\xf5\\xef\\x16\\x82\\x88.*\\x16\\x94\\x1fM\\xb6T\\xa8\\xafc\\x95\\xcfT\\xd8 \\xdc\\x9c|\\x8db\\xad'w\\xef\\x9d\\x1f\\xb5=\\xde\\x1f\\x123Z\\x1e\\xcf\\xbb{y\\x1e\\xb6\\x16tQwX\\xfc\\x9b\\xd4Z\\xdeB\\xaf\\xc6\\x8f@\\x9f\\xa9\\x87y\\xc3\\x8c1\\x93\\x8f\\xf0\\xd0/\\xb0\\xd4\\x9d^&\\xd3T\\xb6,\\x93\\x92\\xa3%\\x8d\\x97\\x16VFN\\xe6f\\xe7\\xd5\\x05(\\xd1,\\x8a\\xfd\\xda\\xb0\\xe9\\xf2\\x91D\\xc5\\xe0\\x9a\\xa7\\xe2Fc\\x1d\\xc39.*D\\xe0\\x9d\\xec\\xe0\\x8e\\xca?\\xe4\\xc0\\xb2\\xb5\\xf7\\xb4\\xd3\\xc1\\xea\\xdf\\xb2\\x17\\xfd%\\xd5\\x1b<j\\x7f\\xa9%0\\xe7\\xc0n\\xa6\\xaf\\x1f\\xc43\\x84\\xd7\\x1a\\xf3\\x96\\xbf\\xfa\\xa1U\\xa6\\xa3\\x8e\\xfc\\xc9\\xe6\\xad\\xea\\x0bw\\xb2\\xc0\\xa1$\\xd8\\xd9\\xeb\\xec$\\x84\\xdes|\\x12\\xfd\\x9fC\\n\\x13$\\xc8t\\xad\\x94\\x1f[\\xf0\\x93\\x9c\\xf5\\xbdr\\xa6\\x96\\xb4\\xe0\\xff\\x0bI\\xa0\\xfaJ8\\xd0\\x19\\xb3\\xff\\xd5\\xe9\\xd1!\\x01\\xd4\\xa8M-\\xec\\xb7\\x88\\x807\\x16\\x87\\x0f\\xc6\\xff\\xc7!\\x00\\xc8\\x88\\xa2\\xbf\\x19q,\\x92\\x9c\\xa7\\xe3\\xc5T\\xbd|\"\n"
     ]
    }
   ],
   "source": [
    "# CREATE MESSAGE FOR MARCELL\n",
    "\n",
    "from Cryptodome.PublicKey import RSA\n",
    "from Cryptodome.Cipher import PKCS1_OAEP\n",
    "import pathlib\n",
    "\n",
    "# Define your project folder path\n",
    "PROJECT_FOLDER_MARCELL = Path(\"/workspaces/DE2_HW1_GROUP/MARCELL\")\n",
    "\n",
    "# Load your public key\n",
    "PRIVATE_KEY_FILE = PROJECT_FOLDER_MARCELL / \"my_keypair.pub\"  # Corrected file path\n",
    "with open(PRIVATE_KEY_FILE, \"r\") as key_file:\n",
    "    private_key = RSA.import_key(key_file.read())\n",
    "public_key_marcell = private_key.publickey()\n",
    "\n",
    "# Your secret message\n",
    "short_secret_message_marcell = \"Hey, Marcell! Thank you for visiting CEU's website. We hope to see you again soon!\".encode(\"utf-8\")\n",
    "\n",
    "# Encrypt the message with the public key\n",
    "public_key_cipher = PKCS1_OAEP.new(public_key_marcell)\n",
    "encrypted_message_marcell = public_key_cipher.encrypt(short_secret_message_marcell)\n",
    "\n",
    "# Output the encrypted message\n",
    "print(f\"Encrypted message: {encrypted_message_marcell}\")\n",
    "\n",
    "# Save the encrypted message to a file\n",
    "ENCRYPTED_MESSAGE_FILE = PROJECT_FOLDER_MARCELL / \"FROM_CEU_encrypted_message.bin\"\n",
    "with open(ENCRYPTED_MESSAGE_FILE, \"wb\") as f:\n",
    "    f.write(encrypted_message_marcell)"
   ]
  },
  {
   "cell_type": "code",
   "execution_count": 3,
   "id": "a318bb66-2cd3-4849-8aa4-3910521b6d62",
   "metadata": {
    "tags": []
   },
   "outputs": [
    {
     "name": "stdout",
     "output_type": "stream",
     "text": [
      "Encrypted message: b\"\\x82lZ\\x1bXx\\xcb\\xbc\\xd5\\xee\\x0e\\xf2\\xe7mW5H8D\\xf0=\\xd1\\x08\\x10;\\x18\\xdf\\xdd\\x11\\x8c\\xfe\\x94J`\\\\8\\xb2\\x9e\\xa9\\xe2\\xeb\\xe1\\xdbD\\x14\\xc6\\xdd\\x06\\x08\\x8b4\\xbb}\\xef>&\\x0fT\\xa0\\xc8\\\\I\\x13\\x11\\x02\\xd7z\\x96K\\t\\x8e\\x97\\xeePo\\xbb\\xbd\\xdc\\x02^\\x81.\\x17\\xa0\\x94.\\xc6\\xbf\\xc1\\xef\\xe8\\xa4$LhWw\\xbb\\xf9\\x02\\xcc+\\xfaQ%x5\\xa1\\xc2\\xc6\\x8d\\xaa\\x83\\xd4\\nnK\\xb3\\x93\\xf8\\xb0\\x1e\\x95\\xd6\\x93\\xfcr\\x0e+\\x87\\x81U'\\xc9\\xbaX\\x90\\xf2\\xf7<\\xe5?r\\x03{\\x1dQ\\xd1\\xb9<\\xe0,\\xfd\\x17\\xa4\\x0c\\x98\\x85F\\x80%\\x8c^\\xa0\\x9d\\xaeNA\\x94\\xa5\\x96\\x1b=k\\xa9\\xdf\\xbc\\x85k'\\xb0\\xd7N\\xe0\\xfb\\x8b\\xb4\\xb0\\rYU\\x1646\\xde\\x01\\xeb\\xfc\\x98\\x83`\\xf4\\xb0\\x00y\\xe4\\xd6|C\\xc7\\\\\\x05\\n!\\x08sq\\x9b\\x89\\xff\\x9f\\xceJ\\xc18\\x80\\x9eV\\xfb\\xd9\\xc7\\xae\\xcf\\xbaLI~\\x92\\x1c\\xc9\\x1a\\xac\\x8a\\xa7\\x8cssT\\xab@\\xe7\\x1b\\x92\\r\\x93\\x9d9\\xd8!\\xac\\xcc\\xa8\\xdbP\\x01\\xb8\\xe9\\x88\\xb3\\xa9\\xed\\xb6\\x1d\\xf1\\xbb\\x8e)\\xd4/<\\xad\\xf0\\x1d~\\x8a\\xbc\\xd1\\xa1x\\xe2\\xbdNR\\xf5\\xfe\\xdbx<\\xd2\\r\\xf2\\x00z\\r7\\x1aRZx\\xcd\\xbfP\\xdb\\xe5\\xf9S\\xde8i\\xfa\\x82\\x0fP\\xae_\\xc8\\xe8\\xab\\xea\\xea\\xeb\\xa8%0\\xab'\\xda9\\xb6\\xf8\\xa1\\xafa\\x13\\xc9\\xdcw3\\x9b\\xe1+\\xb9\\xde.\\xcb\\xae\\x0c)\\xf1u\\xbb\\x92#K-\\x94\\xf2\\xec\\xacb\\x8f5\\x8f\\x0f8F\\x91\\xdf\\x07\\xcf\\xf4\\xd2Ej\"\n"
     ]
    }
   ],
   "source": [
    "# CREATE MESSAGE FOR ARBASH\n",
    "\n",
    "from Cryptodome.PublicKey import RSA\n",
    "from Cryptodome.Cipher import PKCS1_OAEP\n",
    "import pathlib\n",
    "\n",
    "# Define your project folder path\n",
    "PROJECT_FOLDER_ARBASH = Path(\"/workspaces/DE2_HW1_GROUP/ARBASH\")\n",
    "\n",
    "# Load your public key\n",
    "PRIVATE_KEY_FILE_ARBASH = PROJECT_FOLDER_ARBASH / \"my_keypair.pub\"  # Corrected file path\n",
    "with open(PRIVATE_KEY_FILE_ARBASH, \"r\") as key_file:\n",
    "    private_key = RSA.import_key(key_file.read())\n",
    "public_key_arbash = private_key.publickey()\n",
    "\n",
    "# Your secret message\n",
    "short_secret_message_Arbash = \"Hey, Arbash! Thank you for visiting CEU's website. Sorry, we cannot give you free money, but with our education, you can achieve your dreams! Have a nice day!\".encode(\"utf-8\")\n",
    "\n",
    "# Encrypt the message with the public key\n",
    "public_key_cipher = PKCS1_OAEP.new(public_key_arbash)\n",
    "encrypted_message_arbash = public_key_cipher.encrypt(short_secret_message_Arbash)\n",
    "\n",
    "# Output the encrypted message\n",
    "print(f\"Encrypted message: {encrypted_message_arbash}\")\n",
    "\n",
    "# Save the encrypted message to a file\n",
    "ENCRYPTED_MESSAGE_FILE = PROJECT_FOLDER_ARBASH / \"FROM_CEU_encrypted_message.bin\"\n",
    "with open(ENCRYPTED_MESSAGE_FILE, \"wb\") as f:\n",
    "    f.write(encrypted_message_arbash)"
   ]
  },
  {
   "cell_type": "code",
   "execution_count": 20,
   "metadata": {},
   "outputs": [
    {
     "name": "stdout",
     "output_type": "stream",
     "text": [
      "Decrypted message: Hi CEU! This is my encryted message.\n"
     ]
    }
   ],
   "source": [
    "# DECRYPT MESSAGE FROM MARCELL\n",
    "\n",
    "from Cryptodome.Cipher import PKCS1_OAEP\n",
    "from Cryptodome.PublicKey import RSA\n",
    "from pathlib import Path\n",
    "\n",
    "# Set up the paths\n",
    "PROJECT_FOLDER = Path(\"/workspaces/DE2_HW1_GROUP/CEU\")\n",
    "PRIVATE_KEY_PATH = PROJECT_FOLDER / \"my_keypair\"  # Adjust with your actual private key file path\n",
    "ENCRYPTED_MESSAGE_MARCELL = PROJECT_FOLDER / \"encrypted_message_to_CEU_Marcell.bin\"\n",
    "\n",
    "# Load the private key\n",
    "with open(PRIVATE_KEY_PATH, 'rb') as private_file:\n",
    "    private_key = RSA.import_key(private_file.read())\n",
    "\n",
    "# Decrypt the message\n",
    "with open(ENCRYPTED_MESSAGE_MARCELL, \"rb\") as f:\n",
    "    encrypted_message_from_file = f.read()\n",
    "\n",
    "private_key_cipher = PKCS1_OAEP.new(private_key)\n",
    "try:\n",
    "    decrypted_message_marcell = private_key_cipher.decrypt(encrypted_message_from_file)\n",
    "    print(f\"Decrypted message: {decrypted_message_marcell.decode('utf-8')}\")\n",
    "except ValueError as e:\n",
    "    print(f\"Decryption failed: {e}\")\n",
    "\n",
    "# Save the decrypted message to a file\n",
    "DECRYPTED_MESSAGE_FILE_MARCELL = PROJECT_FOLDER / \"decrypted_message_Marcell.bin\"\n",
    "with open(DECRYPTED_MESSAGE_FILE_MARCELL, \"wb\") as f:\n",
    "    f.write(decrypted_message_marcell)\n"
   ]
  },
  {
   "cell_type": "code",
   "execution_count": 21,
   "id": "fc349c4b-696f-4ba4-a971-a3d9d42931ea",
   "metadata": {},
   "outputs": [
    {
     "name": "stdout",
     "output_type": "stream",
     "text": [
      "Decrypted message: Hey, CEU! Please give me money\n"
     ]
    }
   ],
   "source": [
    "# DECRYPT MESSAGE FROM ARBASH\n",
    "\n",
    "from Cryptodome.Cipher import PKCS1_OAEP\n",
    "from Cryptodome.PublicKey import RSA\n",
    "from pathlib import Path\n",
    "\n",
    "# Set up the paths\n",
    "PROJECT_FOLDER = Path(\"/workspaces/DE2_HW1_GROUP/CEU\")\n",
    "PRIVATE_KEY_PATH = PROJECT_FOLDER / \"my_keypair\"  # Adjust with your actual private key file path\n",
    "ENCRYPTED_MESSAGE_ARBASH = PROJECT_FOLDER / \"arbash_to_ceu_encrypted_message.bin\"\n",
    "\n",
    "# Load the private key\n",
    "with open(PRIVATE_KEY_PATH, 'rb') as private_file:\n",
    "    private_key = RSA.import_key(private_file.read())\n",
    "\n",
    "# Decrypt the message\n",
    "with open(ENCRYPTED_MESSAGE_ARBASH, \"rb\") as f:\n",
    "    encrypted_message_from_file = f.read()\n",
    "\n",
    "private_key_cipher = PKCS1_OAEP.new(private_key)\n",
    "try:\n",
    "    decrypted_message_arbash = private_key_cipher.decrypt(encrypted_message_from_file)\n",
    "    print(f\"Decrypted message: {decrypted_message_arbash.decode('utf-8')}\")\n",
    "except ValueError as e:\n",
    "    print(f\"Decryption failed: {e}\")\n",
    "\n",
    "# Save the decrypted message to a file\n",
    "DECRYPTED_MESSAGE_FILE_MARCELL = PROJECT_FOLDER / \"decrypted_message_Arbash.bin\"\n",
    "with open(DECRYPTED_MESSAGE_FILE_MARCELL, \"wb\") as f:\n",
    "    f.write(decrypted_message_arbash)"
   ]
  },
  {
   "cell_type": "code",
   "execution_count": null,
   "metadata": {},
   "outputs": [],
   "source": []
  }
 ],
 "metadata": {
  "kernelspec": {
   "display_name": "Python 3 (ipykernel)",
   "language": "python",
   "name": "python3"
  },
  "language_info": {
   "codemirror_mode": {
    "name": "ipython",
    "version": 3
   },
   "file_extension": ".py",
   "mimetype": "text/x-python",
   "name": "python",
   "nbconvert_exporter": "python",
   "pygments_lexer": "ipython3",
   "version": "3.10.8"
  }
 },
 "nbformat": 4,
 "nbformat_minor": 5
}
