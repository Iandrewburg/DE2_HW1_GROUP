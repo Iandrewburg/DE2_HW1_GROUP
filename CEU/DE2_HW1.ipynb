{
 "cells": [
  {
   "cell_type": "code",
   "execution_count": 1,
   "id": "0cec42c5-dde2-427c-88ba-00bbd2dd0e23",
   "metadata": {
    "tags": []
   },
   "outputs": [
    {
     "name": "stdout",
     "output_type": "stream",
     "text": [
      "Collecting pycryptodomex\n",
      "  Downloading pycryptodomex-3.19.0-cp35-abi3-manylinux_2_17_x86_64.manylinux2014_x86_64.whl.metadata (3.4 kB)\n",
      "Downloading pycryptodomex-3.19.0-cp35-abi3-manylinux_2_17_x86_64.manylinux2014_x86_64.whl (2.1 MB)\n",
      "\u001b[2K   \u001b[90m━━━━━━━━━━━━━━━━━━━━━━━━━━━━━━━━━━━━━━━━\u001b[0m \u001b[32m2.1/2.1 MB\u001b[0m \u001b[31m9.9 MB/s\u001b[0m eta \u001b[36m0:00:00\u001b[0m:00:01\u001b[0m\n",
      "\u001b[?25hInstalling collected packages: pycryptodomex\n",
      "Successfully installed pycryptodomex-3.19.0\n"
     ]
    }
   ],
   "source": [
    "!pip install pycryptodomex"
   ]
  },
  {
   "cell_type": "code",
   "execution_count": 2,
   "id": "348aa8e2-4de8-44da-84af-d358e617ead8",
   "metadata": {
    "tags": []
   },
   "outputs": [
    {
     "name": "stdout",
     "output_type": "stream",
     "text": [
      "/workspaces/DE2_HW1_GROUP/CEU/my_keypair\n",
      "/workspaces/DE2_HW1_GROUP/CEU/my_keypair.pub\n"
     ]
    }
   ],
   "source": [
    "from pathlib import Path\n",
    "\n",
    "from Cryptodome.Cipher import PKCS1_OAEP\n",
    "from Cryptodome.PublicKey import RSA\n",
    "\n",
    "PROJECT_FOLDER = Path(\"/workspaces/DE2_HW1_GROUP/CEU\")\n",
    "# PROJECT_FOLDER = Path(\"C:\\\\Users\\\\iandr\\\\masters_coding\\\\First Semester\\\\Data Engineering 2\\\\PROJECT_FOLDER\")\n",
    "\n",
    "PRIVATE_KEY_FILE = PROJECT_FOLDER / \"my_keypair\"\n",
    "PUBLIC_KEY_FILE = PROJECT_FOLDER / \"my_keypair.pub\"\n",
    "# PUBLIC_KEY_FILE = Path(\"C:\\\\Users\\\\iandr\\\\masters_coding\\\\First Semester\\\\Data Engineering 2\\\\PROJECT_FOLDER\\\\PRIVATE_KEY_FILE\\\\my_keypair.pub\")\n",
    "\n",
    "print(PRIVATE_KEY_FILE)\n",
    "print(PUBLIC_KEY_FILE)\n",
    "\n",
    "assert Path.exists(PRIVATE_KEY_FILE)\n",
    "assert Path.exists(PUBLIC_KEY_FILE)"
   ]
  },
  {
   "cell_type": "code",
   "execution_count": 4,
   "metadata": {},
   "outputs": [
    {
     "name": "stdout",
     "output_type": "stream",
     "text": [
      "Encrypted message: b'\\x06O\\xb9\\xa8\\x85\\x19\\xeb\\xa9\\xd0\\xf7\\xc1\\xfd\\xa7\\x91\"P\\x1b\\xe7\\xc7\\xa6\\'\\xe6\\xba\\xf5\\xcf{\\xb27\\x84\\xc194Ta\\x1bJ\\xddR\\x83_Z\\xa3\\xca\\xb5\\x87\\xa5\\x03\\x95i\\x84V\\xd0\\xd2\\xd9V\\xa6\\xeeG\\x91\\x9bP(\\xaf\\x8f\\xb2k?\\x8c\\x1e\\x00\\xb7\\xb6U\\x12\\x8e\\xbe\\xc9T\\x80$TH\\x99\\xfey\\x85\\x19N\\x84\\x84FJ\\'\\xa0\\x08\\xdb}\\xcf\\x0e/*%GN\\xe3\\xc3\\xa3\\x9c\\xa1B\\xec\\xae\\xa9\\xcc\\x18\\xb6\\xac\\xd1\\xabO\\x01H\\xd4\\xcb3\\xf2b\\x97O.*\\x94\\xd2& \\xe8\\xe9d\\xa8@=4d\\x1e\\xa6\\r\\xa6\\x04][\\x9a)\\xea\\xc7~\\xbb\\x8fP\\xf2o\\x1cP\\xd4\\xb5\\x18\\x96\\xa7\\x98\\x97\\xd9\\xba\\xea\\x9eJA\\x0e>D\\x8e\\xa2\\xed\\x15\\xe8D|\\x94]\\xceG>\\xf9\\xa0\\xa3\\n\\xa9$\\x12\\xc9\\xcc\\xdf\\x9eI\\xaf\\xa1\\xd5\\xfeW\\x97\\xc2\\x19\\xb0\\xa1\\xc6\\x91\\xa9\\x89\\r<\\xfe\\xcf\\xe7\\xc4u?\\x9e\\xff\\x08\\x93\\x1e\\x10\\x1d+aG\\xad\\xdb\\xf5\\xc4\\x04\\xff/\\xb7\\xfb\\xc5\\xfb\\xca?\\xa6\\x8d\\x7f\\x87\\xf0q\\xcb|\\x1e^[\\xbfz\\x06$ I\\xadU\\xb6?\\x06\\x1a\\xb9\\n\\xea\\x03\\xba/F5\\xd4ul7\\xcaJJ\\x99\\x15L\\xee\\x95\\xd7+\\xa3\\x01\\x03\\x80C\\xf7\\xa4hJ\\x82\\xd5-\\xb9\\xb9\\xec\\x80\\xd3\\x021\\x17)\\x10\\x99lI\\xc5\\xe0E+6\\x98\\x9c\\x06D\\x89%\\x81Bn\\xac\\xdb\\xcb\\x9c\\xf4\\xf4$n_\\x8f\\xa7\\xc3\\xc4\\xe6\\x8e-\\xe0]m\\xaa\\xd9\\xef$\\xd0\\x7f\\xac\\xac\\x82\\xdcxI\\xb4d\\xf3s\\xbd\\xb6\\x8eH\\x88\\xda9\\xf6\\x1b\\xa0\\xde\\xf4 \\x1e\\xde\\x10t)'\n"
     ]
    }
   ],
   "source": [
    "# CREATE MESSAGE FOR MARCELL\n",
    "\n",
    "from Cryptodome.PublicKey import RSA\n",
    "from Cryptodome.Cipher import PKCS1_OAEP\n",
    "import pathlib\n",
    "\n",
    "# Define Marcell's folder path\n",
    "PROJECT_FOLDER_MARCELL = Path(\"/workspaces/DE2_HW1_GROUP/MARCELL\")\n",
    "\n",
    "# Load Marcell's public key\n",
    "PUBLIC_KEY_FILE_MARCELL = PROJECT_FOLDER_MARCELL / \"my_keypair.pub\"  # Corrected file path\n",
    "with open(PUBLIC_KEY_FILE_MARCELL, \"r\") as key_file:\n",
    "    private_key = RSA.import_key(key_file.read())\n",
    "public_key_marcell = private_key.publickey()\n",
    "\n",
    "# My secrete message for Marcell\n",
    "short_secret_message_marcell = \"Hey, Marcell! Thank you for visiting CEU's website. We hope to see you again soon!\".encode(\"utf-8\")\n",
    "\n",
    "# Encrypt the message with the Marcell's public key\n",
    "public_key_cipher = PKCS1_OAEP.new(public_key_marcell)\n",
    "encrypted_message_marcell = public_key_cipher.encrypt(short_secret_message_marcell)\n",
    "\n",
    "# Output the encrypted message for Marcell\n",
    "print(f\"Encrypted message: {encrypted_message_marcell}\")\n",
    "\n",
    "# Save Marcell's encrypted message to a file\n",
    "ENCRYPTED_MESSAGE_FILE_MARCELL = PROJECT_FOLDER_MARCELL / \"FROM_CEU_encrypted_message.bin\"\n",
    "with open(ENCRYPTED_MESSAGE_FILE_MARCELL, \"wb\") as f:\n",
    "    f.write(encrypted_message_marcell)"
   ]
  },
  {
   "cell_type": "code",
   "execution_count": 8,
   "id": "a318bb66-2cd3-4849-8aa4-3910521b6d62",
   "metadata": {
    "tags": []
   },
   "outputs": [
    {
     "name": "stdout",
     "output_type": "stream",
     "text": [
      "Encrypted message: b'\\x81N\\x80\\xfaP|\\x01T\\xac^\\xd2a\\x9c\\xa6\\x11q\\xa8/\\xc7@\\x9c\\xa50b\\x93\\xb9;#\\x0bp8\\x93\\xfe\\xd8\\x1d$\\xa4\\xe3\\x8e1W\\x1f@\\xa7Kc\\xb4\\x84\\x18\\x0b\\x8b\\xe3\\xc3 \\xf8QH-!\\x17\\xda\\x08\\xa8\\xdd;@i\\xbc`\\x8b\\xc0E\\xf6N\\x04<\\xe5<\\xa8\"\\xba\\xf6\\x8c\\xa9\\x1dUR\\xe9\\xec\\xceo<O\\xe6\\x07~\\xc5\\xe0j\\n7\\xc5\\x19\\xa5\\xe9\\xd7\\x06\\x84\\x99=5\\xff\\x95}\\xa8P4j\\xf1\\xae\\x9f\\x88\\xa4\\r\\x0c\\xe3\\x03\\x90S\\x1cy\\xb0#\\xc4]\\xfc\\xd8m#\\xafD\\x95\\xd8-\\x94\\xa4\\xbef\\xbeqrD\\xf6\\xe7\\x1a\\xd2\\x12\\xe7\\xf2A\\xea\\xc6\\xb8\\x1c\\x10\\x1b\\xac\\x0f\\xc6\\x8d\\xc6\\xeb\\x89\\xc60\\x9fy\\x87\\xf5r\\xa6\\xf0\\xd0]_\\x9b\\xfdE\\x15Z\\x17\\n\\xaeO\\x0b\\xec\\xe2\\x16]\\x9a\\t\\xa0z\\x83\\x0e\\xb2\\xcc,/;\\xb2\\x85\\x08\\x9f\\xa4r\\xba\"\\xfb@\\xb9\\x8ay\\xdd\\x13\\xb1\\xcf:\\xd6\\x84~\\xcf\\xea\\x0e\\xa8?\\x11\\r\\x89^NI\\x0e;R?\\x065\\\\\\xcc\\xbb\\xd7Z\\xed\\xa1\\xea\\xb5V\\x9c\\x1e^w\\xaf|H/\\xad_\\x83\\xed\\xefRr\\x97\\xb7\\xafC\\x8a\\xfa\\xf2\\x9c\\x0f\\xd3\\x02\\x06\\xabZOq\\x01]v\\n7\\xbeeK\\xf8\\xcf\\xdf\\x8d\\x02\\x91h\\x9b\\x97u8\\xf1}\\xaf\\xea\\x87dHY\\xe3Y\\x19?\\xe2\\x8c\\x92K\\xcd\\x98\\x89\\xaa3Y5\\xac\\xcf>\\x85*\\xaf\\xd9T\\xb5|u7\\x94\\xba\\x98&CB\\xb5\\x8c+\\x90\\x1e\\xe5\\x81\\xa9\\xcf`\\xb26\\xbc\\xfc\\x8c\\xb9\\xfbv\\xcdb\\xa8z\\xd7\\x8d\\xef]\\x8e2\\xf5\\xb3\\xa5C&\\xd6\\xdc'\n"
     ]
    }
   ],
   "source": [
    "# CREATE MESSAGE FOR ARBASH\n",
    "\n",
    "from Cryptodome.PublicKey import RSA\n",
    "from Cryptodome.Cipher import PKCS1_OAEP\n",
    "import pathlib\n",
    "\n",
    "# Define Arbash's folder path\n",
    "PROJECT_FOLDER_ARBASH = Path(\"/workspaces/DE2_HW1_GROUP/ARBASH\")\n",
    "\n",
    "# Load Arbash's public key\n",
    "PUBLIC_KEY_FILE_ARBASH = PROJECT_FOLDER_ARBASH / \"my_keypair.pub\"  # Corrected file path\n",
    "with open(PUBLIC_KEY_FILE_ARBASH, \"r\") as key_file:\n",
    "    private_key = RSA.import_key(key_file.read())\n",
    "public_key_arbash = private_key.publickey()\n",
    "\n",
    "# My secret message for Arbash\n",
    "short_secret_message_Arbash = \"Hey, Arbash! Thank you for visiting CEU's website. Sorry, we cannot give you free money, but with our education, you can achieve your dreams! Have a nice day!\".encode(\"utf-8\")\n",
    "\n",
    "# Encrypt the message with Arbash's public key\n",
    "public_key_cipher = PKCS1_OAEP.new(public_key_arbash)\n",
    "encrypted_message_arbash = public_key_cipher.encrypt(short_secret_message_Arbash)\n",
    "\n",
    "# Output the encrypted message for Arbash\n",
    "print(f\"Encrypted message: {encrypted_message_arbash}\")\n",
    "\n",
    "# Save Arbash'S encrypted message to a file\n",
    "ENCRYPTED_MESSAGE_FILE_ARBASH = PROJECT_FOLDER_ARBASH / \"FROM_CEU_encrypted_message.bin\"\n",
    "with open(ENCRYPTED_MESSAGE_FILE_ARBASH, \"wb\") as f:\n",
    "    f.write(encrypted_message_arbash)"
   ]
  },
  {
   "cell_type": "code",
   "execution_count": 6,
   "metadata": {},
   "outputs": [
    {
     "name": "stdout",
     "output_type": "stream",
     "text": [
      "Decrypted message: Hi CEU! This is my encryted message.\n"
     ]
    }
   ],
   "source": [
    "# DECRYPT MESSAGE FROM MARCELL\n",
    "\n",
    "from Cryptodome.Cipher import PKCS1_OAEP\n",
    "from Cryptodome.PublicKey import RSA\n",
    "from pathlib import Path\n",
    "\n",
    "# Set up the paths\n",
    "PROJECT_FOLDER = Path(\"/workspaces/DE2_HW1_GROUP/CEU\")\n",
    "PRIVATE_KEY_PATH = PROJECT_FOLDER / \"my_keypair\"  # Adjust with your actual private key file path\n",
    "ENCRYPTED_MESSAGE_MARCELL = PROJECT_FOLDER / \"encrypted_message_to_CEU_Marcell.bin\"\n",
    "\n",
    "# Load the private key\n",
    "with open(PRIVATE_KEY_PATH, 'rb') as private_file:\n",
    "    private_key = RSA.import_key(private_file.read())\n",
    "\n",
    "# Decrypt the message\n",
    "with open(ENCRYPTED_MESSAGE_MARCELL, \"rb\") as f:\n",
    "    encrypted_message_from_file = f.read()\n",
    "\n",
    "private_key_cipher = PKCS1_OAEP.new(private_key)\n",
    "try:\n",
    "    decrypted_message_marcell = private_key_cipher.decrypt(encrypted_message_from_file)\n",
    "    print(f\"Decrypted message: {decrypted_message_marcell.decode('utf-8')}\")\n",
    "except ValueError as e:\n",
    "    print(f\"Decryption failed: {e}\")\n",
    "\n",
    "# Save the decrypted message to a file\n",
    "DECRYPTED_MESSAGE_FILE_MARCELL = PROJECT_FOLDER / \"decrypted_message_Marcell.bin\"\n",
    "with open(DECRYPTED_MESSAGE_FILE_MARCELL, \"wb\") as f:\n",
    "    f.write(decrypted_message_marcell)\n"
   ]
  },
  {
   "cell_type": "code",
   "execution_count": 7,
   "id": "fc349c4b-696f-4ba4-a971-a3d9d42931ea",
   "metadata": {},
   "outputs": [
    {
     "name": "stdout",
     "output_type": "stream",
     "text": [
      "Decrypted message: Hey, CEU! Please give me money\n"
     ]
    }
   ],
   "source": [
    "# DECRYPT MESSAGE FROM ARBASH\n",
    "\n",
    "from Cryptodome.Cipher import PKCS1_OAEP\n",
    "from Cryptodome.PublicKey import RSA\n",
    "from pathlib import Path\n",
    "\n",
    "# Set up the paths\n",
    "PROJECT_FOLDER = Path(\"/workspaces/DE2_HW1_GROUP/CEU\")\n",
    "PRIVATE_KEY_PATH = PROJECT_FOLDER / \"my_keypair\"  # Adjust with your actual private key file path\n",
    "ENCRYPTED_MESSAGE_ARBASH = PROJECT_FOLDER / \"arbash_to_ceu_encrypted_message.bin\"\n",
    "\n",
    "# Load the private key\n",
    "with open(PRIVATE_KEY_PATH, 'rb') as private_file:\n",
    "    private_key = RSA.import_key(private_file.read())\n",
    "\n",
    "# Decrypt the message\n",
    "with open(ENCRYPTED_MESSAGE_ARBASH, \"rb\") as f:\n",
    "    encrypted_message_from_file = f.read()\n",
    "\n",
    "private_key_cipher = PKCS1_OAEP.new(private_key)\n",
    "try:\n",
    "    decrypted_message_arbash = private_key_cipher.decrypt(encrypted_message_from_file)\n",
    "    print(f\"Decrypted message: {decrypted_message_arbash.decode('utf-8')}\")\n",
    "except ValueError as e:\n",
    "    print(f\"Decryption failed: {e}\")\n",
    "\n",
    "# Save the decrypted message to a file\n",
    "DECRYPTED_MESSAGE_FILE_MARCELL = PROJECT_FOLDER / \"decrypted_message_Arbash.bin\"\n",
    "with open(DECRYPTED_MESSAGE_FILE_MARCELL, \"wb\") as f:\n",
    "    f.write(decrypted_message_arbash)"
   ]
  },
  {
   "cell_type": "code",
   "execution_count": null,
   "metadata": {},
   "outputs": [],
   "source": []
  },
  {
   "cell_type": "code",
   "execution_count": null,
   "metadata": {},
   "outputs": [],
   "source": []
  }
 ],
 "metadata": {
  "kernelspec": {
   "display_name": "Python 3 (ipykernel)",
   "language": "python",
   "name": "python3"
  },
  "language_info": {
   "codemirror_mode": {
    "name": "ipython",
    "version": 3
   },
   "file_extension": ".py",
   "mimetype": "text/x-python",
   "name": "python",
   "nbconvert_exporter": "python",
   "pygments_lexer": "ipython3",
   "version": "3.10.8"
  }
 },
 "nbformat": 4,
 "nbformat_minor": 5
}
