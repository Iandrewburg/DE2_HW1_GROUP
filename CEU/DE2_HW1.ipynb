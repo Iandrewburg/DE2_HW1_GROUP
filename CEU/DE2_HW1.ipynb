{
 "cells": [
  {
   "cell_type": "code",
   "execution_count": 1,
   "id": "0cec42c5-dde2-427c-88ba-00bbd2dd0e23",
   "metadata": {
    "tags": []
   },
   "outputs": [
    {
     "name": "stdout",
     "output_type": "stream",
     "text": [
      "Collecting pycryptodomex\n",
      "  Downloading pycryptodomex-3.19.0-cp35-abi3-manylinux_2_17_x86_64.manylinux2014_x86_64.whl.metadata (3.4 kB)\n",
      "Downloading pycryptodomex-3.19.0-cp35-abi3-manylinux_2_17_x86_64.manylinux2014_x86_64.whl (2.1 MB)\n",
      "\u001b[2K   \u001b[90m━━━━━━━━━━━━━━━━━━━━━━━━━━━━━━━━━━━━━━━━\u001b[0m \u001b[32m2.1/2.1 MB\u001b[0m \u001b[31m9.9 MB/s\u001b[0m eta \u001b[36m0:00:00\u001b[0m:00:01\u001b[0m\n",
      "\u001b[?25hInstalling collected packages: pycryptodomex\n",
      "Successfully installed pycryptodomex-3.19.0\n"
     ]
    }
   ],
   "source": [
    "!pip install pycryptodomex"
   ]
  },
  {
   "cell_type": "code",
   "execution_count": 1,
   "id": "348aa8e2-4de8-44da-84af-d358e617ead8",
   "metadata": {
    "tags": []
   },
   "outputs": [
    {
     "name": "stdout",
     "output_type": "stream",
     "text": [
      "/workspaces/DE2_HW1_GROUP/CEU/my_keypair\n",
      "/workspaces/DE2_HW1_GROUP/CEU/my_keypair.pub\n"
     ]
    }
   ],
   "source": [
    "from pathlib import Path\n",
    "\n",
    "from Cryptodome.Cipher import PKCS1_OAEP\n",
    "from Cryptodome.PublicKey import RSA\n",
    "\n",
    "PROJECT_FOLDER = Path(\"/workspaces/DE2_HW1_GROUP/CEU\")\n",
    "# PROJECT_FOLDER = Path(\"C:\\\\Users\\\\iandr\\\\masters_coding\\\\First Semester\\\\Data Engineering 2\\\\PROJECT_FOLDER\")\n",
    "\n",
    "PRIVATE_KEY_FILE = PROJECT_FOLDER / \"my_keypair\"\n",
    "PUBLIC_KEY_FILE = PROJECT_FOLDER / \"my_keypair.pub\"\n",
    "# PUBLIC_KEY_FILE = Path(\"C:\\\\Users\\\\iandr\\\\masters_coding\\\\First Semester\\\\Data Engineering 2\\\\PROJECT_FOLDER\\\\PRIVATE_KEY_FILE\\\\my_keypair.pub\")\n",
    "\n",
    "print(PRIVATE_KEY_FILE)\n",
    "print(PUBLIC_KEY_FILE)\n",
    "\n",
    "assert Path.exists(PRIVATE_KEY_FILE)\n",
    "assert Path.exists(PUBLIC_KEY_FILE)"
   ]
  },
  {
   "cell_type": "code",
   "execution_count": 17,
   "metadata": {},
   "outputs": [
    {
     "name": "stdout",
     "output_type": "stream",
     "text": [
      "Encrypted message: b\"\\x1f}\\x0bZ\\xd9\\xf7\\xfcO\\xf2\\x1f\\x19q\\x9a2\\x9a\\xdb\\xef\\xf9\\x96\\xe5^\\xc9\\xae\\xf0\\xcb`M\\x9f\\x83K\\xb8\\xaf\\x1f}\\xd0T\\xb0\\x81_\\x04\\xb1\\xbe\\xf8\\x88\\x88\\x03vM\\xf4Q@\\xe1\\xa2v|kxl\\x12\\xf4\\xc0\\x84\\x8d\\x13\\x14\\xc4\\xa9\\xf9\\xb4q\\xd9R\\x14,\\x9bfL\\x19\\xf6_k\\xb7\\x93\\x8c\\x16\\x97\\xfa\\x87\\x85z\\xda\\x9f$\\xa0\\xb9jr95\\xe4\\xa8/\\x00\\xf0|d@\\x08W\\x98\\xa3\\x03\\x8d\\x16sh\\xa8\\x1f^p\\xd4%\\xa9\\xf5\\xef\\x16\\x82\\x88.*\\x16\\x94\\x1fM\\xb6T\\xa8\\xafc\\x95\\xcfT\\xd8 \\xdc\\x9c|\\x8db\\xad'w\\xef\\x9d\\x1f\\xb5=\\xde\\x1f\\x123Z\\x1e\\xcf\\xbb{y\\x1e\\xb6\\x16tQwX\\xfc\\x9b\\xd4Z\\xdeB\\xaf\\xc6\\x8f@\\x9f\\xa9\\x87y\\xc3\\x8c1\\x93\\x8f\\xf0\\xd0/\\xb0\\xd4\\x9d^&\\xd3T\\xb6,\\x93\\x92\\xa3%\\x8d\\x97\\x16VFN\\xe6f\\xe7\\xd5\\x05(\\xd1,\\x8a\\xfd\\xda\\xb0\\xe9\\xf2\\x91D\\xc5\\xe0\\x9a\\xa7\\xe2Fc\\x1d\\xc39.*D\\xe0\\x9d\\xec\\xe0\\x8e\\xca?\\xe4\\xc0\\xb2\\xb5\\xf7\\xb4\\xd3\\xc1\\xea\\xdf\\xb2\\x17\\xfd%\\xd5\\x1b<j\\x7f\\xa9%0\\xe7\\xc0n\\xa6\\xaf\\x1f\\xc43\\x84\\xd7\\x1a\\xf3\\x96\\xbf\\xfa\\xa1U\\xa6\\xa3\\x8e\\xfc\\xc9\\xe6\\xad\\xea\\x0bw\\xb2\\xc0\\xa1$\\xd8\\xd9\\xeb\\xec$\\x84\\xdes|\\x12\\xfd\\x9fC\\n\\x13$\\xc8t\\xad\\x94\\x1f[\\xf0\\x93\\x9c\\xf5\\xbdr\\xa6\\x96\\xb4\\xe0\\xff\\x0bI\\xa0\\xfaJ8\\xd0\\x19\\xb3\\xff\\xd5\\xe9\\xd1!\\x01\\xd4\\xa8M-\\xec\\xb7\\x88\\x807\\x16\\x87\\x0f\\xc6\\xff\\xc7!\\x00\\xc8\\x88\\xa2\\xbf\\x19q,\\x92\\x9c\\xa7\\xe3\\xc5T\\xbd|\"\n"
     ]
    }
   ],
   "source": [
    "# CREATE MESSAGE FOR MARCELL\n",
    "\n",
    "from Cryptodome.PublicKey import RSA\n",
    "from Cryptodome.Cipher import PKCS1_OAEP\n",
    "import pathlib\n",
    "\n",
    "# Define your project folder path\n",
    "PROJECT_FOLDER_MARCELL = Path(\"/workspaces/DE2_HW1_GROUP/MARCELL\")\n",
    "\n",
    "# Load your public key\n",
    "PRIVATE_KEY_FILE = PROJECT_FOLDER_MARCELL / \"my_keypair.pub\"  # Corrected file path\n",
    "with open(PRIVATE_KEY_FILE, \"r\") as key_file:\n",
    "    private_key = RSA.import_key(key_file.read())\n",
    "public_key_marcell = private_key.publickey()\n",
    "\n",
    "# Your secret message\n",
    "short_secret_message_marcell = \"Hey, Marcell! Thank you for visiting CEU's website. We hope to see you again soon!\".encode(\"utf-8\")\n",
    "\n",
    "# Encrypt the message with the public key\n",
    "public_key_cipher = PKCS1_OAEP.new(public_key_marcell)\n",
    "encrypted_message_marcell = public_key_cipher.encrypt(short_secret_message_marcell)\n",
    "\n",
    "# Output the encrypted message\n",
    "print(f\"Encrypted message: {encrypted_message_marcell}\")\n",
    "\n",
    "# Save the encrypted message to a file\n",
    "ENCRYPTED_MESSAGE_FILE = PROJECT_FOLDER_MARCELL / \"FROM_CEU_encrypted_message.bin\"\n",
    "with open(ENCRYPTED_MESSAGE_FILE, \"wb\") as f:\n",
    "    f.write(encrypted_message_marcell)"
   ]
  },
  {
   "cell_type": "code",
   "execution_count": 18,
   "id": "a318bb66-2cd3-4849-8aa4-3910521b6d62",
   "metadata": {
    "tags": []
   },
   "outputs": [
    {
     "name": "stdout",
     "output_type": "stream",
     "text": [
      "Encrypted message: b'\\x0f26s\\xd2\\xa6\\xf9;\\xde\\xb6|~,\\x0c\\xf9|l\\xa9%r\\xdfj\\xc3\\xed\\xd8\\x07\\x96\\xefo\\xbb)\\xf4\\xbd$\\xcc\\xf5\\xf2$\\x8f.\\xed\\x85\\xd9\\xde\\xebtqw9?\\xc1DI\\xc8\\xd1\\x93\\x9d\\xb0k;,\\xab4\\xe8\\xc6)5\\xe8\\xa9RD:\\xbd\\xb992\"\\xad\\xe0\\xc7\\xaeu\\x07|Tv~K\\xe2\\xfaB\\xc37S\\x97v\\xa9\\xe4\\x90M\\xa6\\xd6\\xef\\xb3\\x87\\x12E\\xb3\\xc1\\xf0y\\x9bA\\xca5\\xa4\\xdf\\xe1l\\xa0hs\\x85_\\xaf\\x18\\xfc\\xbb\\x19\\x00\\xed\\xce\\xa4\\xce\\xe9\\xe0\\xb9o\\xa4\\xfc\\xfb\\x8d\\x08;y\\x0e\\xfe\\xbfW\\xc7\\xd1v\\xa8\\xa5\\x11\\xd3Qc\\x9b\\xfckJ\\xf2\\xe6[\\xb56\\xdc\\x80\\x14\\xf4\\x84;V\\xe8\\xca\\x07\\xce\\x9d\\xb6\\x91z\\xe6\\xa5\\xf8\\x99\\xf8\\xb4I\\x85V\\xb1\\xb4\\xc1\\x96P\\x9c\\x15I~\\x17\\xdc\\xcao\\xe2\\x8cG\\xc6\\x19\\xbe*\\x1b\\xee\\x0f\\xe8\\xd6\\x17\\xa8F\\x9e\\xe5r\\xc0r\\x0f\\xb7?\\xb9\\x00GC\\xf6j\\x9d\\xd7\\xda\\xa7\\xfdY>]\\x964\\xe4aK\\xfd\\xcaF\\xaf\\x8c\\'k\\xd9\\x0b\\xe4%\\xa1\\x9f\\xa0\\x96\\x1d\\x862{\\xd52\\xf3\\xb4\\xb6\\x9e\\xf9\\x11=5\\x92\\xcel(\\x96\\n\\xcd\\xe3l\\xb7\\xd0h\\nhJ[\\x85\\xfb\\x14Lw\\x11\\xfc\\xd1\\xd35 !\\xa6\\x10W\"|F\\xb3N\\x16>i\\x9e\\xd6\\x81x\\x1b\\xd3)Z&\\xc8\\x9d\\xfc3\\xbb\\xf3\\x11vd:\\xf2\\xc0\\xf1L9g,\\x83B3\\x08\\xee\\x7f\\xef\\xb6\\xbfM\\x97CjS\\xc2\\xf7\\xe3\\x04\\xda\\xf7\\xf1\\xc3\\x9c\\x99<(\\xf7\\x7f\\xb8\\x1e\\xae\\x07R:\\x9d+_\\x94\\x9e\\x01c\\x84P\\xc3'\n"
     ]
    }
   ],
   "source": [
    "# CREATE MESSAGE FOR ARBASH\n",
    "\n",
    "from Cryptodome.PublicKey import RSA\n",
    "from Cryptodome.Cipher import PKCS1_OAEP\n",
    "import pathlib\n",
    "\n",
    "# Define your project folder path\n",
    "PROJECT_FOLDER_ARBASH = Path(\"/workspaces/DE2_HW1_GROUP/ARBASH\")\n",
    "\n",
    "# Load your public key\n",
    "PRIVATE_KEY_FILE_ARBASH = PROJECT_FOLDER_ARBASH / \"my_keypair.pub\"  # Corrected file path\n",
    "with open(PRIVATE_KEY_FILE_ARBASH, \"r\") as key_file:\n",
    "    private_key = RSA.import_key(key_file.read())\n",
    "public_key_arbash = private_key.publickey()\n",
    "\n",
    "# Your secret message\n",
    "short_secret_message_Arbash = \"Hey, Arbash! Thank you for visiting CEU's website. We hope to see you again soon!\".encode(\"utf-8\")\n",
    "\n",
    "# Encrypt the message with the public key\n",
    "public_key_cipher = PKCS1_OAEP.new(public_key)\n",
    "encrypted_message_arbash = public_key_cipher.encrypt(short_secret_message_Arbash)\n",
    "\n",
    "# Output the encrypted message\n",
    "print(f\"Encrypted message: {encrypted_message_arbash}\")\n",
    "\n",
    "# Save the encrypted message to a file\n",
    "ENCRYPTED_MESSAGE_FILE = PROJECT_FOLDER_ARBASH / \"FROM_CEU_encrypted_message.bin\"\n",
    "with open(ENCRYPTED_MESSAGE_FILE, \"wb\") as f:\n",
    "    f.write(encrypted_message_arbash)"
   ]
  },
  {
   "cell_type": "code",
   "execution_count": 20,
   "metadata": {},
   "outputs": [
    {
     "name": "stdout",
     "output_type": "stream",
     "text": [
      "Decrypted message: Hi CEU! This is my encryted message.\n"
     ]
    }
   ],
   "source": [
    "# DECRYPT MESSAGE FROM MARCELL\n",
    "\n",
    "from Cryptodome.Cipher import PKCS1_OAEP\n",
    "from Cryptodome.PublicKey import RSA\n",
    "from pathlib import Path\n",
    "\n",
    "# Set up the paths\n",
    "PROJECT_FOLDER = Path(\"/workspaces/DE2_HW1_GROUP/CEU\")\n",
    "PRIVATE_KEY_PATH = PROJECT_FOLDER / \"my_keypair\"  # Adjust with your actual private key file path\n",
    "ENCRYPTED_MESSAGE_MARCELL = PROJECT_FOLDER / \"encrypted_message_to_CEU_Marcell.bin\"\n",
    "\n",
    "# Load the private key\n",
    "with open(PRIVATE_KEY_PATH, 'rb') as private_file:\n",
    "    private_key = RSA.import_key(private_file.read())\n",
    "\n",
    "# Decrypt the message\n",
    "with open(ENCRYPTED_MESSAGE_MARCELL, \"rb\") as f:\n",
    "    encrypted_message_from_file = f.read()\n",
    "\n",
    "private_key_cipher = PKCS1_OAEP.new(private_key)\n",
    "try:\n",
    "    decrypted_message_marcell = private_key_cipher.decrypt(encrypted_message_from_file)\n",
    "    print(f\"Decrypted message: {decrypted_message_marcell.decode('utf-8')}\")\n",
    "except ValueError as e:\n",
    "    print(f\"Decryption failed: {e}\")\n",
    "\n",
    "# Save the decrypted message to a file\n",
    "DECRYPTED_MESSAGE_FILE_MARCELL = PROJECT_FOLDER / \"decrypted_message_Marcell.bin\"\n",
    "with open(DECRYPTED_MESSAGE_FILE_MARCELL, \"wb\") as f:\n",
    "    f.write(decrypted_message_marcell)\n"
   ]
  },
  {
   "cell_type": "code",
   "execution_count": 13,
   "id": "fc349c4b-696f-4ba4-a971-a3d9d42931ea",
   "metadata": {},
   "outputs": [
    {
     "ename": "ValueError",
     "evalue": "Incorrect decryption.",
     "output_type": "error",
     "traceback": [
      "\u001b[0;31m---------------------------------------------------------------------------\u001b[0m",
      "\u001b[0;31mValueError\u001b[0m                                Traceback (most recent call last)",
      "\u001b[1;32m/workspaces/DE2_HW1_GROUP/CEU/DE2_HW1.ipynb Cell 5\u001b[0m line \u001b[0;36m8\n\u001b[1;32m      <a href='vscode-notebook-cell://codespaces%2Bpotential-space-garbanzo-v6v57r9qvrxjcwv5/workspaces/DE2_HW1_GROUP/CEU/DE2_HW1.ipynb#W3sdnNjb2RlLXJlbW90ZQ%3D%3D?line=4'>5</a>\u001b[0m     encrypted_message_from_file \u001b[39m=\u001b[39m f\u001b[39m.\u001b[39mread()\n\u001b[1;32m      <a href='vscode-notebook-cell://codespaces%2Bpotential-space-garbanzo-v6v57r9qvrxjcwv5/workspaces/DE2_HW1_GROUP/CEU/DE2_HW1.ipynb#W3sdnNjb2RlLXJlbW90ZQ%3D%3D?line=6'>7</a>\u001b[0m private_key_cipher \u001b[39m=\u001b[39m PKCS1_OAEP\u001b[39m.\u001b[39mnew(private_key)\n\u001b[0;32m----> <a href='vscode-notebook-cell://codespaces%2Bpotential-space-garbanzo-v6v57r9qvrxjcwv5/workspaces/DE2_HW1_GROUP/CEU/DE2_HW1.ipynb#W3sdnNjb2RlLXJlbW90ZQ%3D%3D?line=7'>8</a>\u001b[0m decrypted_message \u001b[39m=\u001b[39m private_key_cipher\u001b[39m.\u001b[39;49mdecrypt(encrypted_message_from_file)\n\u001b[1;32m      <a href='vscode-notebook-cell://codespaces%2Bpotential-space-garbanzo-v6v57r9qvrxjcwv5/workspaces/DE2_HW1_GROUP/CEU/DE2_HW1.ipynb#W3sdnNjb2RlLXJlbW90ZQ%3D%3D?line=8'>9</a>\u001b[0m \u001b[39mprint\u001b[39m(\u001b[39mf\u001b[39m\u001b[39m\"\u001b[39m\u001b[39mDecrypted message: \u001b[39m\u001b[39m{\u001b[39;00mdecrypted_message\u001b[39m.\u001b[39mdecode(\u001b[39m'\u001b[39m\u001b[39mutf-8\u001b[39m\u001b[39m'\u001b[39m)\u001b[39m}\u001b[39;00m\u001b[39m\"\u001b[39m)\n\u001b[1;32m     <a href='vscode-notebook-cell://codespaces%2Bpotential-space-garbanzo-v6v57r9qvrxjcwv5/workspaces/DE2_HW1_GROUP/CEU/DE2_HW1.ipynb#W3sdnNjb2RlLXJlbW90ZQ%3D%3D?line=10'>11</a>\u001b[0m \u001b[39m# Save the encrypted message to a file\u001b[39;00m\n",
      "File \u001b[0;32m~/.python/current/lib/python3.10/site-packages/Cryptodome/Cipher/PKCS1_OAEP.py:200\u001b[0m, in \u001b[0;36mPKCS1OAEP_Cipher.decrypt\u001b[0;34m(self, ciphertext)\u001b[0m\n\u001b[1;32m    198\u001b[0m     invalid \u001b[39m|\u001b[39m\u001b[39m=\u001b[39m bord(x)\n\u001b[1;32m    199\u001b[0m \u001b[39mif\u001b[39;00m invalid \u001b[39m!=\u001b[39m \u001b[39m0\u001b[39m:\n\u001b[0;32m--> 200\u001b[0m     \u001b[39mraise\u001b[39;00m \u001b[39mValueError\u001b[39;00m(\u001b[39m\"\u001b[39m\u001b[39mIncorrect decryption.\u001b[39m\u001b[39m\"\u001b[39m)\n\u001b[1;32m    201\u001b[0m \u001b[39m# Step 4\u001b[39;00m\n\u001b[1;32m    202\u001b[0m \u001b[39mreturn\u001b[39;00m db[one_pos \u001b[39m+\u001b[39m \u001b[39m1\u001b[39m:]\n",
      "\u001b[0;31mValueError\u001b[0m: Incorrect decryption."
     ]
    }
   ],
   "source": [
    "# DECRYPT MESSAGE FROM ARBASH\n",
    "\n",
    "from Cryptodome.Cipher import PKCS1_OAEP\n",
    "from Cryptodome.PublicKey import RSA\n",
    "from pathlib import Path\n",
    "\n",
    "# Set up the paths\n",
    "PROJECT_FOLDER = Path(\"/workspaces/DE2_HW1_GROUP/CEU\")\n",
    "PRIVATE_KEY_PATH = PROJECT_FOLDER / \"my_keypair\"  # Adjust with your actual private key file path\n",
    "ENCRYPTED_MESSAGE_ARBASH = PROJECT_FOLDER / \"encrypted_message_to_CEU_Marcell.bin\"\n",
    "\n",
    "# Load the private key\n",
    "with open(PRIVATE_KEY_PATH, 'rb') as private_file:\n",
    "    private_key = RSA.import_key(private_file.read())\n",
    "\n",
    "# Decrypt the message\n",
    "with open(ENCRYPTED_MESSAGE_ARBASH, \"rb\") as f:\n",
    "    encrypted_message_from_file = f.read()\n",
    "\n",
    "private_key_cipher = PKCS1_OAEP.new(private_key)\n",
    "try:\n",
    "    decrypted_message_arbash = private_key_cipher.decrypt(encrypted_message_from_file)\n",
    "    print(f\"Decrypted message: {decrypted_message_arbash.decode('utf-8')}\")\n",
    "except ValueError as e:\n",
    "    print(f\"Decryption failed: {e}\")\n",
    "\n",
    "# Save the decrypted message to a file\n",
    "DECRYPTED_MESSAGE_FILE_MARCELL = PROJECT_FOLDER / \"decrypted_message_Arbash.bin\"\n",
    "with open(DECRYPTED_MESSAGE_FILE_MARCELL, \"wb\") as f:\n",
    "    f.write(decrypted_message_arbash)"
   ]
  }
 ],
 "metadata": {
  "kernelspec": {
   "display_name": "Python 3 (ipykernel)",
   "language": "python",
   "name": "python3"
  },
  "language_info": {
   "codemirror_mode": {
    "name": "ipython",
    "version": 3
   },
   "file_extension": ".py",
   "mimetype": "text/x-python",
   "name": "python",
   "nbconvert_exporter": "python",
   "pygments_lexer": "ipython3",
   "version": "3.10.8"
  }
 },
 "nbformat": 4,
 "nbformat_minor": 5
}
