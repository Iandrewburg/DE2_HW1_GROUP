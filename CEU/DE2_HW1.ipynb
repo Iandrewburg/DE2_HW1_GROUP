{
 "cells": [
  {
   "cell_type": "code",
   "execution_count": 1,
   "id": "0cec42c5-dde2-427c-88ba-00bbd2dd0e23",
   "metadata": {
    "tags": []
   },
   "outputs": [
    {
     "name": "stdout",
     "output_type": "stream",
     "text": [
      "Collecting pycryptodomex\n",
      "  Downloading pycryptodomex-3.19.0-cp35-abi3-manylinux_2_17_x86_64.manylinux2014_x86_64.whl.metadata (3.4 kB)\n",
      "Downloading pycryptodomex-3.19.0-cp35-abi3-manylinux_2_17_x86_64.manylinux2014_x86_64.whl (2.1 MB)\n",
      "\u001b[2K   \u001b[90m━━━━━━━━━━━━━━━━━━━━━━━━━━━━━━━━━━━━━━━━\u001b[0m \u001b[32m2.1/2.1 MB\u001b[0m \u001b[31m9.9 MB/s\u001b[0m eta \u001b[36m0:00:00\u001b[0m:00:01\u001b[0m\n",
      "\u001b[?25hInstalling collected packages: pycryptodomex\n",
      "Successfully installed pycryptodomex-3.19.0\n"
     ]
    }
   ],
   "source": [
    "!pip install pycryptodomex"
   ]
  },
  {
   "cell_type": "code",
   "execution_count": 1,
   "id": "348aa8e2-4de8-44da-84af-d358e617ead8",
   "metadata": {
    "tags": []
   },
   "outputs": [
    {
     "name": "stdout",
     "output_type": "stream",
     "text": [
      "/workspaces/DE2_HW1_GROUP/CEU/my_keypair\n",
      "/workspaces/DE2_HW1_GROUP/CEU/my_keypair.pub\n"
     ]
    }
   ],
   "source": [
    "from pathlib import Path\n",
    "\n",
    "from Cryptodome.Cipher import PKCS1_OAEP\n",
    "from Cryptodome.PublicKey import RSA\n",
    "\n",
    "PROJECT_FOLDER = Path(\"/workspaces/DE2_HW1_GROUP/CEU\")\n",
    "# PROJECT_FOLDER = Path(\"C:\\\\Users\\\\iandr\\\\masters_coding\\\\First Semester\\\\Data Engineering 2\\\\PROJECT_FOLDER\")\n",
    "\n",
    "PRIVATE_KEY_FILE = PROJECT_FOLDER / \"my_keypair\"\n",
    "PUBLIC_KEY_FILE = PROJECT_FOLDER / \"my_keypair.pub\"\n",
    "# PUBLIC_KEY_FILE = Path(\"C:\\\\Users\\\\iandr\\\\masters_coding\\\\First Semester\\\\Data Engineering 2\\\\PROJECT_FOLDER\\\\PRIVATE_KEY_FILE\\\\my_keypair.pub\")\n",
    "\n",
    "print(PRIVATE_KEY_FILE)\n",
    "print(PUBLIC_KEY_FILE)\n",
    "\n",
    "assert Path.exists(PRIVATE_KEY_FILE)\n",
    "assert Path.exists(PUBLIC_KEY_FILE)"
   ]
  },
  {
   "cell_type": "code",
   "execution_count": 17,
   "metadata": {},
   "outputs": [
    {
     "name": "stdout",
     "output_type": "stream",
     "text": [
      "Encrypted message: b\"\\x1f}\\x0bZ\\xd9\\xf7\\xfcO\\xf2\\x1f\\x19q\\x9a2\\x9a\\xdb\\xef\\xf9\\x96\\xe5^\\xc9\\xae\\xf0\\xcb`M\\x9f\\x83K\\xb8\\xaf\\x1f}\\xd0T\\xb0\\x81_\\x04\\xb1\\xbe\\xf8\\x88\\x88\\x03vM\\xf4Q@\\xe1\\xa2v|kxl\\x12\\xf4\\xc0\\x84\\x8d\\x13\\x14\\xc4\\xa9\\xf9\\xb4q\\xd9R\\x14,\\x9bfL\\x19\\xf6_k\\xb7\\x93\\x8c\\x16\\x97\\xfa\\x87\\x85z\\xda\\x9f$\\xa0\\xb9jr95\\xe4\\xa8/\\x00\\xf0|d@\\x08W\\x98\\xa3\\x03\\x8d\\x16sh\\xa8\\x1f^p\\xd4%\\xa9\\xf5\\xef\\x16\\x82\\x88.*\\x16\\x94\\x1fM\\xb6T\\xa8\\xafc\\x95\\xcfT\\xd8 \\xdc\\x9c|\\x8db\\xad'w\\xef\\x9d\\x1f\\xb5=\\xde\\x1f\\x123Z\\x1e\\xcf\\xbb{y\\x1e\\xb6\\x16tQwX\\xfc\\x9b\\xd4Z\\xdeB\\xaf\\xc6\\x8f@\\x9f\\xa9\\x87y\\xc3\\x8c1\\x93\\x8f\\xf0\\xd0/\\xb0\\xd4\\x9d^&\\xd3T\\xb6,\\x93\\x92\\xa3%\\x8d\\x97\\x16VFN\\xe6f\\xe7\\xd5\\x05(\\xd1,\\x8a\\xfd\\xda\\xb0\\xe9\\xf2\\x91D\\xc5\\xe0\\x9a\\xa7\\xe2Fc\\x1d\\xc39.*D\\xe0\\x9d\\xec\\xe0\\x8e\\xca?\\xe4\\xc0\\xb2\\xb5\\xf7\\xb4\\xd3\\xc1\\xea\\xdf\\xb2\\x17\\xfd%\\xd5\\x1b<j\\x7f\\xa9%0\\xe7\\xc0n\\xa6\\xaf\\x1f\\xc43\\x84\\xd7\\x1a\\xf3\\x96\\xbf\\xfa\\xa1U\\xa6\\xa3\\x8e\\xfc\\xc9\\xe6\\xad\\xea\\x0bw\\xb2\\xc0\\xa1$\\xd8\\xd9\\xeb\\xec$\\x84\\xdes|\\x12\\xfd\\x9fC\\n\\x13$\\xc8t\\xad\\x94\\x1f[\\xf0\\x93\\x9c\\xf5\\xbdr\\xa6\\x96\\xb4\\xe0\\xff\\x0bI\\xa0\\xfaJ8\\xd0\\x19\\xb3\\xff\\xd5\\xe9\\xd1!\\x01\\xd4\\xa8M-\\xec\\xb7\\x88\\x807\\x16\\x87\\x0f\\xc6\\xff\\xc7!\\x00\\xc8\\x88\\xa2\\xbf\\x19q,\\x92\\x9c\\xa7\\xe3\\xc5T\\xbd|\"\n"
     ]
    }
   ],
   "source": [
    "# CREATE MESSAGE FOR MARCELL\n",
    "\n",
    "from Cryptodome.PublicKey import RSA\n",
    "from Cryptodome.Cipher import PKCS1_OAEP\n",
    "import pathlib\n",
    "\n",
    "# Define your project folder path\n",
    "PROJECT_FOLDER_MARCELL = Path(\"/workspaces/DE2_HW1_GROUP/MARCELL\")\n",
    "\n",
    "# Load your public key\n",
    "PRIVATE_KEY_FILE = PROJECT_FOLDER_MARCELL / \"my_keypair.pub\"  # Corrected file path\n",
    "with open(PRIVATE_KEY_FILE, \"r\") as key_file:\n",
    "    private_key = RSA.import_key(key_file.read())\n",
    "public_key_marcell = private_key.publickey()\n",
    "\n",
    "# Your secret message\n",
    "short_secret_message_marcell = \"Hey, Marcell! Thank you for visiting CEU's website. We hope to see you again soon!\".encode(\"utf-8\")\n",
    "\n",
    "# Encrypt the message with the public key\n",
    "public_key_cipher = PKCS1_OAEP.new(public_key_marcell)\n",
    "encrypted_message_marcell = public_key_cipher.encrypt(short_secret_message_marcell)\n",
    "\n",
    "# Output the encrypted message\n",
    "print(f\"Encrypted message: {encrypted_message_marcell}\")\n",
    "\n",
    "# Save the encrypted message to a file\n",
    "ENCRYPTED_MESSAGE_FILE = PROJECT_FOLDER_MARCELL / \"FROM_CEU_encrypted_message.bin\"\n",
    "with open(ENCRYPTED_MESSAGE_FILE, \"wb\") as f:\n",
    "    f.write(encrypted_message_marcell)"
   ]
  },
  {
   "cell_type": "code",
   "execution_count": 22,
   "id": "a318bb66-2cd3-4849-8aa4-3910521b6d62",
   "metadata": {
    "tags": []
   },
   "outputs": [
    {
     "name": "stdout",
     "output_type": "stream",
     "text": [
      "Encrypted message: b'_\\xe8\\xa0\\x0e\\xde\\x1d\\xbb\\xe5\\xc4-\\xd1<\\xb9\\xf4\\xfd\\xba\\xfd\\x0f\\xbb~\\x12\\x97\\xe45zbjJAz)\\x1b\\x86\\xe1\\x980y\\x95\\xf1\\x14\\x9fe\\x9dNw\\xf7\\xc2\\x95\\x8c\\xcaj\\x84\\x0f{\\xb2\\x90\\x8b\\xc0\\r\\xef\\xd3h\\xd8\\xec yn\\xbcI6\\x81\\x01\\x9b\\x95\\x1f\\x84I\\x1d~j\\xff\\xfc\\xcc\\xb2\\x1f\\xdd\\x9bb\\xf6\\xdbeb:q.F\\xddz\\xd5\\xed:d\\xdc\\x00\\xfa\\x1b\\x89e \\xdc\\xe5\\xbd,w\\x82\\xab\\xd5\\x88\\xcd\\x8dw9\\x10]FG\\xbb\\x17<\\xd1.i/\\xd0\\xda0B\\xa8\\x872\\xed\\xe3x\\xef\\x91\\x9c(\\xd6\\xff\\xb5\\xe4#\\x7f\\xd1\\xba\\xa4\\xe7\\xea\\xf9S\\xac\\xf3T\\x9d\\xec[k\\x03P\\x14j\\x01\\x876\\xe0.%\\xa82\\\\\\xc2\\xaeW\\xce\\x06\\x04\\xad\\x06%Z\\xed\\x0e\\xd6\\x9e\\x00f\\x90\\xc6\\x9c\\n\\xfe\\xa5}N\\xaf}\\xd5\\xefZgJo\\x17\\x1e\\x85?\\x0b\\x19`-A\\r\\xda\\xfb\\xe9_\\xe9j%\\xfb\\x13\\xa0\\xc4\\xcf0y<4\\x14\\xea\\xe4k\\x10~\\xdaB\\x05\\x1b\\xc5i\\x80\\xdeD\\xeao\\xc1\\xf1\\xbfEQ\\xfc\\xean\"\\xadL\\xa0\\x9b(\\xed\\xc2rS\\x05\\xdcV2\\xbf\\xf7\\x1f\\x192\\x8f\\xb8\\x18\\x0c*\\xa7l\\xac\\xbb\\xd8\\xde>\\x87A\\xb3Y\\xff$w\\xa1\\xe2D\\xf3\\x98\\xd5\\xea\\xfa|F\\xca\\xe6\\x15\\xa3\\x0b\\xcf\\x95\\xd0\\xdf{\\xb1\\xee\\x17\\xd5.\\xc1\\xba/\\xe9\\xa7ST\\xca\\xde\\x0b\\xfa\\xb7\\xef\\xe1\\xcf\\xd2\\xcd\\xce\\x06\\xfcz\\xf7\\x80jc\\x91\\x16\\\\\\x8b\\x89r\\x12\\xa6(\\x93\\x9f\\xe5\\xa9\\xffc\\xa6\\x92M\\xfa\\xf51:\\x14\\x04\\x17\\xb6s\\x17\\x80\\xd4!\\x0bc'\n"
     ]
    }
   ],
   "source": [
    "# CREATE MESSAGE FOR ARBASH\n",
    "\n",
    "from Cryptodome.PublicKey import RSA\n",
    "from Cryptodome.Cipher import PKCS1_OAEP\n",
    "import pathlib\n",
    "\n",
    "# Define your project folder path\n",
    "PROJECT_FOLDER_ARBASH = Path(\"/workspaces/DE2_HW1_GROUP/ARBASH\")\n",
    "\n",
    "# Load your public key\n",
    "PRIVATE_KEY_FILE_ARBASH = PROJECT_FOLDER_ARBASH / \"my_keypair.pub\"  # Corrected file path\n",
    "with open(PRIVATE_KEY_FILE_ARBASH, \"r\") as key_file:\n",
    "    private_key = RSA.import_key(key_file.read())\n",
    "public_key_arbash = private_key.publickey()\n",
    "\n",
    "# Your secret message\n",
    "short_secret_message_Arbash = \"Hey, Arbash! Thank you for visiting CEU's website. Sorry, we cannot give you free money, but with our education, you can achieve your dreams! Have a nice day!\".encode(\"utf-8\")\n",
    "\n",
    "# Encrypt the message with the public key\n",
    "public_key_cipher = PKCS1_OAEP.new(public_key_arbash)\n",
    "encrypted_message_arbash = public_key_cipher.encrypt(short_secret_message_Arbash)\n",
    "\n",
    "# Output the encrypted message\n",
    "print(f\"Encrypted message: {encrypted_message_arbash}\")\n",
    "\n",
    "# Save the encrypted message to a file\n",
    "ENCRYPTED_MESSAGE_FILE = PROJECT_FOLDER_ARBASH / \"FROM_CEU_encrypted_message.bin\"\n",
    "with open(ENCRYPTED_MESSAGE_FILE, \"wb\") as f:\n",
    "    f.write(encrypted_message_arbash)"
   ]
  },
  {
   "cell_type": "code",
   "execution_count": 20,
   "metadata": {},
   "outputs": [
    {
     "name": "stdout",
     "output_type": "stream",
     "text": [
      "Decrypted message: Hi CEU! This is my encryted message.\n"
     ]
    }
   ],
   "source": [
    "# DECRYPT MESSAGE FROM MARCELL\n",
    "\n",
    "from Cryptodome.Cipher import PKCS1_OAEP\n",
    "from Cryptodome.PublicKey import RSA\n",
    "from pathlib import Path\n",
    "\n",
    "# Set up the paths\n",
    "PROJECT_FOLDER = Path(\"/workspaces/DE2_HW1_GROUP/CEU\")\n",
    "PRIVATE_KEY_PATH = PROJECT_FOLDER / \"my_keypair\"  # Adjust with your actual private key file path\n",
    "ENCRYPTED_MESSAGE_MARCELL = PROJECT_FOLDER / \"encrypted_message_to_CEU_Marcell.bin\"\n",
    "\n",
    "# Load the private key\n",
    "with open(PRIVATE_KEY_PATH, 'rb') as private_file:\n",
    "    private_key = RSA.import_key(private_file.read())\n",
    "\n",
    "# Decrypt the message\n",
    "with open(ENCRYPTED_MESSAGE_MARCELL, \"rb\") as f:\n",
    "    encrypted_message_from_file = f.read()\n",
    "\n",
    "private_key_cipher = PKCS1_OAEP.new(private_key)\n",
    "try:\n",
    "    decrypted_message_marcell = private_key_cipher.decrypt(encrypted_message_from_file)\n",
    "    print(f\"Decrypted message: {decrypted_message_marcell.decode('utf-8')}\")\n",
    "except ValueError as e:\n",
    "    print(f\"Decryption failed: {e}\")\n",
    "\n",
    "# Save the decrypted message to a file\n",
    "DECRYPTED_MESSAGE_FILE_MARCELL = PROJECT_FOLDER / \"decrypted_message_Marcell.bin\"\n",
    "with open(DECRYPTED_MESSAGE_FILE_MARCELL, \"wb\") as f:\n",
    "    f.write(decrypted_message_marcell)\n"
   ]
  },
  {
   "cell_type": "code",
   "execution_count": 21,
   "id": "fc349c4b-696f-4ba4-a971-a3d9d42931ea",
   "metadata": {},
   "outputs": [
    {
     "name": "stdout",
     "output_type": "stream",
     "text": [
      "Decrypted message: Hey, CEU! Please give me money\n"
     ]
    }
   ],
   "source": [
    "# DECRYPT MESSAGE FROM ARBASH\n",
    "\n",
    "from Cryptodome.Cipher import PKCS1_OAEP\n",
    "from Cryptodome.PublicKey import RSA\n",
    "from pathlib import Path\n",
    "\n",
    "# Set up the paths\n",
    "PROJECT_FOLDER = Path(\"/workspaces/DE2_HW1_GROUP/CEU\")\n",
    "PRIVATE_KEY_PATH = PROJECT_FOLDER / \"my_keypair\"  # Adjust with your actual private key file path\n",
    "ENCRYPTED_MESSAGE_ARBASH = PROJECT_FOLDER / \"arbash_to_ceu_encrypted_message.bin\"\n",
    "\n",
    "# Load the private key\n",
    "with open(PRIVATE_KEY_PATH, 'rb') as private_file:\n",
    "    private_key = RSA.import_key(private_file.read())\n",
    "\n",
    "# Decrypt the message\n",
    "with open(ENCRYPTED_MESSAGE_ARBASH, \"rb\") as f:\n",
    "    encrypted_message_from_file = f.read()\n",
    "\n",
    "private_key_cipher = PKCS1_OAEP.new(private_key)\n",
    "try:\n",
    "    decrypted_message_arbash = private_key_cipher.decrypt(encrypted_message_from_file)\n",
    "    print(f\"Decrypted message: {decrypted_message_arbash.decode('utf-8')}\")\n",
    "except ValueError as e:\n",
    "    print(f\"Decryption failed: {e}\")\n",
    "\n",
    "# Save the decrypted message to a file\n",
    "DECRYPTED_MESSAGE_FILE_MARCELL = PROJECT_FOLDER / \"decrypted_message_Arbash.bin\"\n",
    "with open(DECRYPTED_MESSAGE_FILE_MARCELL, \"wb\") as f:\n",
    "    f.write(decrypted_message_arbash)"
   ]
  },
  {
   "cell_type": "code",
   "execution_count": null,
   "metadata": {},
   "outputs": [],
   "source": []
  }
 ],
 "metadata": {
  "kernelspec": {
   "display_name": "Python 3 (ipykernel)",
   "language": "python",
   "name": "python3"
  },
  "language_info": {
   "codemirror_mode": {
    "name": "ipython",
    "version": 3
   },
   "file_extension": ".py",
   "mimetype": "text/x-python",
   "name": "python",
   "nbconvert_exporter": "python",
   "pygments_lexer": "ipython3",
   "version": "3.10.8"
  }
 },
 "nbformat": 4,
 "nbformat_minor": 5
}
