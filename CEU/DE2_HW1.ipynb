{
 "cells": [
  {
   "cell_type": "code",
   "execution_count": 1,
   "id": "0cec42c5-dde2-427c-88ba-00bbd2dd0e23",
   "metadata": {
    "tags": []
   },
   "outputs": [
    {
     "name": "stdout",
     "output_type": "stream",
     "text": [
      "Collecting pycryptodomex\n",
      "  Downloading pycryptodomex-3.19.0-cp35-abi3-manylinux_2_17_x86_64.manylinux2014_x86_64.whl.metadata (3.4 kB)\n",
      "Downloading pycryptodomex-3.19.0-cp35-abi3-manylinux_2_17_x86_64.manylinux2014_x86_64.whl (2.1 MB)\n",
      "\u001b[2K   \u001b[90m━━━━━━━━━━━━━━━━━━━━━━━━━━━━━━━━━━━━━━━━\u001b[0m \u001b[32m2.1/2.1 MB\u001b[0m \u001b[31m9.9 MB/s\u001b[0m eta \u001b[36m0:00:00\u001b[0m:00:01\u001b[0m\n",
      "\u001b[?25hInstalling collected packages: pycryptodomex\n",
      "Successfully installed pycryptodomex-3.19.0\n"
     ]
    }
   ],
   "source": [
    "!pip install pycryptodomex"
   ]
  },
  {
   "cell_type": "code",
   "execution_count": 1,
   "id": "348aa8e2-4de8-44da-84af-d358e617ead8",
   "metadata": {
    "tags": []
   },
   "outputs": [
    {
     "name": "stdout",
     "output_type": "stream",
     "text": [
      "/workspaces/DE2_HW1_GROUP/CEU/my_keypair\n",
      "/workspaces/DE2_HW1_GROUP/CEU/my_keypair.pub\n"
     ]
    }
   ],
   "source": [
    "from pathlib import Path\n",
    "\n",
    "from Cryptodome.Cipher import PKCS1_OAEP\n",
    "from Cryptodome.PublicKey import RSA\n",
    "\n",
    "PROJECT_FOLDER = Path(\"/workspaces/DE2_HW1_GROUP/CEU\")\n",
    "# PROJECT_FOLDER = Path(\"C:\\\\Users\\\\iandr\\\\masters_coding\\\\First Semester\\\\Data Engineering 2\\\\PROJECT_FOLDER\")\n",
    "\n",
    "PRIVATE_KEY_FILE = PROJECT_FOLDER / \"my_keypair\"\n",
    "PUBLIC_KEY_FILE = PROJECT_FOLDER / \"my_keypair.pub\"\n",
    "# PUBLIC_KEY_FILE = Path(\"C:\\\\Users\\\\iandr\\\\masters_coding\\\\First Semester\\\\Data Engineering 2\\\\PROJECT_FOLDER\\\\PRIVATE_KEY_FILE\\\\my_keypair.pub\")\n",
    "\n",
    "print(PRIVATE_KEY_FILE)\n",
    "print(PUBLIC_KEY_FILE)\n",
    "\n",
    "assert Path.exists(PRIVATE_KEY_FILE)\n",
    "assert Path.exists(PUBLIC_KEY_FILE)"
   ]
  },
  {
   "cell_type": "code",
   "execution_count": 6,
   "metadata": {},
   "outputs": [
    {
     "name": "stdout",
     "output_type": "stream",
     "text": [
      "Encrypted message: b'A\\xcc\\xbf?\\xfe\\x81\\x8d\\xff^\\xc0\\x16X\\xf2\\xe7\\xb2\\x90O\\x9cc.\\xce\\xad\\xe2>\\xcd\\x18\\xef\\xd6\\xe2mGxD\\xf5\\x82\\xdc\\x95\\x0ej\\xee\\t\\xa7\\xdd\\xba\\xec\\x15j\\x1821j\\x060a_J5\\xd9I\\x85\\x15\\xa6=p \\x1c\\xa0V\\xe2\\xef\\x8d\\x14\\xe4\\xe3\\xd5N\\xfaH\\xd6\\xd8\\xf8\\xb8#cd\\xf4\\xb3\\x1b\\x9e\\x8a/.\\xb6>\\xe1\\xcf\\xe8\\x90U\\x9a\\x00\\xb4\\rvz\\xfbs\\xc5\\xd3.o%\\x08\\x16\\xf48\\xe6+z\\x7f\\xc0+1\\x03x\\xa3\\xd4\\x0c.\\x96}\\xa5F\\xb9\\r(\\xa8:[\\x98V:\\xde\\x12\\x91a\\xb6J\\x01\\xcf[\\xd1\\xc7>\\t\\xc7+H\\xb7\\xc0\\x853\\xc2L\\x8a\\xd4\\xa1\\xcf \\x1f\\xc8\\r\\x9f]\\x8e!\\xfc#\\xd4\\xdb\\xdb\\x03rX\\xb3Z\\xb3\\xdei\\xd3\\x1a\\xf9\\xffT?\\nS\\xbd\\xf7\\xca\\x92\\xfb\\x1e\\xc8\\xb5@\\xa07\\xde\\x01:\\xab,\\x82n\\xc5G\\x8fF\\x15qR\\xb1i1h\\x9f\\xec\\xac\\xf2\\xf4\\xf6|r\\xfa\\xf9\"x\\xdcAye\\x0cS\\xa0\\xeb\\x9ei\\xdc\\xf8\\x8e\\xe1\\x84!\\xfc\\xa42S\\xec-*(\\x1b\\xdc\\xee\\x0f\\xe4O\\xdfm\\xd9Z\\x15\\x88\\xbc\\x95R\"K\\xf8\\x19a\\x03\\xcd]\\x85\\x1b\\x07y{e\\xe0\\n\\x80\\x15\\xdd\\xc1(6\\xff(=\\x87\\x91\\xf9\\xba\\xd9,\\'\\xfc\\xbc\\x89\\x8a\\xef0\\xcc{\\x9d\\x96\\xb2\\xf3\\xd3<\\xee[\\xc3\\x17\\xcd\\xf5\\x97\\xef\\x85m^Qu/\\x8e[\\x8a\\xb8q\\xcb\\t\\x93\\x94\\xdfa\\x8b\\xde\\x8bnmc\\xf1$`5\\'\\xf2U\\xc0\\xd7\\xee\\xed\\x1cy_\\x15=Z\\xe0|1K\\x0b\\xaa}\\x0b3f\\x1e@@'\n"
     ]
    }
   ],
   "source": [
    "from Cryptodome.PublicKey import RSA\n",
    "from Cryptodome.Cipher import PKCS1_OAEP\n",
    "import pathlib\n",
    "\n",
    "# Define your project folder path\n",
    "PROJECT_FOLDER = Path(\"/workspaces/DE2_HW1_GROUP/MARCELL\")\n",
    "\n",
    "# Load your public key\n",
    "PRIVATE_KEY_FILE = PROJECT_FOLDER / \"my_keypair\"  # Corrected file path\n",
    "with open(PRIVATE_KEY_FILE, \"r\") as key_file:\n",
    "    private_key = RSA.import_key(key_file.read())\n",
    "public_key = private_key.publickey()\n",
    "\n",
    "# Your secret message\n",
    "short_secret_message = \"Hey, Marcell! Thank you for visiting CEU's website. We hope to see you again soon!\".encode(\"utf-8\")\n",
    "\n",
    "# Encrypt the message with the public key\n",
    "public_key_cipher = PKCS1_OAEP.new(public_key)\n",
    "encrypted_message = public_key_cipher.encrypt(short_secret_message)\n",
    "\n",
    "# Output the encrypted message\n",
    "print(f\"Encrypted message: {encrypted_message}\")\n",
    "\n",
    "# Save the encrypted message to a file\n",
    "ENCRYPTED_MESSAGE_FILE = PROJECT_FOLDER / \"FROM_CEU_encrypted_message.bin\"\n",
    "with open(ENCRYPTED_MESSAGE_FILE, \"wb\") as f:\n",
    "    f.write(encrypted_message)"
   ]
  },
  {
   "cell_type": "code",
   "execution_count": 7,
   "id": "a318bb66-2cd3-4849-8aa4-3910521b6d62",
   "metadata": {
    "tags": []
   },
   "outputs": [
    {
     "name": "stdout",
     "output_type": "stream",
     "text": [
      "Encrypted message: b\"U\\xd2-}tx\\t\\x16\\xd7\\x84\\x10*\\x88\\xe8\\xe7\\x82v\\xf3\\nz7;t\\xe7,\\xb0\\xe32\\x02\\x03\\x11\\x91\\xe0\\xa9'\\xa0\\x81\\xd2\\xdfK\\xf0\\xfb\\xfb\\xfes\\xab\\xadgc[\\x8e\\xad\\x06\\r*\\xd4\\x9a'\\xc6\\n\\xe5\\xae\\x1dw\\x86Hy\\xf42P\\x05\\x10r8m\\xdd\\x8dLK'\\xa5\\x02##j\\xe7H$2\\xba\\xda\\x05\\xf1\\xd8\\x19\\xcdH\\xb9\\x11\\xee k\\xbc\\xfbj\\x14\\xe9\\x84\\xf5\\x8c\\xa3\\xab\\xaa\\xdb\\x93\\x1b.\\x1dr\\xab4\\x96\\xcc\\xdb\\xd4&;K+\\xe3\\x92\\xe0\\x1c^\\x9a\\xf5\\xef\\xc8/\\xbdU\\xe4\\x17\\x9a\\xa9*\\xb3\\x89\\xc9@\\xc4\\xa9\\xe7\\xb57y\\x0c\\xe3\\xfe\\xaf\\xbc\\xfc\\xb3\\x8f$\\x996\\x97\\xa6!\\xe4\\x01\\xd7\\xaen\\xf0+uv\\xafz\\x00\\x96\\xf1\\x8d\\x14\\x94\\x96\\xbb\\x1a\\xf9\\x02'\\x97\\xaf4Wv\\x04\\xf6\\xa3\\xab'ic\\xb6\\xdd\\xdb\\x8a\\xcb\\xe5j\\x043lU\\xf7v\\x1d\\xc7\\xcf7\\x1f\\x98ZH\\xc3\\xaa\\x0b!\\xc4\\xfa\\x89\\xbf\\x9fn\\xb0\\x86N{)\\x906\\x00q\\x96\\xde%\\xd9*\\xc5j\\xe3Ld\\xd2U\\x82r\\xdd\\xd18o\\x99\\x1c\\xeaB\\x87zk\\xa5].\\xd0\\xcc\\xa8@8\\x06\\xa0\\xe5\\x1d\\xae\\xad\\x98Q\\xed\\xb2\\x7f\\xa6\\xfe\\xf6r\\xa3\\x185\\x8dkQP\\xa8\\xff\\xe8\\x14\\x87\\xe8!Q\\x9b\\xf9S\\x89\\x1c\\x16c\\x12:Z<|\\xf4\\xa2\\xaal\\xe6\\x19 9X\\xe6\\xe3O\\xe3\\xe7\\xa8\\xf0d\\xa9S\\x80\\xc9L\\x0b\\x8b<\\x19E;\\xd4\\xd5\\x84\\xbbt4\\xca;\\xa3\\x8e\\x00\\x0e\\xed\\x8a\\xcb^>C\\x05\\x05^\\xa0}_\\xb9|\\rpb59\\xbb r\\x8c\\x10\"\n"
     ]
    }
   ],
   "source": [
    "from Cryptodome.PublicKey import RSA\n",
    "from Cryptodome.Cipher import PKCS1_OAEP\n",
    "import pathlib\n",
    "\n",
    "# Define your project folder path\n",
    "PROJECT_FOLDER = Path(\"/workspaces/DE2_HW1_GROUP/ARBASH\")\n",
    "\n",
    "# Load your public key\n",
    "PRIVATE_KEY_FILE = PROJECT_FOLDER / \"my_keypair\"  # Corrected file path\n",
    "with open(PRIVATE_KEY_FILE, \"r\") as key_file:\n",
    "    private_key = RSA.import_key(key_file.read())\n",
    "public_key = private_key.publickey()\n",
    "\n",
    "# Your secret message\n",
    "short_secret_message = \"Hey, Arbash! Thank you for visiting CEU's website. We hope to see you again soon!\".encode(\"utf-8\")\n",
    "\n",
    "# Encrypt the message with the public key\n",
    "public_key_cipher = PKCS1_OAEP.new(public_key)\n",
    "encrypted_message = public_key_cipher.encrypt(short_secret_message)\n",
    "\n",
    "# Output the encrypted message\n",
    "print(f\"Encrypted message: {encrypted_message}\")\n",
    "\n",
    "# Save the encrypted message to a file\n",
    "ENCRYPTED_MESSAGE_FILE = PROJECT_FOLDER / \"FROM_CEU_encrypted_message.bin\"\n",
    "with open(ENCRYPTED_MESSAGE_FILE, \"wb\") as f:\n",
    "    f.write(encrypted_message)"
   ]
  },
  {
   "cell_type": "code",
   "execution_count": 3,
   "id": "fc349c4b-696f-4ba4-a971-a3d9d42931ea",
   "metadata": {},
   "outputs": [
    {
     "name": "stdout",
     "output_type": "stream",
     "text": [
      "Decrypted message: Hello friends. This right here is my super secret message. No one can know what it is.\n"
     ]
    }
   ],
   "source": [
    "with open(ENCRYPTED_MESSAGE_FILE, \"rb\") as f:\n",
    "    encrypted_message_from_file = f.read()\n",
    "\n",
    "private_key_cipher = PKCS1_OAEP.new(private_key)\n",
    "decrypted_message = private_key_cipher.decrypt(encrypted_message_from_file)\n",
    "print(f\"Decrypted message: {decrypted_message.decode('utf-8')}\")\n",
    "\n",
    "# Save the encrypted message to a file\n",
    "DECRYPTED_MESSAGE_FILE = PROJECT_FOLDER / \"decrypted_message.bin\"\n",
    "with open(DECRYPTED_MESSAGE_FILE, \"wb\") as f:\n",
    "    f.write(decrypted_message)"
   ]
  },
  {
   "cell_type": "code",
   "execution_count": null,
   "metadata": {},
   "outputs": [],
   "source": []
  }
 ],
 "metadata": {
  "kernelspec": {
   "display_name": "Python 3 (ipykernel)",
   "language": "python",
   "name": "python3"
  },
  "language_info": {
   "codemirror_mode": {
    "name": "ipython",
    "version": 3
   },
   "file_extension": ".py",
   "mimetype": "text/x-python",
   "name": "python",
   "nbconvert_exporter": "python",
   "pygments_lexer": "ipython3",
   "version": "3.10.8"
  }
 },
 "nbformat": 4,
 "nbformat_minor": 5
}
