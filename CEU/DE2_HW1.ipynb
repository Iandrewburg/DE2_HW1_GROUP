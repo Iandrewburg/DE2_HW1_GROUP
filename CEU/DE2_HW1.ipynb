{
 "cells": [
  {
   "cell_type": "code",
   "execution_count": 1,
   "id": "0cec42c5-dde2-427c-88ba-00bbd2dd0e23",
   "metadata": {
    "tags": []
   },
   "outputs": [
    {
     "name": "stdout",
     "output_type": "stream",
     "text": [
      "Collecting pycryptodomex\n",
      "  Downloading pycryptodomex-3.19.0-cp35-abi3-manylinux_2_17_x86_64.manylinux2014_x86_64.whl.metadata (3.4 kB)\n",
      "Downloading pycryptodomex-3.19.0-cp35-abi3-manylinux_2_17_x86_64.manylinux2014_x86_64.whl (2.1 MB)\n",
      "\u001b[2K   \u001b[90m━━━━━━━━━━━━━━━━━━━━━━━━━━━━━━━━━━━━━━━━\u001b[0m \u001b[32m2.1/2.1 MB\u001b[0m \u001b[31m9.9 MB/s\u001b[0m eta \u001b[36m0:00:00\u001b[0m:00:01\u001b[0m\n",
      "\u001b[?25hInstalling collected packages: pycryptodomex\n",
      "Successfully installed pycryptodomex-3.19.0\n"
     ]
    }
   ],
   "source": [
    "!pip install pycryptodomex"
   ]
  },
  {
   "cell_type": "code",
   "execution_count": 1,
   "id": "348aa8e2-4de8-44da-84af-d358e617ead8",
   "metadata": {
    "tags": []
   },
   "outputs": [
    {
     "name": "stdout",
     "output_type": "stream",
     "text": [
      "/workspaces/DE2_HW1_GROUP/CEU/my_keypair\n",
      "/workspaces/DE2_HW1_GROUP/CEU/my_keypair.pub\n"
     ]
    }
   ],
   "source": [
    "from pathlib import Path\n",
    "\n",
    "from Cryptodome.Cipher import PKCS1_OAEP\n",
    "from Cryptodome.PublicKey import RSA\n",
    "\n",
    "PROJECT_FOLDER = Path(\"/workspaces/DE2_HW1_GROUP/CEU\")\n",
    "# PROJECT_FOLDER = Path(\"C:\\\\Users\\\\iandr\\\\masters_coding\\\\First Semester\\\\Data Engineering 2\\\\PROJECT_FOLDER\")\n",
    "\n",
    "PRIVATE_KEY_FILE = PROJECT_FOLDER / \"my_keypair\"\n",
    "PUBLIC_KEY_FILE = PROJECT_FOLDER / \"my_keypair.pub\"\n",
    "# PUBLIC_KEY_FILE = Path(\"C:\\\\Users\\\\iandr\\\\masters_coding\\\\First Semester\\\\Data Engineering 2\\\\PROJECT_FOLDER\\\\PRIVATE_KEY_FILE\\\\my_keypair.pub\")\n",
    "\n",
    "print(PRIVATE_KEY_FILE)\n",
    "print(PUBLIC_KEY_FILE)\n",
    "\n",
    "assert Path.exists(PRIVATE_KEY_FILE)\n",
    "assert Path.exists(PUBLIC_KEY_FILE)"
   ]
  },
  {
   "cell_type": "code",
   "execution_count": 4,
   "id": "a318bb66-2cd3-4849-8aa4-3910521b6d62",
   "metadata": {
    "tags": []
   },
   "outputs": [
    {
     "name": "stdout",
     "output_type": "stream",
     "text": [
      "Encrypted message: b'\\x95\\x9b\\x1di\\xf1\\xb4\\xba\\x15\\xd4\\xafu\\xe3\\xc0\\x8cQ\\x19d\\xb0x\\x96-id\\xc8\\xa2\\x9az\\xeb=\\xbe\\x8b\\xd7\\xc0E#Rr=\\x87\\xdf\\xa9\\x8e\\xfa\\xa9\\x98\\xfc\\x1f[Dq\\t\\x07\\x90\\xf5d\\x87XPk~\\xc2\\xeac\\xb9\\xc8\\x8b\\xb1\\xa14;{\\xda\\x8a\\xa2,\\xb4>\\xa6\\xee\\x15\\x9a\\xa2w\\xaa\\xba\\x04\\x0c\\x12\\x8e\\x1b\\x1d\\xdfr\\x0c*\\x99\\xce\\x12\\xb3o\\xcd\\xfb\\xec\\xde\\x9e\\xcaT!\\xebw5\\xdfP\\x1d\\x81{\\xf8j\\xfc\\xa5,|A\\xdf>U\\xf6\\x8e&\\xd5\\xc3/\\x9e\\xbd28\\xe5\\xbe.\\x1dz\\xde]\\x97\\xf8\\xe2\\x94\\xca\\xa4o\\xc5\\x89\\x9a\\x7f\\xf1\\xd9\\x04[\\xaeG\\xb5m\\xe4X\\x91\\xb8\\x01\\t\\xe2O\\xe1\\x19b\\xb0\\xa3\\xbb|\\xc0\\xbd\\xaf\\xd2\\x84zw2v\\xbbR/\\x9eq\\x8a9i\\xa7\\x84/\\xefK\\xb3:\\xb1\\x16R\\xeb$\\x02+$u5Hm\\xc3\\n\\xed**Q\\x17\\xb5\\xea5\\xb6\\xab{\\xf6\\xc3\\xeae}&\\xe2\\x0b\\x08\\xf8\\xb3J\\xae\\x03 ?\\x124\\xc5\\x053\\\\d\\x8e\\x1b\\x83u\\xd3\\xcb\\x8a\\x033\\\\H\\xe3k\\x12p#\\x8f\\xb1E\\x8a\\xeb\\xe8\\x97\\x80\\x7f\\xef\\xaelP\\xc5gO\\xbb.\\xe87\\xc7/#\\xac\\x1d\\xa8}J2\\xbbs\\xeb\\\\O\\xa9)5\\x9e\\xda\\x03\\xd8\\xfb\\x83\\x8d4\\x85\\x132\\xe92lW\\xe6\"\\xdd\\xf7I\\x9aQ=\\xcfn5\\x9cHm9\\r\\xde\\x1fC\\xde\\xc4\\xbc\\x86\\x7f\\x9ey2\\xbf\\x16\\x01\\x00Z%\\x8b\\xc7\\x16}\\xa5\\xe7e>\\x12\\xe7\\xb3sc\\xea\\xb4\\xe1\\xb8\\xce\\x95\\xd2\\xef%(\\xf0\\xbe\\x11\\x10\\xa4F\\xf6\\xe1\\x95\\x9cV'\n"
     ]
    }
   ],
   "source": [
    "from Cryptodome.PublicKey import RSA\n",
    "from Cryptodome.Cipher import PKCS1_OAEP\n",
    "import pathlib\n",
    "\n",
    "# Define your project folder path\n",
    "PROJECT_FOLDER = Path(\"/workspaces/DE2_HW1_GROUP/ARBASH\")\n",
    "\n",
    "# Load your public key\n",
    "PRIVATE_KEY_FILE = PROJECT_FOLDER / \"my_keypair\"  # Corrected file path\n",
    "with open(PRIVATE_KEY_FILE, \"r\") as key_file:\n",
    "    private_key = RSA.import_key(key_file.read())\n",
    "public_key = private_key.publickey()\n",
    "\n",
    "# Your secret message\n",
    "short_secret_message = \"Thank you for visiting CEU's website. We hope to see you again soon!\".encode(\"utf-8\")\n",
    "\n",
    "# Encrypt the message with the public key\n",
    "public_key_cipher = PKCS1_OAEP.new(public_key)\n",
    "encrypted_message = public_key_cipher.encrypt(short_secret_message)\n",
    "\n",
    "# Output the encrypted message\n",
    "print(f\"Encrypted message: {encrypted_message}\")\n",
    "\n",
    "# Save the encrypted message to a file\n",
    "ENCRYPTED_MESSAGE_FILE = PROJECT_FOLDER / \"encrypted_message.bin\"\n",
    "with open(ENCRYPTED_MESSAGE_FILE, \"wb\") as f:\n",
    "    f.write(encrypted_message)"
   ]
  },
  {
   "cell_type": "code",
   "execution_count": 3,
   "id": "fc349c4b-696f-4ba4-a971-a3d9d42931ea",
   "metadata": {},
   "outputs": [
    {
     "name": "stdout",
     "output_type": "stream",
     "text": [
      "Decrypted message: Hello friends. This right here is my super secret message. No one can know what it is.\n"
     ]
    }
   ],
   "source": [
    "with open(ENCRYPTED_MESSAGE_FILE, \"rb\") as f:\n",
    "    encrypted_message_from_file = f.read()\n",
    "\n",
    "private_key_cipher = PKCS1_OAEP.new(private_key)\n",
    "decrypted_message = private_key_cipher.decrypt(encrypted_message_from_file)\n",
    "print(f\"Decrypted message: {decrypted_message.decode('utf-8')}\")\n",
    "\n",
    "# Save the encrypted message to a file\n",
    "DECRYPTED_MESSAGE_FILE = PROJECT_FOLDER / \"decrypted_message.bin\"\n",
    "with open(DECRYPTED_MESSAGE_FILE, \"wb\") as f:\n",
    "    f.write(decrypted_message)"
   ]
  },
  {
   "cell_type": "code",
   "execution_count": null,
   "metadata": {},
   "outputs": [],
   "source": []
  }
 ],
 "metadata": {
  "kernelspec": {
   "display_name": "Python 3 (ipykernel)",
   "language": "python",
   "name": "python3"
  },
  "language_info": {
   "codemirror_mode": {
    "name": "ipython",
    "version": 3
   },
   "file_extension": ".py",
   "mimetype": "text/x-python",
   "name": "python",
   "nbconvert_exporter": "python",
   "pygments_lexer": "ipython3",
   "version": "3.10.8"
  }
 },
 "nbformat": 4,
 "nbformat_minor": 5
}
