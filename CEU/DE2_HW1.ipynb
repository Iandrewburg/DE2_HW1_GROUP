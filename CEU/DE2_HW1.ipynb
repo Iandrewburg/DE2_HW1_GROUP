{
 "cells": [
  {
   "cell_type": "code",
   "execution_count": 1,
   "id": "0cec42c5-dde2-427c-88ba-00bbd2dd0e23",
   "metadata": {
    "tags": []
   },
   "outputs": [
    {
     "name": "stdout",
     "output_type": "stream",
     "text": [
      "Collecting pycryptodomex\n",
      "  Downloading pycryptodomex-3.19.0-cp35-abi3-manylinux_2_17_x86_64.manylinux2014_x86_64.whl.metadata (3.4 kB)\n",
      "Downloading pycryptodomex-3.19.0-cp35-abi3-manylinux_2_17_x86_64.manylinux2014_x86_64.whl (2.1 MB)\n",
      "\u001b[2K   \u001b[90m━━━━━━━━━━━━━━━━━━━━━━━━━━━━━━━━━━━━━━━━\u001b[0m \u001b[32m2.1/2.1 MB\u001b[0m \u001b[31m9.9 MB/s\u001b[0m eta \u001b[36m0:00:00\u001b[0m:00:01\u001b[0m\n",
      "\u001b[?25hInstalling collected packages: pycryptodomex\n",
      "Successfully installed pycryptodomex-3.19.0\n"
     ]
    }
   ],
   "source": [
    "!pip install pycryptodomex"
   ]
  },
  {
   "cell_type": "code",
   "execution_count": 1,
   "id": "348aa8e2-4de8-44da-84af-d358e617ead8",
   "metadata": {
    "tags": []
   },
   "outputs": [
    {
     "name": "stdout",
     "output_type": "stream",
     "text": [
      "/workspaces/DE2_HW1_GROUP/CEU/my_keypair\n",
      "/workspaces/DE2_HW1_GROUP/CEU/my_keypair.pub\n"
     ]
    }
   ],
   "source": [
    "from pathlib import Path\n",
    "\n",
    "from Cryptodome.Cipher import PKCS1_OAEP\n",
    "from Cryptodome.PublicKey import RSA\n",
    "\n",
    "PROJECT_FOLDER = Path(\"/workspaces/DE2_HW1_GROUP/CEU\")\n",
    "# PROJECT_FOLDER = Path(\"C:\\\\Users\\\\iandr\\\\masters_coding\\\\First Semester\\\\Data Engineering 2\\\\PROJECT_FOLDER\")\n",
    "\n",
    "PRIVATE_KEY_FILE = PROJECT_FOLDER / \"my_keypair\"\n",
    "PUBLIC_KEY_FILE = PROJECT_FOLDER / \"my_keypair.pub\"\n",
    "# PUBLIC_KEY_FILE = Path(\"C:\\\\Users\\\\iandr\\\\masters_coding\\\\First Semester\\\\Data Engineering 2\\\\PROJECT_FOLDER\\\\PRIVATE_KEY_FILE\\\\my_keypair.pub\")\n",
    "\n",
    "print(PRIVATE_KEY_FILE)\n",
    "print(PUBLIC_KEY_FILE)\n",
    "\n",
    "assert Path.exists(PRIVATE_KEY_FILE)\n",
    "assert Path.exists(PUBLIC_KEY_FILE)"
   ]
  },
  {
   "cell_type": "code",
   "execution_count": 12,
   "metadata": {},
   "outputs": [
    {
     "name": "stdout",
     "output_type": "stream",
     "text": [
      "Encrypted message: b'\\x91\\xfd9\\xe2\\x1aa\\n#\\x05\\xb8\\xa5R\\x9b|\\xf8\\xac\\xfd\\x7fiXg\\x8d\\x83\\xbb\\xb7P\\x8c\\xa3\\x90\\x07L\\xa50C\\xcd\\xd6\\xea\\xf7ImMg\\xf5\\xba\\x1b,\\xc9\\x1d\\x98`\\xc2$\\x84\\xdb]q[\\xe9(\\xbc3\\x0b\\xf0E\\xfb\\xf1\\x81/\\xb8\\xec\\x05\\x88\\x8b\\x07\\xac\\xd7P\\'\\xfd\\x16\\x81O\\xc0\\xc8\\xd8\\xd3\\x95\\x91\\x98q\\xf1\\xbaA\\x88\\xf6+0@\\x84\\xfb\\x1a\\xf8\\xf7gg=\\xc3\\x82\\x98\\xd9FS\\xd2\\x8a\\xb2fb]\\x07zH\\r\\xcd\"\\x90\\xa2G\\x98\\xb5\\xa5\\xedfY\\xdb\\x03\\xf9\\xbd\\x03$Z\\x14\\x19K!L\\xf1Wz\\x8e\\xb4u?\\x16\\x1aL|R\\\\\\xa2\\x9f\\x10\\x7f4K\\x8c\\x8c\\'I\\xd4\\xa0m\\x81\\xe5\\xed!\\xa4*mO0Cu,\\xe2\\xd2\\x17\\xf4\\xc7OUAM\\x08f\\xde\\'\\xd8\\xf9s\\x13q2\\xc8\\xb9\\x91R\\xc3#8\\x90-\\xd9\\xc0\\x81\"E:\\xfe(\\x1b{Y\\xdf\\xc5-\\x0c\"\\xbd\\x95\\xf9\\xc5a\\xdeC\\x1f\\xfe\\xb2\\xe6\\x97\\xabu\\x07.\\xd3[]H\\xae\\xd0w\\x97c\\x1b\\x1e\\xf9\\xc4\\xa3\\x9fN\\x85\\x8fv\\xc3\\x19\\xc5\\xdb\\xf2\\xc4\\xdc\\x91bj\\xed\\x9f\\xfb)\\xa1(\\xec\\xda\\xc3\\x9c\\xaa\\xb5\\xcbD\\xbbf\\xca\\xe4X\\x93\\x0c\\xcc\\x81EY\\xa0\"D\\x1e\\xe8\\xeb.\\xa2\\xa4e\\xb7\\x96\\xebF A\\xbd;\\x0f\\x91\\x0f\"s\\xf0Z\\xc7\\x1b\\x03\\xb8\\x0c\\xd8\\xf0\\x8c\\x98\\xa2\\xc7\\x0c\\x13\\xcd\\xbe\\tK\\xc3\\x9f\\x1d\\x9d\\xe6\\xe4\\xfc\\xcf+0Jg\\x80zlV\\x97\\xc3\\xa5\\x81\\xf34r\\x90\\x17\\x0e\\xd7mE-5\\x04\\x85d2\\x1fW\\xf3\\xf4\\xa9\\x81%\\x8d\\x00\\x0e'\n"
     ]
    }
   ],
   "source": [
    "from Cryptodome.PublicKey import RSA\n",
    "from Cryptodome.Cipher import PKCS1_OAEP\n",
    "import pathlib\n",
    "\n",
    "# Define your project folder path\n",
    "PROJECT_FOLDER_MARCELL = Path(\"/workspaces/DE2_HW1_GROUP/MARCELL\")\n",
    "\n",
    "# Load your public key\n",
    "PRIVATE_KEY_FILE = PROJECT_FOLDER_MARCELL / \"my_keypair\"  # Corrected file path\n",
    "with open(PRIVATE_KEY_FILE, \"r\") as key_file:\n",
    "    private_key = RSA.import_key(key_file.read())\n",
    "public_key = private_key.publickey()\n",
    "\n",
    "# Your secret message\n",
    "short_secret_message = \"Hey, Marcell! Thank you for visiting CEU's website. We hope to see you again soon!\".encode(\"utf-8\")\n",
    "\n",
    "# Encrypt the message with the public key\n",
    "public_key_cipher = PKCS1_OAEP.new(public_key)\n",
    "encrypted_message = public_key_cipher.encrypt(short_secret_message)\n",
    "\n",
    "# Output the encrypted message\n",
    "print(f\"Encrypted message: {encrypted_message}\")\n",
    "\n",
    "# Save the encrypted message to a file\n",
    "ENCRYPTED_MESSAGE_FILE = PROJECT_FOLDER_MARCELL / \"FROM_CEU_encrypted_message.bin\"\n",
    "with open(ENCRYPTED_MESSAGE_FILE, \"wb\") as f:\n",
    "    f.write(encrypted_message)"
   ]
  },
  {
   "cell_type": "code",
   "execution_count": 11,
   "id": "a318bb66-2cd3-4849-8aa4-3910521b6d62",
   "metadata": {
    "tags": []
   },
   "outputs": [
    {
     "name": "stdout",
     "output_type": "stream",
     "text": [
      "Encrypted message: b\"\\x80\\x12\\x9a\\xc6`\\xd3\\xfd\\xe0\\x9dL\\x98L^\\xf7O\\x84\\xfd3\\x93DM\\xcei\\xef\\xa1\\x0b\\x8d\\xb7\\xc1T\\x05\\xab>\\xf1e\\x05\\x83\\xafPt4Z\\xf8\\x01\\x0c\\xc9A7\\xd7\\xe1{f&\\x8b\\xd6\\x02\\x17-\\x9d\\x0f\\xce7\\x89`\\xa9j\\xea\\xef8ndZ\\xce\\xbco\\xf967\\x82\\x8b\\xfb\\xa2\\x83t\\xb4\\x92!\\xdaH@\\xa7\\x05r\\xd0OE\\x9f\\x9d\\xbc\\xb7\\x82Rd=\\x16[f\\x82/o=\\x01F\\x1e\\x13\\x12!\\x1b\\xe3\\x96\\x80\\xdf\\xeb\\xd6\\x8e;2\\xb5u4\\xf5.\\xde\\xc4\\xdd\\xcd\\x80\\x92\\x88\\xea\\x80Kc\\x9e\\x0f\\x84\\xffT\\xc0}\\x14\\xc5\\r\\xad\\x8a.u\\xaf\\xd6&\\xc0AUZ\\x81fL\\xbe`t\\x01\\xe7\\xd4\\x0c\\xee\\xec\\x1d\\x90\\xcb\\xb8\\xdfE\\xd7u\\x0b>\\xe5\\x1f2\\xdc\\t\\x10<\\xf6\\xcf\\xb3\\x94\\xfc[\\x97k'p\\xce\\xf0\\xe8\\x1bQ\\xcb\\r}\\x83\\xbe\\x9e\\xd1\\xdc\\x91\\xbc\\xf6Ll\\xbfJ\\x1fxAt\\x9d\\xc2[2?\\xad@=\\x8a\\xb6&\\xda)\\xfb\\xca\\xb3zU\\xfd\\xc2\\xf4\\xd2\\x02\\x1c\\xc05~\\xa0\\x1d+\\xbf\\x81\\xf9\\xb4\\xcce\\xc8\\xb1n6\\xe08\\xb7N\\xe1\\xe8\\x8c\\xa5\\xdd\\xe7\\xe9\\x04\\xc3\\xe4\\x18O#y\\xf1\\xbf\\x10\\xd7\\xd8\\xfd\\xc6yv\\xe55\\x1c\\x1f\\xdb\\x94\\xc9\\\\\\xe72\\xe9B)\\xcc\\x9dK\\x0e\\x0ff\\xc6C\\xb0\\xcab\\x17\\x0f\\n\\xa1\\xd9\\x05[\\xe2\\xb4\\xa2\\xe0%v\\x8dFo\\xc7\\xe5]\\xbc\\xd8\\xd60\\x8891\\xcd\\x87/\\x16\\xf67\\xdf\\xf8\\x01\\x052\\x9d\\x9b;Ci\\x134\\xc2\\xda\\x81\\xfaen\\xf6\\x07\\xbb\\xdb\\xc5\\xc0\\r\\xa6\\x01\\x1a\\xb2!{\\xb6\\xc4\\xd0\"\n"
     ]
    }
   ],
   "source": [
    "from Cryptodome.PublicKey import RSA\n",
    "from Cryptodome.Cipher import PKCS1_OAEP\n",
    "import pathlib\n",
    "\n",
    "# Define your project folder path\n",
    "PROJECT_FOLDER_ARBASH = Path(\"/workspaces/DE2_HW1_GROUP/ARBASH\")\n",
    "\n",
    "# Load your public key\n",
    "PRIVATE_KEY_FILE_ARBASH = PROJECT_FOLDER_ARBASH / \"my_keypair\"  # Corrected file path\n",
    "with open(PRIVATE_KEY_FILE_ARBASH, \"r\") as key_file:\n",
    "    private_key_arbash = RSA.import_key(key_file.read())\n",
    "public_key_arbash = private_key_arbash.publickey()\n",
    "\n",
    "# Your secret message\n",
    "short_secret_message_Arbash = \"Hey, Arbash! Thank you for visiting CEU's website. We hope to see you again soon!\".encode(\"utf-8\")\n",
    "\n",
    "# Encrypt the message with the public key\n",
    "public_key_cipher = PKCS1_OAEP.new(public_key)\n",
    "encrypted_message_arbash = public_key_cipher.encrypt(short_secret_message_Arbash)\n",
    "\n",
    "# Output the encrypted message\n",
    "print(f\"Encrypted message: {encrypted_message_arbash}\")\n",
    "\n",
    "# Save the encrypted message to a file\n",
    "ENCRYPTED_MESSAGE_FILE = PROJECT_FOLDER_ARBASH / \"FROM_CEU_encrypted_message.bin\"\n",
    "with open(ENCRYPTED_MESSAGE_FILE, \"wb\") as f:\n",
    "    f.write(encrypted_message_arbash)"
   ]
  },
  {
   "cell_type": "code",
   "execution_count": 14,
   "metadata": {},
   "outputs": [
    {
     "name": "stdout",
     "output_type": "stream",
     "text": [
      "Decrypted message: Hi CEU! This is my encryted message.\n"
     ]
    }
   ],
   "source": [
    "from Cryptodome.Cipher import PKCS1_OAEP\n",
    "from Cryptodome.PublicKey import RSA\n",
    "from pathlib import Path\n",
    "\n",
    "# Set up the paths\n",
    "PROJECT_FOLDER = Path(\"/workspaces/DE2_HW1_GROUP/CEU\")\n",
    "PRIVATE_KEY_PATH = PROJECT_FOLDER / \"my_keypair\"  # Adjust with your actual private key file path\n",
    "ENCRYPTED_MESSAGE_MARCELL = PROJECT_FOLDER / \"encrypted_message_to_CEU_Marcell.bin\"\n",
    "\n",
    "# Load the private key\n",
    "with open(PRIVATE_KEY_PATH, 'rb') as private_file:\n",
    "    private_key = RSA.import_key(private_file.read())\n",
    "\n",
    "# Decrypt the message\n",
    "with open(ENCRYPTED_MESSAGE_MARCELL, \"rb\") as f:\n",
    "    encrypted_message_from_file = f.read()\n",
    "\n",
    "private_key_cipher = PKCS1_OAEP.new(private_key)\n",
    "try:\n",
    "    decrypted_message = private_key_cipher.decrypt(encrypted_message_from_file)\n",
    "    print(f\"Decrypted message: {decrypted_message.decode('utf-8')}\")\n",
    "except ValueError as e:\n",
    "    print(f\"Decryption failed: {e}\")\n",
    "\n",
    "# Save the decrypted message to a file\n",
    "DECRYPTED_MESSAGE_FILE_MARCELL = PROJECT_FOLDER / \"decrypted_message_Marcell.bin\"\n",
    "with open(DECRYPTED_MESSAGE_FILE_MARCELL, \"wb\") as f:\n",
    "    f.write(decrypted_message)\n"
   ]
  },
  {
   "cell_type": "code",
   "execution_count": 13,
   "id": "fc349c4b-696f-4ba4-a971-a3d9d42931ea",
   "metadata": {},
   "outputs": [
    {
     "ename": "ValueError",
     "evalue": "Incorrect decryption.",
     "output_type": "error",
     "traceback": [
      "\u001b[0;31m---------------------------------------------------------------------------\u001b[0m",
      "\u001b[0;31mValueError\u001b[0m                                Traceback (most recent call last)",
      "\u001b[1;32m/workspaces/DE2_HW1_GROUP/CEU/DE2_HW1.ipynb Cell 5\u001b[0m line \u001b[0;36m8\n\u001b[1;32m      <a href='vscode-notebook-cell://codespaces%2Bpotential-space-garbanzo-v6v57r9qvrxjcwv5/workspaces/DE2_HW1_GROUP/CEU/DE2_HW1.ipynb#W3sdnNjb2RlLXJlbW90ZQ%3D%3D?line=4'>5</a>\u001b[0m     encrypted_message_from_file \u001b[39m=\u001b[39m f\u001b[39m.\u001b[39mread()\n\u001b[1;32m      <a href='vscode-notebook-cell://codespaces%2Bpotential-space-garbanzo-v6v57r9qvrxjcwv5/workspaces/DE2_HW1_GROUP/CEU/DE2_HW1.ipynb#W3sdnNjb2RlLXJlbW90ZQ%3D%3D?line=6'>7</a>\u001b[0m private_key_cipher \u001b[39m=\u001b[39m PKCS1_OAEP\u001b[39m.\u001b[39mnew(private_key)\n\u001b[0;32m----> <a href='vscode-notebook-cell://codespaces%2Bpotential-space-garbanzo-v6v57r9qvrxjcwv5/workspaces/DE2_HW1_GROUP/CEU/DE2_HW1.ipynb#W3sdnNjb2RlLXJlbW90ZQ%3D%3D?line=7'>8</a>\u001b[0m decrypted_message \u001b[39m=\u001b[39m private_key_cipher\u001b[39m.\u001b[39;49mdecrypt(encrypted_message_from_file)\n\u001b[1;32m      <a href='vscode-notebook-cell://codespaces%2Bpotential-space-garbanzo-v6v57r9qvrxjcwv5/workspaces/DE2_HW1_GROUP/CEU/DE2_HW1.ipynb#W3sdnNjb2RlLXJlbW90ZQ%3D%3D?line=8'>9</a>\u001b[0m \u001b[39mprint\u001b[39m(\u001b[39mf\u001b[39m\u001b[39m\"\u001b[39m\u001b[39mDecrypted message: \u001b[39m\u001b[39m{\u001b[39;00mdecrypted_message\u001b[39m.\u001b[39mdecode(\u001b[39m'\u001b[39m\u001b[39mutf-8\u001b[39m\u001b[39m'\u001b[39m)\u001b[39m}\u001b[39;00m\u001b[39m\"\u001b[39m)\n\u001b[1;32m     <a href='vscode-notebook-cell://codespaces%2Bpotential-space-garbanzo-v6v57r9qvrxjcwv5/workspaces/DE2_HW1_GROUP/CEU/DE2_HW1.ipynb#W3sdnNjb2RlLXJlbW90ZQ%3D%3D?line=10'>11</a>\u001b[0m \u001b[39m# Save the encrypted message to a file\u001b[39;00m\n",
      "File \u001b[0;32m~/.python/current/lib/python3.10/site-packages/Cryptodome/Cipher/PKCS1_OAEP.py:200\u001b[0m, in \u001b[0;36mPKCS1OAEP_Cipher.decrypt\u001b[0;34m(self, ciphertext)\u001b[0m\n\u001b[1;32m    198\u001b[0m     invalid \u001b[39m|\u001b[39m\u001b[39m=\u001b[39m bord(x)\n\u001b[1;32m    199\u001b[0m \u001b[39mif\u001b[39;00m invalid \u001b[39m!=\u001b[39m \u001b[39m0\u001b[39m:\n\u001b[0;32m--> 200\u001b[0m     \u001b[39mraise\u001b[39;00m \u001b[39mValueError\u001b[39;00m(\u001b[39m\"\u001b[39m\u001b[39mIncorrect decryption.\u001b[39m\u001b[39m\"\u001b[39m)\n\u001b[1;32m    201\u001b[0m \u001b[39m# Step 4\u001b[39;00m\n\u001b[1;32m    202\u001b[0m \u001b[39mreturn\u001b[39;00m db[one_pos \u001b[39m+\u001b[39m \u001b[39m1\u001b[39m:]\n",
      "\u001b[0;31mValueError\u001b[0m: Incorrect decryption."
     ]
    }
   ],
   "source": [
    "PROJECT_FOLDER = Path(\"/workspaces/DE2_HW1_GROUP/CEU\")\n",
    "ENCRYPTED_MESSAGE_MARCELL = PROJECT_FOLDER / \"encrypted_message_to_CEU_Marcell.bin\"\n",
    "\n",
    "with open(ENCRYPTED_MESSAGE_MARCELL, \"rb\") as f:\n",
    "    encrypted_message_from_file = f.read()\n",
    "\n",
    "private_key_cipher = PKCS1_OAEP.new(private_key)\n",
    "decrypted_message = private_key_cipher.decrypt(encrypted_message_from_file)\n",
    "print(f\"Decrypted message: {decrypted_message.decode('utf-8')}\")\n",
    "\n",
    "# Save the encrypted message to a file\n",
    "DECRYPTED_MESSAGE_FILE_MARCELL = PROJECT_FOLDER / \"decrypted_message_Marcell.bin\"\n",
    "with open(DECRYPTED_MESSAGE_FILE_MARCELL, \"wb\") as f:\n",
    "    f.write(decrypted_message)"
   ]
  },
  {
   "cell_type": "code",
   "execution_count": null,
   "metadata": {},
   "outputs": [],
   "source": [
    "with open(ENCRYPTED_MESSAGE_FILE, \"rb\") as f:\n",
    "    encrypted_message_from_file = f.read()\n",
    "\n",
    "private_key_cipher = PKCS1_OAEP.new(private_key)\n",
    "decrypted_message = private_key_cipher.decrypt(encrypted_message_from_file)\n",
    "print(f\"Decrypted message: {decrypted_message.decode('utf-8')}\")\n",
    "\n",
    "# Save the encrypted message to a file\n",
    "DECRYPTED_MESSAGE_FILE = PROJECT_FOLDER / \"decrypted_message.bin\"\n",
    "with open(DECRYPTED_MESSAGE_FILE, \"wb\") as f:\n",
    "    f.write(decrypted_message)"
   ]
  }
 ],
 "metadata": {
  "kernelspec": {
   "display_name": "Python 3 (ipykernel)",
   "language": "python",
   "name": "python3"
  },
  "language_info": {
   "codemirror_mode": {
    "name": "ipython",
    "version": 3
   },
   "file_extension": ".py",
   "mimetype": "text/x-python",
   "name": "python",
   "nbconvert_exporter": "python",
   "pygments_lexer": "ipython3",
   "version": "3.10.8"
  }
 },
 "nbformat": 4,
 "nbformat_minor": 5
}
