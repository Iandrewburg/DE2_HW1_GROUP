{
 "cells": [
  {
   "cell_type": "code",
   "execution_count": 23,
   "id": "348aa8e2-4de8-44da-84af-d358e617ead8",
   "metadata": {
    "tags": []
   },
   "outputs": [
    {
     "name": "stdout",
     "output_type": "stream",
     "text": [
      "/workspaces/DE2_HW1_GROUP/MARCELL\n",
      "/workspaces/DE2_HW1_GROUP/MARCELL/my_keypair\n",
      "/workspaces/DE2_HW1_GROUP/MARCELL/my_keypair.pub\n"
     ]
    }
   ],
   "source": [
    "import os\n",
    "from Cryptodome.Cipher import PKCS1_OAEP\n",
    "from Cryptodome.PublicKey import RSA\n",
    "\n",
    "# Get the current working directory (project folder)\n",
    "PROJECT_FOLDER = os.getcwd()\n",
    "print(PROJECT_FOLDER)\n",
    "\n",
    "# Construct the paths for the private and public key files\n",
    "PRIVATE_KEY_FILE = os.path.join(PROJECT_FOLDER, \"my_keypair\")\n",
    "PUBLIC_KEY_FILE = os.path.join(PROJECT_FOLDER, \"my_keypair.pub\")\n",
    "\n",
    "print(PRIVATE_KEY_FILE)\n",
    "print(PUBLIC_KEY_FILE)\n",
    "\n",
    "# Assertions to check if the files exist\n",
    "assert os.path.isfile(PRIVATE_KEY_FILE), \"Private key file not found.\"\n",
    "assert os.path.isfile(PUBLIC_KEY_FILE), \"Public key file not found.\""
   ]
  },
  {
   "cell_type": "code",
   "execution_count": 24,
   "id": "a318bb66-2cd3-4849-8aa4-3910521b6d62",
   "metadata": {
    "tags": []
   },
   "outputs": [
    {
     "name": "stdout",
     "output_type": "stream",
     "text": [
      "Encrypted message: b\"d\\xde\\xcc\\x83W\\xd0v\\xd6o}\\x9c!\\xec\\xe4\\xa3;\\xbb;\\x1f\\xa7J\\xa7&t\\xc8_\\xf4UCq\\x93\\x13\\x9bH\\x1f\\xfb\\xa2\\xe0z\\xe4\\xab\\xcf{\\xa2\\x8bI\\x03\\xb9\\xbd{~G\\xfbh\\x10\\x1b\\x98\\xe4-\\xe9\\x8a\\r\\xa5t)R\\x0c\\xf5\\xc6\\x06\\xa7\\x94\\x0f\\x8d\\xe7\\xd3\\xbecY2\\xfa\\x84(\\xc12\\xfc\\xc6\\xb9\\xd8[y[\\xcd\\x02D\\xf0b\\xd4\\xfb\\x12\\xae\\xe5Sob\\x00\\x91\\x8b\\x99\\x8c\\xd4\\x95ZUY\\xaf\\x1f#\\x07~\\x87\\x19\\xd7\\xd3\\xea\\xd7\\x1b\\x96\\xbc\\xc2\\x95K\\xa4I\\xacE0\\xa8\\xdb\\x1f\\xf9v\\xa3L+\\xb7\\x88\\x10%\\xb7\\xe0\\x8a\\xfc\\xc8\\x05BRT:W\\x9f\\x16\\xff^c\\xb6>\\xbd_\\xbc\\x1d\\xf2\\xe5\\xa0\\xd3D\\x86\\x15\\xcfnl\\nqZCwM!@\\x7f\\xaad\\x97+\\x9bS\\xe6\\xd4\\xfcR'h\\x9d(I\\xd3\\xbd\\xc6\\xbe\\xa2\\xa6e\\x9d\\xa3r\\x9c:\\x1ee\\x8c\\xcc\\xec\\xd1t\\xfd\\xe1z\\xc5W\\xda\\xaf\\xe7\\x88\\xa2~\\xae\\x15\\x1c\\x0bS\\xe7\\xcd\\x94#\\xe0\\xee\\xae\\xf1\\x86+y\\x83\\xe5/\\xae\\xd6\\x178\\xd7x\\xa3\\xdf\\x1f\\xb6yK\\xa6as\\x16\\xb9q\\x0e0\\xbc\\xa2\\x99]\\xf2\\x8c\\xc19\\x1e@S\\xaf\\xf8\\xd1\\x15 Y\\x89\\xea+\\xff\\xbc\\xd8$Zz\\xc6\\xe5\\x02\\x14_P{\\x90\\x17p\\xb6\\xf2\\xe8\\x83\\x95\\x807\\x14\\xd2Q\\xf7\\x17-@\\xf3\\xe2\\x07GJ\\x9bvx\\xa4\\xee~\\x87\\x950G`\\xaeh\\xfbw\\x9c(]/\\x83\\x08\\\\\\xbf\\x99z\\xeeZ\\x84\\x8bq;\\xbe\\x8c\\xc5\\xc38\\x1b\\xa7\\xa8Z\\xeaS\\xbb\\x97\\x01\\xd1\\xb7WSo\\x141\\xee\\xaf\\xed\"\n"
     ]
    }
   ],
   "source": [
    "from Cryptodome.PublicKey import RSA\n",
    "from Cryptodome.Cipher import PKCS1_OAEP\n",
    "import pathlib\n",
    "from pathlib import Path\n",
    "import os\n",
    "\n",
    "# Define your project folder path\n",
    "PROJECT_FOLDER = Path('/workspaces/DE2_HW1_GROUP/CEU')\n",
    "\n",
    "# Load your public key\n",
    "PRIVATE_KEY_FILE = PROJECT_FOLDER / \"my_keypair\"  # Corrected file path\n",
    "with open(PRIVATE_KEY_FILE, \"r\") as key_file:\n",
    "    private_key = RSA.import_key(key_file.read())\n",
    "public_key = private_key.publickey()\n",
    "\n",
    "# Your secret message\n",
    "short_secret_message = \"Hi CEU! This is my encryted message.\".encode(\"utf-8\")\n",
    "\n",
    "# Encrypt the message with the public key\n",
    "public_key_cipher = PKCS1_OAEP.new(public_key)\n",
    "encrypted_message_to_CEU_Marcell = public_key_cipher.encrypt(short_secret_message)\n",
    "\n",
    "# Output the encrypted message\n",
    "print(f\"Encrypted message: {encrypted_message_to_CEU_Marcell}\")\n",
    "\n",
    "# Save the encrypted message to a file\n",
    "ENCRYPTED_MESSAGE_FILE = PROJECT_FOLDER / \"encrypted_message_to_CEU_Marcell.bin\"\n",
    "with open(ENCRYPTED_MESSAGE_FILE, \"wb\") as f:\n",
    "    f.write(encrypted_message_to_CEU_Marcell)"
   ]
  },
  {
   "cell_type": "code",
   "execution_count": 25,
   "id": "fc349c4b-696f-4ba4-a971-a3d9d42931ea",
   "metadata": {},
   "outputs": [
    {
     "name": "stdout",
     "output_type": "stream",
     "text": [
      "Decrypted message: Hey, Marcell! Thank you for visiting CEU's website. We hope to see you again soon!\n"
     ]
    }
   ],
   "source": [
    "from Cryptodome.Cipher import PKCS1_OAEP\n",
    "from Cryptodome.PublicKey import RSA\n",
    "from pathlib import Path\n",
    "\n",
    "# Set up the paths\n",
    "PROJECT_FOLDER = Path(\"/workspaces/DE2_HW1_GROUP/MARCELL\")\n",
    "PRIVATE_KEY_PATH = PROJECT_FOLDER / \"my_keypair\"  # Adjust with your actual private key file path\n",
    "ENCRYPTED_MESSAGE_CEU = PROJECT_FOLDER / \"FROM_CEU_encrypted_message.bin\"\n",
    "\n",
    "# Load the private key\n",
    "with open(PRIVATE_KEY_PATH, 'rb') as private_file:\n",
    "    private_key = RSA.import_key(private_file.read())\n",
    "\n",
    "# Decrypt the message\n",
    "with open(ENCRYPTED_MESSAGE_CEU, \"rb\") as f:\n",
    "    encrypted_message_from_file = f.read()\n",
    "\n",
    "private_key_cipher = PKCS1_OAEP.new(private_key)\n",
    "try:\n",
    "    decrypted_message = private_key_cipher.decrypt(encrypted_message_from_file)\n",
    "    print(f\"Decrypted message: {decrypted_message.decode('utf-8')}\")\n",
    "except ValueError as e:\n",
    "    decrypted_message = \"Decryption Not Possible\"\n",
    "    print(f\"Decryption failed: {e}\")\n",
    "\n",
    "# Save the decrypted message to a file\n",
    "DECRYPTED_MESSAGE_FILE_MARCELL = PROJECT_FOLDER / \"decrypted_message_Marcell.bin\"\n",
    "with open(DECRYPTED_MESSAGE_FILE_MARCELL, \"wb\") as f:\n",
    "    f.write(decrypted_message)\n"
   ]
  }
 ],
 "metadata": {
  "kernelspec": {
   "display_name": "Python 3 (ipykernel)",
   "language": "python",
   "name": "python3"
  },
  "language_info": {
   "codemirror_mode": {
    "name": "ipython",
    "version": 3
   },
   "file_extension": ".py",
   "mimetype": "text/x-python",
   "name": "python",
   "nbconvert_exporter": "python",
   "pygments_lexer": "ipython3",
   "version": "3.10.8"
  }
 },
 "nbformat": 4,
 "nbformat_minor": 5
}
