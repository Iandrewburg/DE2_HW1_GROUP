{
 "cells": [
  {
   "cell_type": "code",
   "execution_count": 23,
   "id": "348aa8e2-4de8-44da-84af-d358e617ead8",
   "metadata": {
    "tags": []
   },
   "outputs": [
    {
     "name": "stdout",
     "output_type": "stream",
     "text": [
      "/workspaces/DE2_HW1_GROUP/MARCELL\n",
      "/workspaces/DE2_HW1_GROUP/MARCELL/my_keypair\n",
      "/workspaces/DE2_HW1_GROUP/MARCELL/my_keypair.pub\n"
     ]
    }
   ],
   "source": [
    "import os\n",
    "from Cryptodome.Cipher import PKCS1_OAEP\n",
    "from Cryptodome.PublicKey import RSA\n",
    "\n",
    "# Get the current working directory (project folder)\n",
    "PROJECT_FOLDER = os.getcwd()\n",
    "print(PROJECT_FOLDER)\n",
    "\n",
    "# Construct the paths for the private and public key files\n",
    "PRIVATE_KEY_FILE = os.path.join(PROJECT_FOLDER, \"my_keypair\")\n",
    "PUBLIC_KEY_FILE = os.path.join(PROJECT_FOLDER, \"my_keypair.pub\")\n",
    "\n",
    "print(PRIVATE_KEY_FILE)\n",
    "print(PUBLIC_KEY_FILE)\n",
    "\n",
    "# Assertions to check if the files exist\n",
    "assert os.path.isfile(PRIVATE_KEY_FILE), \"Private key file not found.\"\n",
    "assert os.path.isfile(PUBLIC_KEY_FILE), \"Public key file not found.\""
   ]
  },
  {
   "cell_type": "code",
   "execution_count": 1,
   "id": "a318bb66-2cd3-4849-8aa4-3910521b6d62",
   "metadata": {
    "tags": []
   },
   "outputs": [
    {
     "name": "stdout",
     "output_type": "stream",
     "text": [
      "Encrypted message: b'\\x8d\\x0c\\x9e\\xf0\\x9f\\x9bS/\\x0f\\x03\\xf3\\xe2\\x12\\x8f5\\rIY\\xf3!\\xc9\\xa7\\x92\\x8aKp<|X\\xc3yt\\xfa^\\xee\\xbf\\x12\\xc1\"\\xdd\\x16\\xc2\\xcf\\xd5\\xa9x##\\xddaz\\xa3>w\\x97\\xa1\\xccW\\xdf\\xad|\\x18\\x07\\xbe\\xfb\\x10\\x90M\\xfd\\x94\\xe8P\\xa4\\xb0a\\xcb\\xafo\\x87i\\x86\\xb4\\xfc\\xfd\\xc5\\xdaKa\\xb7\\x05\\xf9\\xd3\\xb9\\n\\xe7\\xf1oc5\\x00;\\xf4\\xe10l\\x8b\\x93\\xcc\\xc1N{k \\xbb\\xbf\\xb9\\x88\\xbd\\xab\\x9f\\xc3\\x15\\x8a1\\x9f\\x99\\x9a6~c!\\xe6)\\xd6vw&\\xf0\\xc0\\xf75\\x83\\xa9\\xb7\\xa3Y\\x80x\\x0e4:\\xe4/\\x1a\\xe0\\xd7~\\x9e\\x06\\x08D z\\x83\\xebj\\x177\\xb1\\xb8!\\xf1>\\x16\\xd2_\\xfd\\xf46\\xee\\x85\\xc0P;\\x17U}\\xc4h\\x04\\xc5\\xae\\xe2\\xb3_\\xfa\\x8em\\x87\\x99\\x0e\\xde\\xad\\xb5\\x13\\xa2hkK\\'\\'B\\x9e\\x03R\\x1d\\xc5\\xfbud\\xf2Pw\\r\\xb1@\\xbc\\x9d\\xd1\\x8b6\\x84\\x05\\xf0F8;\\xea\\x05+b\\xc8\\xe9\\xe0$J\\xedeP\\xaaK\\x07\\x91\\x89p!\\xb9\\xa3\\xa9s,\\xc8\\xbb\\xa2\\x9e\\t\\xaf\\xb0*\\xb1%s;k\\x02\\xd5;\\x92\\x83\\xdb\\xf6\\x84\\x1a\\xe7\\x87\\xbf\\xb4O\\xca\\xadW\\xdbC\\x1f@\\xc2\\xed\\x87\\xc8\\xd4\\xc5\\xf6\\xfa\\xa1\\xc0\\xdf\\xd6\\x9d\\x86\\xedeL\\xc5I\\xc1^AM\\x19\\xe8\\x96\\x00\\x89hv\\xb0\\xab\\xef\\x9dX\\xd6\\xc4\\x9c*1\\xe4\\xb1\\xd9%\\xc3\\x15\\xc0?X\\x17\\xf6\\xea\\xd8\\xcf\\xd7\\xb1~\\x1d\\n\\x92\\xbe\\x95\\xa1`\\x0e?l\\xfe\\xa6g$\\xb5\\xc3\\xa5\\x12\\xa9\\xc3v\\xed\\xd8)\\x9e\\xc6\\xe8\\xafb{~\\xd0'\n"
     ]
    }
   ],
   "source": [
    "from Cryptodome.PublicKey import RSA\n",
    "from Cryptodome.Cipher import PKCS1_OAEP\n",
    "import pathlib\n",
    "from pathlib import Path\n",
    "import os\n",
    "\n",
    "# Define your project folder path\n",
    "PROJECT_FOLDER = Path('/workspaces/DE2_HW1_GROUP/CEU')\n",
    "\n",
    "# Load your public key\n",
    "PRIVATE_KEY_FILE = PROJECT_FOLDER / \"my_keypair\"  # Corrected file path\n",
    "with open(PRIVATE_KEY_FILE, \"r\") as key_file:\n",
    "    public_key = RSA.import_key(key_file.read())\n",
    "\n",
    "# Your secret message\n",
    "short_secret_message = \"Hi CEU! This is my encryted message.\".encode(\"utf-8\")\n",
    "\n",
    "# Encrypt the message with the public key\n",
    "public_key_cipher = PKCS1_OAEP.new(public_key)\n",
    "encrypted_message_to_CEU_Marcell = public_key_cipher.encrypt(short_secret_message)\n",
    "\n",
    "# Output the encrypted message\n",
    "print(f\"Encrypted message: {encrypted_message_to_CEU_Marcell}\")\n",
    "\n",
    "# Save the encrypted message to a file\n",
    "ENCRYPTED_MESSAGE_FILE = PROJECT_FOLDER / \"encrypted_message_to_CEU_Marcell.bin\"\n",
    "with open(ENCRYPTED_MESSAGE_FILE, \"wb\") as f:\n",
    "    f.write(encrypted_message_to_CEU_Marcell)"
   ]
  },
  {
   "cell_type": "code",
   "execution_count": 25,
   "id": "fc349c4b-696f-4ba4-a971-a3d9d42931ea",
   "metadata": {},
   "outputs": [
    {
     "name": "stdout",
     "output_type": "stream",
     "text": [
      "Decrypted message: Hey, Marcell! Thank you for visiting CEU's website. We hope to see you again soon!\n"
     ]
    }
   ],
   "source": [
    "from Cryptodome.Cipher import PKCS1_OAEP\n",
    "from Cryptodome.PublicKey import RSA\n",
    "from pathlib import Path\n",
    "\n",
    "# Set up the paths\n",
    "PROJECT_FOLDER = Path(\"/workspaces/DE2_HW1_GROUP/MARCELL\")\n",
    "PRIVATE_KEY_PATH = PROJECT_FOLDER / \"my_keypair\"  # Adjust with your actual private key file path\n",
    "ENCRYPTED_MESSAGE_CEU = PROJECT_FOLDER / \"FROM_CEU_encrypted_message.bin\"\n",
    "\n",
    "# Load the private key\n",
    "with open(PRIVATE_KEY_PATH, 'rb') as private_file:\n",
    "    private_key = RSA.import_key(private_file.read())\n",
    "\n",
    "# Decrypt the message\n",
    "with open(ENCRYPTED_MESSAGE_CEU, \"rb\") as f:\n",
    "    encrypted_message_from_file = f.read()\n",
    "\n",
    "private_key_cipher = PKCS1_OAEP.new(private_key)\n",
    "try:\n",
    "    decrypted_message = private_key_cipher.decrypt(encrypted_message_from_file)\n",
    "    print(f\"Decrypted message: {decrypted_message.decode('utf-8')}\")\n",
    "except ValueError as e:\n",
    "    decrypted_message = \"Decryption Not Possible\"\n",
    "    print(f\"Decryption failed: {e}\")\n",
    "\n",
    "# Save the decrypted message to a file\n",
    "DECRYPTED_MESSAGE_FILE_MARCELL = PROJECT_FOLDER / \"decrypted_message_Marcell.bin\"\n",
    "with open(DECRYPTED_MESSAGE_FILE_MARCELL, \"wb\") as f:\n",
    "    f.write(decrypted_message)\n"
   ]
  }
 ],
 "metadata": {
  "kernelspec": {
   "display_name": "Python 3 (ipykernel)",
   "language": "python",
   "name": "python3"
  },
  "language_info": {
   "codemirror_mode": {
    "name": "ipython",
    "version": 3
   },
   "file_extension": ".py",
   "mimetype": "text/x-python",
   "name": "python",
   "nbconvert_exporter": "python",
   "pygments_lexer": "ipython3",
   "version": "3.10.8"
  }
 },
 "nbformat": 4,
 "nbformat_minor": 5
}
