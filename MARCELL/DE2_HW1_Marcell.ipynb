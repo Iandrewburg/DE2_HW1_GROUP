{
 "cells": [
  {
   "cell_type": "code",
   "execution_count": 2,
   "id": "0cec42c5-dde2-427c-88ba-00bbd2dd0e23",
   "metadata": {
    "tags": []
   },
   "outputs": [
    {
     "name": "stdout",
     "output_type": "stream",
     "text": [
      "Requirement already satisfied: pycryptodomex in /usr/local/python/3.10.8/lib/python3.10/site-packages (3.19.0)\n",
      "Note: you may need to restart the kernel to use updated packages.\n"
     ]
    }
   ],
   "source": [
    "pip install pycryptodomex"
   ]
  },
  {
   "cell_type": "code",
   "execution_count": 1,
   "id": "348aa8e2-4de8-44da-84af-d358e617ead8",
   "metadata": {
    "tags": []
   },
   "outputs": [
    {
     "name": "stdout",
     "output_type": "stream",
     "text": [
      "/workspaces/DE2_HW1_GROUP/MARCELL\n",
      "/workspaces/DE2_HW1_GROUP/MARCELL/my_keypair\n",
      "/workspaces/DE2_HW1_GROUP/MARCELL/my_keypair.pub\n"
     ]
    }
   ],
   "source": [
    "import os\n",
    "from Cryptodome.Cipher import PKCS1_OAEP\n",
    "from Cryptodome.PublicKey import RSA\n",
    "\n",
    "# Get the current working directory (project folder)\n",
    "PROJECT_FOLDER = os.getcwd()\n",
    "print(PROJECT_FOLDER)\n",
    "\n",
    "# Construct the paths for the private and public key files\n",
    "PRIVATE_KEY_FILE = os.path.join(PROJECT_FOLDER, \"my_keypair\")\n",
    "PUBLIC_KEY_FILE = os.path.join(PROJECT_FOLDER, \"my_keypair.pub\")\n",
    "\n",
    "print(PRIVATE_KEY_FILE)\n",
    "print(PUBLIC_KEY_FILE)\n",
    "\n",
    "# Assertions to check if the files exist\n",
    "assert os.path.isfile(PRIVATE_KEY_FILE), \"Private key file not found.\"\n",
    "assert os.path.isfile(PUBLIC_KEY_FILE), \"Public key file not found.\""
   ]
  },
  {
   "cell_type": "code",
   "execution_count": 2,
   "id": "a318bb66-2cd3-4849-8aa4-3910521b6d62",
   "metadata": {
    "tags": []
   },
   "outputs": [
    {
     "name": "stdout",
     "output_type": "stream",
     "text": [
      "Encrypted message: b\"\\x19/D\\xf9Z\\x92\\x95\\x88\\xd5;\\x00\\x8c9\\xc8?\\xab(\\xf0\\xb9WA\\xe8\\x9e\\xbc,D\\x9f\\xf5\\x9a\\xc7v\\xbc1 \\xed\\xc4)\\x14<g\\xc4dm\\xabS\\xd3\\x7fg\\x9b\\x13+S\\xe8)\\xf6\\xea\\r\\xa0\\xf9\\xf3\\x13\\xf69\\xdez]\\x94\\xf0\\xe3z6Z<\\x80\\xb9=\\x9f\\xc9\\xf1J,\\x88\\x9d3\\xca/]-\\xbeu\\x15\\xd53'h\\xee\\xd0\\x9c\\x96\\x10'\\xc6\\xb6\\xb6v\\xc0\\xd7\\xc2\\xb9\\xe8\\xf9\\x9c\\xcaX\\xdd0\\xf3{\\xc3\\xb7\\xe8\\xc4r_\\x0c\\xcfZ\\x89\\xe8\\x04\\xe7\\xa0X\\xdbW\\xcf\\xe4\\x95\\\\\\xa7_?\\xddA#\\xf3q\\xa7\\x1e\\x1c^\\xdbj%<\\xe0\\xf9\\xe3\\x88w\\xe6z0\\x9e\\x07\\xb2\\xa2\\x9d/\\x96\\x8cR\\x98\\xbe\\x1e\\xab\\x04$T\\x00E\\xe2\\r\\x12\\xbb\\xabI\\xe7\\xf0:w\\x9e\\xa0\\xd4\\xc2\\x06sq\\x99O\\x11\\x9b\\x89\\xbd4\\x0f\\xc6\\xb0\\xbe\\x04\\x87]v\\x18\\x1d\\xf4\\x1e\\x95\\xc1\\xe1\\xe9\\xf1\\xdd\\xcc\\x14N\\xb5g\\x9bROj\\x0co\\xe0\\xe0n\\xd1f\\xb1o\\x8f`\\xe9,}\\xce\\xc3\\x9f\\x08\\xb3\\x03\\x14v\\xd15XV\\xbdf\\x8f\\xcb\\xdc(\\xc3@\\x19\\x8a{\\x19\\x1e\\x85J\\xa3\\xfc\\xdfD\\xc5@\\x85\\xcb\\xa1E1<\\x97\\xb0y\\x037\\x0e\\xb9J!$\\x836\\x8e\\x02&I\\xc0\\x05\\x15R< \\xf6Vk|\\x9bz0\\xa4\\xaf\\xf0\\xa5\\x841:o\\xd2\\xd1\\xcd\\xd6_\\x07\\x87fxy\\xac\\xb2\\xe1\\x88gE\\xd0r\\x81\\xa7\\xf0\\xb8T&fY3\\xfc\\xe0\\xcc\\xcd\\xa1E\\x9f\\xf64N\\x1f\\x11\\x91\\xea\\x96\\xd4\\xfe\\xedB.\\x83\\x10\\x00%\\xd6C\\x9f\\xc6\\x14X\\x82\\xe2\\xd8\\x84\\xe6\"\n"
     ]
    }
   ],
   "source": [
    "from Cryptodome.PublicKey import RSA\n",
    "from Cryptodome.Cipher import PKCS1_OAEP\n",
    "import pathlib\n",
    "import os\n",
    "\n",
    "# Define your project folder path\n",
    "PROJECT_FOLDER = pathlib.Path(os.getcwd())\n",
    "\n",
    "# Load your public key\n",
    "PRIVATE_KEY_FILE = PROJECT_FOLDER / \"my_keypair\"  # Corrected file path\n",
    "with open(PRIVATE_KEY_FILE, \"r\") as key_file:\n",
    "    private_key = RSA.import_key(key_file.read())\n",
    "public_key = private_key.publickey()\n",
    "\n",
    "# Your secret message\n",
    "short_secret_message = \"Hello friends. This right here is my super secret message. No one can know what it is.\".encode(\"utf-8\")\n",
    "\n",
    "# Encrypt the message with the public key\n",
    "public_key_cipher = PKCS1_OAEP.new(public_key)\n",
    "encrypted_message_marcell = public_key_cipher.encrypt(short_secret_message)\n",
    "\n",
    "# Output the encrypted message\n",
    "print(f\"Encrypted message: {encrypted_message_marcell}\")\n",
    "\n",
    "# Save the encrypted message to a file\n",
    "ENCRYPTED_MESSAGE_FILE = PROJECT_FOLDER / \"encrypted_message_marcell.bin\"\n",
    "with open(ENCRYPTED_MESSAGE_FILE, \"wb\") as f:\n",
    "    f.write(encrypted_message_marcell)"
   ]
  },
  {
   "cell_type": "code",
   "execution_count": 3,
   "id": "fc349c4b-696f-4ba4-a971-a3d9d42931ea",
   "metadata": {},
   "outputs": [
    {
     "name": "stdout",
     "output_type": "stream",
     "text": [
      "Decrypted message: Hello friends. This right here is my super secret message. No one can know what it is.\n"
     ]
    }
   ],
   "source": [
    "with open(ENCRYPTED_MESSAGE_FILE, \"rb\") as f:\n",
    "    encrypted_message_from_file = f.read()\n",
    "\n",
    "private_key_cipher = PKCS1_OAEP.new(private_key)\n",
    "decrypted_message = private_key_cipher.decrypt(encrypted_message_from_file)\n",
    "print(f\"Decrypted message: {decrypted_message.decode('utf-8')}\")\n",
    "\n",
    "# Save the encrypted message to a file\n",
    "DECRYPTED_MESSAGE_FILE = PROJECT_FOLDER / \"decrypted_message.bin\"\n",
    "with open(DECRYPTED_MESSAGE_FILE, \"wb\") as f:\n",
    "    f.write(decrypted_message)"
   ]
  },
  {
   "cell_type": "code",
   "execution_count": null,
   "id": "84cc7de9-e728-4017-a748-ed474d82e30a",
   "metadata": {},
   "outputs": [],
   "source": []
  }
 ],
 "metadata": {
  "kernelspec": {
   "display_name": "Python 3 (ipykernel)",
   "language": "python",
   "name": "python3"
  },
  "language_info": {
   "codemirror_mode": {
    "name": "ipython",
    "version": 3
   },
   "file_extension": ".py",
   "mimetype": "text/x-python",
   "name": "python",
   "nbconvert_exporter": "python",
   "pygments_lexer": "ipython3",
   "version": "3.10.8"
  }
 },
 "nbformat": 4,
 "nbformat_minor": 5
}
