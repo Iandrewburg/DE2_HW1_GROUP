{
 "cells": [
  {
   "cell_type": "code",
   "execution_count": 1,
   "id": "0cec42c5-dde2-427c-88ba-00bbd2dd0e23",
   "metadata": {
    "tags": []
   },
   "outputs": [
    {
     "name": "stdout",
     "output_type": "stream",
     "text": [
      "Requirement already satisfied: pycryptodomex in /usr/local/python/3.10.8/lib/python3.10/site-packages (3.19.0)\n",
      "Note: you may need to restart the kernel to use updated packages.\n"
     ]
    }
   ],
   "source": [
    "pip install pycryptodomex"
   ]
  },
  {
   "cell_type": "code",
   "execution_count": 9,
   "id": "348aa8e2-4de8-44da-84af-d358e617ead8",
   "metadata": {
    "tags": []
   },
   "outputs": [
    {
     "name": "stdout",
     "output_type": "stream",
     "text": [
      "/workspaces/DE2_HW1_GROUP/MARCELL\n",
      "/workspaces/DE2_HW1_GROUP/MARCELL/my_keypair\n",
      "/workspaces/DE2_HW1_GROUP/MARCELL/my_keypair.pub\n"
     ]
    }
   ],
   "source": [
    "import os\n",
    "from Cryptodome.Cipher import PKCS1_OAEP\n",
    "from Cryptodome.PublicKey import RSA\n",
    "\n",
    "# Get the current working directory (project folder)\n",
    "PROJECT_FOLDER = os.getcwd()\n",
    "print(PROJECT_FOLDER)\n",
    "\n",
    "# Construct the paths for the private and public key files\n",
    "PRIVATE_KEY_FILE = os.path.join(PROJECT_FOLDER, \"my_keypair\")\n",
    "PUBLIC_KEY_FILE = os.path.join(PROJECT_FOLDER, \"my_keypair.pub\")\n",
    "\n",
    "print(PRIVATE_KEY_FILE)\n",
    "print(PUBLIC_KEY_FILE)\n",
    "\n",
    "# Assertions to check if the files exist\n",
    "assert os.path.isfile(PRIVATE_KEY_FILE), \"Private key file not found.\"\n",
    "assert os.path.isfile(PUBLIC_KEY_FILE), \"Public key file not found.\""
   ]
  },
  {
   "cell_type": "code",
   "execution_count": 8,
   "id": "a318bb66-2cd3-4849-8aa4-3910521b6d62",
   "metadata": {
    "tags": []
   },
   "outputs": [
    {
     "name": "stdout",
     "output_type": "stream",
     "text": [
      "Encrypted message: b'\\x10\\xedBx\\x85=\\xa5\\x1c\\xca\\xea\\xa1\\x0c-B\\xc6\\xcb\\x15T\\xe5\\xb4\\x07\\xeb\\x95xMX\\x17f\\xf6a\\xa87hV\\xee;E3\\xb8\\xc3a\\x02\\xe7\\xf9\\x7fk\\xf3\\xd7\\xf6\\x11\\x9d@4\\xf7\\xb0\\x92\\x8b\\x95+\\x13\\x06\\x93\\xa5K^M\\xcb#)\\x17\\xf5\\x0c\\x14L!\\x9eB\\xd8h\\x08\\x8f\\xf6)\\xd7~\\xd1[\\x01\\x14\\x00/\\n]3d\\x95\\xad\"\\xcd]U\\x86\\xf6\\xd8\\xf1\\xea\\x8bx\\r\\x89e\\xa8\\xa3\\xe1vi\\x8e\\xd5JM`\\x0c\\x1c\\xb0\\xb5\\x85\\xe0\\x84\\xf3\\x86\\xbe\\xf0<U\\xbfM%\\x89\\xb11K\\xb9D\\x7f\\xfc\\xb9\\xea]C\\x89~jK\\xa1*\\x9c\\xef\\x16VDU)K\\x97q\\x92J\\xa2E\\xbd\\x8fO.<e\\xab\\xcd\\x14\\x01hs\\x87J\\xd0!(\\xc1 \\x10N\\xcccT\\x15\\\\\\x0b\\x1b\\xbd\\xd4\\x95\\x89\\x84\\x1ct,aJ\\xe1\\x91_\\xf08\\xd7\\x05\\x03\\xe2\\x1ef\\xd5J\\x98\\x8b\\xf3\\x12\\xbd\\xd4-hG\\xfc=\\xe8Rr\\xbd\\x11h\\xdf\\x1c\\xdd\\xfc\\\\f\\x87\\xcd\\x86&\\xfd\\x86F\\x15\\x92\\x8cq-:\\x11\\x8e#F\\xfd\\xf4\\x81\\xa9\\x83<\\xce\\xd3\\xb5\\t\\x9b\\x94\\x17\\roq\\x12L\\x82U[\\xb4D\\x8c\\xe0\\xddo\\x0f\\xed\\xd8\\xdd\\x12\\xc6p\\x19\\x16F\\xef\\x03\\xc07\\x13\\x87\\xbb\\x10\\xf3.0\\x9d\\xd0\\xcec\\x87\\xb4>\\xb1c\\x0e\\xac\\xea[\\xdb\\xec\\xdc\\xaf\\xe0\\xfe\\xa7#I\\xf6\\xae\\x83\\xa2\\x16\\xcb\\xe1L\\x94\\xec\\xb3\\xe2\\xda\\xea-C\\x17\\xf6F\\x00q\\x86>\\xf9\\x07S\\x9b\\x9b\\xf2eel\\xe7sw\\xb8\\xa8\\x1b\\xd3\\x9b\\x81\\x86\\x8fR\\xa8A\\x93\\x11>\\xc7\\xbfN\\x9by'\n"
     ]
    }
   ],
   "source": [
    "from Cryptodome.PublicKey import RSA\n",
    "from Cryptodome.Cipher import PKCS1_OAEP\n",
    "import pathlib\n",
    "from pathlib import Path\n",
    "import os\n",
    "\n",
    "# Define your project folder path\n",
    "PROJECT_FOLDER = Path('/workspaces/DE2_HW1_GROUP/CEU')\n",
    "\n",
    "# Load your public key\n",
    "PRIVATE_KEY_FILE = PROJECT_FOLDER / \"my_keypair\"  # Corrected file path\n",
    "with open(PRIVATE_KEY_FILE, \"r\") as key_file:\n",
    "    private_key = RSA.import_key(key_file.read())\n",
    "public_key = private_key.publickey()\n",
    "\n",
    "# Your secret message\n",
    "short_secret_message = \"Hi CEU! This is my encryted message.\".encode(\"utf-8\")\n",
    "\n",
    "# Encrypt the message with the public key\n",
    "public_key_cipher = PKCS1_OAEP.new(public_key)\n",
    "encrypted_message_to_CEU_Marcell = public_key_cipher.encrypt(short_secret_message)\n",
    "\n",
    "# Output the encrypted message\n",
    "print(f\"Encrypted message: {encrypted_message_to_CEU_Marcell}\")\n",
    "\n",
    "# Save the encrypted message to a file\n",
    "ENCRYPTED_MESSAGE_FILE = PROJECT_FOLDER / \"encrypted_message_to_CEU_Marcell.bin\"\n",
    "with open(ENCRYPTED_MESSAGE_FILE, \"wb\") as f:\n",
    "    f.write(encrypted_message_to_CEU_Marcell)"
   ]
  },
  {
   "cell_type": "code",
   "execution_count": 3,
   "id": "fc349c4b-696f-4ba4-a971-a3d9d42931ea",
   "metadata": {},
   "outputs": [
    {
     "name": "stdout",
     "output_type": "stream",
     "text": [
      "Decrypted message: Hello friends. This right here is my super secret message. No one can know what it is.\n"
     ]
    }
   ],
   "source": [
    "ENCRYPTED_MESSAGE_FILE = PROJECT_FOLDER / \"encrypted_message_to_CEU_Marcell.bin\"\n",
    "with open(ENCRYPTED_MESSAGE_FILE, \"wb\") as f:\n",
    "    f.write(encrypted_message_to_CEU_Marcell)\n",
    "\n",
    "with open(ENCRYPTED_MESSAGE_FILE, \"rb\") as f:\n",
    "    encrypted_message_from_file = f.read()\n",
    "\n",
    "private_key_cipher = PKCS1_OAEP.new(private_key)\n",
    "decrypted_message = private_key_cipher.decrypt(encrypted_message_from_file)\n",
    "print(f\"Decrypted message: {decrypted_message.decode('utf-8')}\")\n",
    "\n",
    "# Save the encrypted message to a file\n",
    "DECRYPTED_MESSAGE_FILE = PROJECT_FOLDER / \"decrypted_message.bin\"\n",
    "with open(DECRYPTED_MESSAGE_FILE, \"wb\") as f:\n",
    "    f.write(decrypted_message)"
   ]
  },
  {
   "cell_type": "code",
   "execution_count": null,
   "id": "84cc7de9-e728-4017-a748-ed474d82e30a",
   "metadata": {},
   "outputs": [],
   "source": []
  }
 ],
 "metadata": {
  "kernelspec": {
   "display_name": "Python 3 (ipykernel)",
   "language": "python",
   "name": "python3"
  },
  "language_info": {
   "codemirror_mode": {
    "name": "ipython",
    "version": 3
   },
   "file_extension": ".py",
   "mimetype": "text/x-python",
   "name": "python",
   "nbconvert_exporter": "python",
   "pygments_lexer": "ipython3",
   "version": "3.10.8"
  }
 },
 "nbformat": 4,
 "nbformat_minor": 5
}
