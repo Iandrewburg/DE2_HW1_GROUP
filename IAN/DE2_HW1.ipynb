{
 "cells": [
  {
   "cell_type": "code",
   "execution_count": 1,
   "id": "0cec42c5-dde2-427c-88ba-00bbd2dd0e23",
   "metadata": {
    "tags": []
   },
   "outputs": [
    {
     "name": "stdout",
     "output_type": "stream",
     "text": [
      "Collecting pycryptodomex\n",
      "  Downloading pycryptodomex-3.19.0-cp35-abi3-manylinux_2_17_x86_64.manylinux2014_x86_64.whl.metadata (3.4 kB)\n",
      "Downloading pycryptodomex-3.19.0-cp35-abi3-manylinux_2_17_x86_64.manylinux2014_x86_64.whl (2.1 MB)\n",
      "\u001b[2K   \u001b[90m━━━━━━━━━━━━━━━━━━━━━━━━━━━━━━━━━━━━━━━━\u001b[0m \u001b[32m2.1/2.1 MB\u001b[0m \u001b[31m9.9 MB/s\u001b[0m eta \u001b[36m0:00:00\u001b[0m:00:01\u001b[0m\n",
      "\u001b[?25hInstalling collected packages: pycryptodomex\n",
      "Successfully installed pycryptodomex-3.19.0\n"
     ]
    }
   ],
   "source": [
    "!pip install pycryptodomex"
   ]
  },
  {
   "cell_type": "code",
   "execution_count": 3,
   "id": "348aa8e2-4de8-44da-84af-d358e617ead8",
   "metadata": {
    "tags": []
   },
   "outputs": [
    {
     "name": "stdout",
     "output_type": "stream",
     "text": [
      "/workspaces/DE2_HW1_GROUP/IAN/my_keypair\n",
      "/workspaces/DE2_HW1_GROUP/IAN/my_keypair.pub\n"
     ]
    }
   ],
   "source": [
    "from pathlib import Path\n",
    "\n",
    "from Cryptodome.Cipher import PKCS1_OAEP\n",
    "from Cryptodome.PublicKey import RSA\n",
    "\n",
    "PROJECT_FOLDER = Path(\"/workspaces/DE2_HW1_GROUP/IAN\")\n",
    "# PROJECT_FOLDER = Path(\"C:\\\\Users\\\\iandr\\\\masters_coding\\\\First Semester\\\\Data Engineering 2\\\\PROJECT_FOLDER\")\n",
    "\n",
    "PRIVATE_KEY_FILE = PROJECT_FOLDER / \"my_keypair\"\n",
    "PUBLIC_KEY_FILE = PROJECT_FOLDER / \"my_keypair.pub\"\n",
    "# PUBLIC_KEY_FILE = Path(\"C:\\\\Users\\\\iandr\\\\masters_coding\\\\First Semester\\\\Data Engineering 2\\\\PROJECT_FOLDER\\\\PRIVATE_KEY_FILE\\\\my_keypair.pub\")\n",
    "\n",
    "print(PRIVATE_KEY_FILE)\n",
    "print(PUBLIC_KEY_FILE)\n",
    "\n",
    "assert Path.exists(PRIVATE_KEY_FILE)\n",
    "assert Path.exists(PUBLIC_KEY_FILE)"
   ]
  },
  {
   "cell_type": "code",
   "execution_count": 2,
   "id": "a318bb66-2cd3-4849-8aa4-3910521b6d62",
   "metadata": {
    "tags": []
   },
   "outputs": [
    {
     "name": "stdout",
     "output_type": "stream",
     "text": [
      "Encrypted message: b'y\\xb1,\\xfb2\\xd9j\\x88\\x9fcB\\x1b-\\xf83\\xf1\\tTM\\xdc\\xc5\\x7f6X\\x13\"<\\xe1zxw~:\\x80\\x9d\\x07\\x04\\xd2\\xecA\\xf9\\xc7\\xe9{$\\xed\\xde\\xd0\\xac\\xeec\\x9a\\xed\\xd5\\xa8Q\\xe5\\xcfP/L\\xcb\\x11ye\\xf7\\x90\\xf9\\xdb\\x14\\xb3\\xc3\\xeb\\xd5yW\\xf8F\\xbe\\xed\\x91\\xdc\\x9dDy\\xe7\\xa4\\x8fj-\\xa4\\x9b\\x83\\xb5d\\xb5\\xd5;g3:a\\x98\\xb2\\x9f\\x7f\\x81\\xa8\"\\xf9\\xb0\\xc4\\x90\\x9e\\xf4\\xad\\xd5\\xa5*\\x17\\xb7\\xe0\\xe5\\xab\\x17\\x1e\\xd9\\x00\\xfcguE\\x14\\xaf\\x87\\xf0f\\xbee8\\x95\\x89\\xe7&\\x1bD\\xab\\xe3\\xd4\\x07\\xd4\\xb7\\xfaH[_\\xbb%c\\x8b8\\xb1\\xa2\\x8e\\x94\\x03\\x0e\\xf1\\xd6\\xcd\\x12\\xf3\\x9bp\\xd6=\\xed\\x9c\\xb7U\\xed\\xfe\\xbdL\\x8et[f\\x1e\\xa9`\\x1f}y\\xd5\\\\\\xbc{\\x12\\xf6\\x83\\xdbF\\xc5Z\\xb9\\x0c\\x80\\'\"\\x1c\\x90\\xb9F$]\\xfah\\xd5\\x17\\xc4j\\xc5Y\\xd4\\xca\\x0cp\\xf5GK|N\\x05\\x023UP\\x19\\xf8\\xb5xX\\xa0\\x1e>5\\xcf\\xd2*\\xb6\\xea\\xe6q\\xf5R\\xba\\xfa\\x0b\\x9d\\xec\\x96\\xa6<\\xc3\\xeelzoTn@\\xa2\\xea\\xb9\\x04:\\xf1Rq;e\\x9fJ\\x0b\\x81x\\x16\\xe1\\xb0\\x12\\x94yn\\x94I\\xdc\\x95\\x97\\xc8\\x93\\xf0\\x0cw\\xe3>W\\xfc\\xbbx\\'\\x91\\xbd\\x02rp\\xba\\x03\\x96\\xd1\\xeaQ\\x9f\\x84*\\xab\\xfa\\xe3\\x01;\\xa7ym\\x03b\\xd9\\xc9\\xbd\\xd7od\\xef\\x943\\x95\\xb8Ne\\xe5\\xa8\\xfcxA\\x00\\xe8\\xc4J\\x89\\x8f\\x99b$;\\x10\\x9e|\\xf8d\\x9a\\rgPL\\x11\\xb2\\xd4\\x17v\\x83\\x8cF\\xe6\\xa7\\xd3'\n"
     ]
    }
   ],
   "source": [
    "from Cryptodome.PublicKey import RSA\n",
    "from Cryptodome.Cipher import PKCS1_OAEP\n",
    "import pathlib\n",
    "import os\n",
    "\n",
    "# Define your project folder path\n",
    "PROJECT_FOLDER = pathlib.Path(os.getcwd())\n",
    "\n",
    "# Load your public key\n",
    "PRIVATE_KEY_FILE = PROJECT_FOLDER / \"my_keypair\"  # Corrected file path\n",
    "with open(PRIVATE_KEY_FILE, \"r\") as key_file:\n",
    "    private_key = RSA.import_key(key_file.read())\n",
    "public_key = private_key.publickey()\n",
    "\n",
    "# Your secret message\n",
    "short_secret_message = \"Hello friends. This right here is my super secret message. No one can know what it is.\".encode(\"utf-8\")\n",
    "\n",
    "# Encrypt the message with the public key\n",
    "public_key_cipher = PKCS1_OAEP.new(public_key)\n",
    "encrypted_message = public_key_cipher.encrypt(short_secret_message)\n",
    "\n",
    "# Output the encrypted message\n",
    "print(f\"Encrypted message: {encrypted_message}\")\n",
    "\n",
    "# Save the encrypted message to a file\n",
    "ENCRYPTED_MESSAGE_FILE = PROJECT_FOLDER / \"encrypted_message.bin\"\n",
    "with open(ENCRYPTED_MESSAGE_FILE, \"wb\") as f:\n",
    "    f.write(encrypted_message)"
   ]
  },
  {
   "cell_type": "code",
   "execution_count": 3,
   "id": "fc349c4b-696f-4ba4-a971-a3d9d42931ea",
   "metadata": {},
   "outputs": [
    {
     "name": "stdout",
     "output_type": "stream",
     "text": [
      "Decrypted message: Hello friends. This right here is my super secret message. No one can know what it is.\n"
     ]
    }
   ],
   "source": [
    "with open(ENCRYPTED_MESSAGE_FILE, \"rb\") as f:\n",
    "    encrypted_message_from_file = f.read()\n",
    "\n",
    "private_key_cipher = PKCS1_OAEP.new(private_key)\n",
    "decrypted_message = private_key_cipher.decrypt(encrypted_message_from_file)\n",
    "print(f\"Decrypted message: {decrypted_message.decode('utf-8')}\")\n",
    "\n",
    "# Save the encrypted message to a file\n",
    "DECRYPTED_MESSAGE_FILE = PROJECT_FOLDER / \"decrypted_message.bin\"\n",
    "with open(DECRYPTED_MESSAGE_FILE, \"wb\") as f:\n",
    "    f.write(decrypted_message)"
   ]
  },
  {
   "cell_type": "code",
   "execution_count": null,
   "id": "84cc7de9-e728-4017-a748-ed474d82e30a",
   "metadata": {},
   "outputs": [],
   "source": []
  }
 ],
 "metadata": {
  "kernelspec": {
   "display_name": "Python 3 (ipykernel)",
   "language": "python",
   "name": "python3"
  },
  "language_info": {
   "codemirror_mode": {
    "name": "ipython",
    "version": 3
   },
   "file_extension": ".py",
   "mimetype": "text/x-python",
   "name": "python",
   "nbconvert_exporter": "python",
   "pygments_lexer": "ipython3",
   "version": "3.10.8"
  }
 },
 "nbformat": 4,
 "nbformat_minor": 5
}
