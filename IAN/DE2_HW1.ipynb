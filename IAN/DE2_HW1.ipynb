{
 "cells": [
  {
   "cell_type": "code",
   "execution_count": 1,
   "id": "0cec42c5-dde2-427c-88ba-00bbd2dd0e23",
   "metadata": {
    "tags": []
   },
   "outputs": [
    {
     "name": "stdout",
     "output_type": "stream",
     "text": [
      "Collecting pycryptodomex\n",
      "  Downloading pycryptodomex-3.19.0-cp35-abi3-manylinux_2_17_x86_64.manylinux2014_x86_64.whl.metadata (3.4 kB)\n",
      "Downloading pycryptodomex-3.19.0-cp35-abi3-manylinux_2_17_x86_64.manylinux2014_x86_64.whl (2.1 MB)\n",
      "\u001b[2K   \u001b[90m━━━━━━━━━━━━━━━━━━━━━━━━━━━━━━━━━━━━━━━━\u001b[0m \u001b[32m2.1/2.1 MB\u001b[0m \u001b[31m9.9 MB/s\u001b[0m eta \u001b[36m0:00:00\u001b[0m:00:01\u001b[0m\n",
      "\u001b[?25hInstalling collected packages: pycryptodomex\n",
      "Successfully installed pycryptodomex-3.19.0\n"
     ]
    }
   ],
   "source": [
    "!pip install pycryptodomex"
   ]
  },
  {
   "cell_type": "code",
   "execution_count": 3,
   "id": "348aa8e2-4de8-44da-84af-d358e617ead8",
   "metadata": {
    "tags": []
   },
   "outputs": [
    {
     "name": "stdout",
     "output_type": "stream",
     "text": [
      "/workspaces/DE2_HW1_GROUP/IAN/my_keypair\n",
      "/workspaces/DE2_HW1_GROUP/IAN/my_keypair.pub\n"
     ]
    }
   ],
   "source": [
    "from pathlib import Path\n",
    "\n",
    "from Cryptodome.Cipher import PKCS1_OAEP\n",
    "from Cryptodome.PublicKey import RSA\n",
    "\n",
    "PROJECT_FOLDER = Path(\"/workspaces/DE2_HW1_GROUP/IAN\")\n",
    "# PROJECT_FOLDER = Path(\"C:\\\\Users\\\\iandr\\\\masters_coding\\\\First Semester\\\\Data Engineering 2\\\\PROJECT_FOLDER\")\n",
    "\n",
    "PRIVATE_KEY_FILE = PROJECT_FOLDER / \"my_keypair\"\n",
    "PUBLIC_KEY_FILE = PROJECT_FOLDER / \"my_keypair.pub\"\n",
    "# PUBLIC_KEY_FILE = Path(\"C:\\\\Users\\\\iandr\\\\masters_coding\\\\First Semester\\\\Data Engineering 2\\\\PROJECT_FOLDER\\\\PRIVATE_KEY_FILE\\\\my_keypair.pub\")\n",
    "\n",
    "print(PRIVATE_KEY_FILE)\n",
    "print(PUBLIC_KEY_FILE)\n",
    "\n",
    "assert Path.exists(PRIVATE_KEY_FILE)\n",
    "assert Path.exists(PUBLIC_KEY_FILE)"
   ]
  },
  {
   "cell_type": "code",
   "execution_count": 4,
   "id": "a318bb66-2cd3-4849-8aa4-3910521b6d62",
   "metadata": {
    "tags": []
   },
   "outputs": [
    {
     "name": "stdout",
     "output_type": "stream",
     "text": [
      "Encrypted message: b\"\\x95\\xa5a\\xde\\xdam\\xdc%\\xbd\\x9b\\xbc\\xfa\\x05fP\\xc3'\\xa6\\x7f\\xe0\\xba\\xda\\xd5\\x0fp\\xdf\\x19\\t/\\xa4\\x97\\xff\\xe96\\x0fH\\x93x\\x9f~\\xde\\x87\\xeb\\x17\\x97s5\\x99\\x9a\\x9e)\\xbe\\xbe\\x9f[c04\\x1d\\xf5\\xe0\\xc9\\xef\\x95\\x1c\\xc8\\xe3\\x86\\xdf\\xd1!~\\xc7w\\xcbA{n.\\x05\\x00\\xab\\xa8q\\x8d2Rae\\x8b\\xb8Q\\xd5&\\x1chUfC\\xe7\\x93\\xe4\\xaa.\\x17\\x9bO\\x9e\\x81\\x08\\xc0y\\xdc8\\xea\\x82\\x13\\x92\\x15nv\\xc4\\xbdy\\x88\\xed\\x04KdE\\xaf\\xc0\\xde\\xa5\\x03\\xf5\\xa8e\\xa4=\\x8f/\\xbc\\x82i\\x17D\\x08\\x86(\\xc1\\x87\\x14`\\x01\\x1a\\x11\\xc0~\\xb9\\x87\\xc3\\x1c\\xea5\\xbc5R\\xf5\\xd3$`\\x13\\xc2\\xa8\\x90[\\x00y\\x03\\x0c\\xe6>YG\\xd6\\x1dg\\xefJQ\\t\\xaf\\x87\\x90\\xdc\\xbb\\xa64\\xb0\\x93\\xed\\xe7\\xc1<t\\xcd\\xe4\\x18\\xc8H\\xcfH\\xaa_\\x19#\\x83\\xed\\x86}(\\xfb\\xfb\\x987\\xd3\\t\\xcd\\t\\x1eh&\\xaa8\\x0b\\x1d\\xddj\\x1a\\n(\\x818\\xf0_Y\\xa4\\xf3\\x10\\x7f\\xbf\\xe9]!\\xf1\\x17!\\x9dT\\x08z\\xb6\\xaf\\x08\\x84\\xdb\\xec\\xac\\x18N\\x1f-\\x06\\x862\\xa9\\x1f\\x02(\\x10\\xac\\x00\\xa4h\\x82pq\\xc1\\x93\\x94P8J\\xae\\xe3\\xe0@\\x8eG\\xa4+q\\xf8\\xa9E\\x93\\x87\\xbdK\\x01\\xa9\\x01}\\x0fX\\xda\\xd4D\\xdb\\xa5_|\\xde\\xb7u\\xef\\xf7ln\\xd6\\xcdP\\x1e\\xd9}2\\xbf\\xae\\xfa\\xca2(\\xa55\\xfet]p\\xc1e\\xd07^\\x80m\\xa7\\xff\\xc3\\xae\\x11/\\xceQ\\xcc\\x9db\\xa3k\\x06\\xfa5\\x05\\x0f\\x02\\xe9\\x0f\\xbb\\xd0\\n\\xf1\\xd1Sa\"\n"
     ]
    }
   ],
   "source": [
    "from Cryptodome.PublicKey import RSA\n",
    "from Cryptodome.Cipher import PKCS1_OAEP\n",
    "import pathlib\n",
    "import os\n",
    "\n",
    "# Define your project folder path\n",
    "PROJECT_FOLDER = pathlib.Path(os.getcwd())\n",
    "\n",
    "# Load your public key\n",
    "PRIVATE_KEY_FILE = PROJECT_FOLDER / \"my_keypair\"  # Corrected file path\n",
    "with open(PRIVATE_KEY_FILE, \"r\") as key_file:\n",
    "    private_key = RSA.import_key(key_file.read())\n",
    "public_key = private_key.publickey()\n",
    "\n",
    "# Your secret message\n",
    "short_secret_message = \"Hello friends. This right here is my super secret message. No one can know what it is.\".encode(\"utf-8\")\n",
    "\n",
    "# Encrypt the message with the public key\n",
    "public_key_cipher = PKCS1_OAEP.new(public_key)\n",
    "encrypted_message = public_key_cipher.encrypt(short_secret_message)\n",
    "\n",
    "# Output the encrypted message\n",
    "print(f\"Encrypted message: {encrypted_message}\")\n",
    "\n",
    "# Save the encrypted message to a file\n",
    "ENCRYPTED_MESSAGE_FILE = PROJECT_FOLDER / \"encrypted_message.bin\"\n",
    "with open(ENCRYPTED_MESSAGE_FILE, \"wb\") as f:\n",
    "    f.write(encrypted_message)"
   ]
  },
  {
   "cell_type": "code",
   "execution_count": 5,
   "id": "fc349c4b-696f-4ba4-a971-a3d9d42931ea",
   "metadata": {},
   "outputs": [
    {
     "name": "stdout",
     "output_type": "stream",
     "text": [
      "Decrypted message: Hello friends. This right here is my super secret message. No one can know what it is.\n"
     ]
    }
   ],
   "source": [
    "with open(ENCRYPTED_MESSAGE_FILE, \"rb\") as f:\n",
    "    encrypted_message_from_file = f.read()\n",
    "\n",
    "private_key_cipher = PKCS1_OAEP.new(private_key)\n",
    "decrypted_message = private_key_cipher.decrypt(encrypted_message_from_file)\n",
    "print(f\"Decrypted message: {decrypted_message.decode('utf-8')}\")\n",
    "\n",
    "# Save the encrypted message to a file\n",
    "DECRYPTED_MESSAGE_FILE = PROJECT_FOLDER / \"decrypted_message.bin\"\n",
    "with open(DECRYPTED_MESSAGE_FILE, \"wb\") as f:\n",
    "    f.write(decrypted_message)"
   ]
  },
  {
   "cell_type": "code",
   "execution_count": null,
   "id": "84cc7de9-e728-4017-a748-ed474d82e30a",
   "metadata": {},
   "outputs": [],
   "source": []
  }
 ],
 "metadata": {
  "kernelspec": {
   "display_name": "Python 3 (ipykernel)",
   "language": "python",
   "name": "python3"
  },
  "language_info": {
   "codemirror_mode": {
    "name": "ipython",
    "version": 3
   },
   "file_extension": ".py",
   "mimetype": "text/x-python",
   "name": "python",
   "nbconvert_exporter": "python",
   "pygments_lexer": "ipython3",
   "version": "3.10.8"
  }
 },
 "nbformat": 4,
 "nbformat_minor": 5
}
