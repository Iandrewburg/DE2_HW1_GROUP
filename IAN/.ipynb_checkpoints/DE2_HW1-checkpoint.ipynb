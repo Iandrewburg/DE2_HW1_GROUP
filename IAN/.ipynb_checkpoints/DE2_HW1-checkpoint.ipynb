{
 "cells": [
  {
   "cell_type": "code",
   "execution_count": 5,
   "id": "0cec42c5-dde2-427c-88ba-00bbd2dd0e23",
   "metadata": {
    "tags": []
   },
   "outputs": [
    {
     "name": "stdout",
     "output_type": "stream",
     "text": [
      "Requirement already satisfied: pycryptodomex in c:\\users\\iandr\\anaconda3\\lib\\site-packages (3.19.0)\n"
     ]
    }
   ],
   "source": [
    "!pip install pycryptodomex"
   ]
  },
  {
   "cell_type": "code",
   "execution_count": 9,
   "id": "348aa8e2-4de8-44da-84af-d358e617ead8",
   "metadata": {
    "tags": []
   },
   "outputs": [
    {
     "name": "stdout",
     "output_type": "stream",
     "text": [
      "C:\\Users\\iandr\\masters_coding\\First Semester\\Data Engineering 2\\PROJECT_FOLDER\n",
      "C:\\Users\\iandr\\masters_coding\\First Semester\\Data Engineering 2\\PROJECT_FOLDER\\my_keypair\n",
      "C:\\Users\\iandr\\masters_coding\\First Semester\\Data Engineering 2\\PROJECT_FOLDER\\my_keypair.pub\n"
     ]
    }
   ],
   "source": [
    "import os\n",
    "\n",
    "from Cryptodome.Cipher import PKCS1_OAEP\n",
    "from Cryptodome.PublicKey import RSA\n",
    "\n",
    "PROJECT_FOLDER = os.getcwd()\n",
    "print(PROJECT_FOLDER)\n",
    "# PROJECT_FOLDER = Path(\"C:\\\\Users\\\\iandr\\\\masters_coding\\\\First Semester\\\\Data Engineering 2\\\\PROJECT_FOLDER\")\n",
    "\n",
    "PRIVATE_KEY_FILE = PROJECT_FOLDER + \"\\my_keypair\"\n",
    "PUBLIC_KEY_FILE = PROJECT_FOLDER + \"\\my_keypair.pub\"\n",
    "# PUBLIC_KEY_FILE = Path(\"C:\\\\Users\\\\iandr\\\\masters_coding\\\\First Semester\\\\Data Engineering 2\\\\PROJECT_FOLDER\\\\PRIVATE_KEY_FILE\\\\my_keypair.pub\")\n",
    "\n",
    "print(PRIVATE_KEY_FILE)\n",
    "print(PUBLIC_KEY_FILE)\n",
    "\n",
    "assert os.path.isfile(PRIVATE_KEY_FILE)\n",
    "assert os.path.isfile(PUBLIC_KEY_FILE)"
   ]
  },
  {
   "cell_type": "code",
   "execution_count": 10,
   "id": "a318bb66-2cd3-4849-8aa4-3910521b6d62",
   "metadata": {
    "tags": []
   },
   "outputs": [
    {
     "name": "stdout",
     "output_type": "stream",
     "text": [
      "Encrypted message: b'^\\xca\\xcc\\xdc\\xc1_\\xc5\\x13\\xd22V\\x1e\\x0f\\xe8r\\xeb\\xcf\\xe3\\x8c\\xe1\\xbd\\x80\\xc5)d\\xdc\\xca\\x1c\\xe3y\\x1e\\x8dG\\r\\xf7\\xc9\\xa7+\\x01D\\xf3\\xb2\\xb72d\\xa8\\xbe\\xbe\\xd31\\nR\\xcehE\\xa6\\xb4\\xd3\\x872\\xa9\\xe4&VM\\xaaa\\x02\\xb4=\\xe4+\\x19\\xd7\\x85j\\xc4\\xe4G,]\\x9cG\\xabi:w7nO\\xc1\\xb7i8\\xba\\x9c\\xed\\xc0\\xb1\\xa1f\\x04r\\x11\\x83\\xb5\\xd9\\xe1L\\xcaT\\x88\\xf6!\\x13\\x11\\xa7\\x19F\\x12z\\xdb\\x9a-\\xfa?J\\xcf\\xb7\\xb8\\x90\\xe5 a\\t\\x8f\\x86\\xe4M\"9[{0\\x0bb\\x98-\\xa6\\xac\\xbf>\\xc4O\\x83\\xfa\\xdaA|j\\xcc\\xecK\\xe1\\xa0\\r\\r\\xa8%\\xe6\\xda\\x13l\\xfb\\x06_w\\xeb)7\\xd7\\xee\\xb8\\xf1\"O\\xb3\\x0e\\x14\\xf4\\x16m\\xe6\\xb8\\xd4T\\x85\\xb7y\\x1d\\x9d\\xea\\x0c\\xc7\\x1b\\xfd\\xcdp]E\\x0e\\xad\\xd6\\xdc\\\\y\\xec\\xfc\\x97}\\x0bZ~\\xca\\x17KJ\\xbaW\\xd1\\xa4\\x1a_V\\xff\\xd5n\\x01\\x89\\x0b\\x12\\xaf\\xab\\xe4\\'\\xd5$\\xdc\\x007}\\xe2\\x11\\xf2n4\\xe3\\xf54\\xb9\\xd3\\x84\\x8aaM\\x1f\\xce\\x87D<\\xa1\\xbe\\x1c\\x94\\xc2d^\\x88\\x97\\xa2\\xfa\\x8bN\\xfa\\x9b\\x98l&BO\\xa7B\\xbc\\xddm\\xcbjZlG;\\xee\\xf5g\\x1a\\x1f\\x1c;Y\\xe6\\xa4\\xfb\\x05<\\xd3T\\x1f\\xa2\\xb3q\\x7f\\x9e\\xc0\\xbc\\x91vF\\x1f\\x9f\\xed\\xed\\x08\\xb9\\xfd@\\xd8\\xf9\"\\xe1\\xe9=w\\xec\\xcfT\\x12\\xf2\\t\\x9b\\xa7\\xe2\\xae\\x8d\\xe2&\\xa6\\xafJ\\xf2\\xbb#]yA\\xfb\\xb1\\r\\x17I\\xb0\\x7fj\\n\\x06\\x88\\x06\\xd8Q\\x03+}\\xf3\\xae\\xf1'\n"
     ]
    }
   ],
   "source": [
    "from Cryptodome.PublicKey import RSA\n",
    "from Cryptodome.Cipher import PKCS1_OAEP\n",
    "import pathlib\n",
    "import os\n",
    "\n",
    "# Define your project folder path\n",
    "PROJECT_FOLDER = pathlib.Path(os.getcwd())\n",
    "\n",
    "# Load your public key\n",
    "PRIVATE_KEY_FILE = PROJECT_FOLDER / \"my_keypair\"  # Corrected file path\n",
    "with open(PRIVATE_KEY_FILE, \"r\") as key_file:\n",
    "    private_key = RSA.import_key(key_file.read())\n",
    "public_key = private_key.publickey()\n",
    "\n",
    "# Your secret message\n",
    "short_secret_message = \"Hello friends. This right here is my super secret message. No one can know what it is.\".encode(\"utf-8\")\n",
    "\n",
    "# Encrypt the message with the public key\n",
    "public_key_cipher = PKCS1_OAEP.new(public_key)\n",
    "encrypted_message = public_key_cipher.encrypt(short_secret_message)\n",
    "\n",
    "# Output the encrypted message\n",
    "print(f\"Encrypted message: {encrypted_message}\")\n",
    "\n",
    "# Save the encrypted message to a file\n",
    "ENCRYPTED_MESSAGE_FILE = PROJECT_FOLDER / \"encrypted_message.bin\"\n",
    "with open(ENCRYPTED_MESSAGE_FILE, \"wb\") as f:\n",
    "    f.write(encrypted_message)"
   ]
  },
  {
   "cell_type": "code",
   "execution_count": 12,
   "id": "fc349c4b-696f-4ba4-a971-a3d9d42931ea",
   "metadata": {},
   "outputs": [
    {
     "name": "stdout",
     "output_type": "stream",
     "text": [
      "Decrypted message: Hello friends. This right here is my super secret message. No one can know what it is.\n"
     ]
    }
   ],
   "source": [
    "with open(ENCRYPTED_MESSAGE_FILE, \"rb\") as f:\n",
    "    encrypted_message_from_file = f.read()\n",
    "\n",
    "private_key_cipher = PKCS1_OAEP.new(private_key)\n",
    "decrypted_message = private_key_cipher.decrypt(encrypted_message_from_file)\n",
    "print(f\"Decrypted message: {decrypted_message.decode('utf-8')}\")\n",
    "\n",
    "# Save the encrypted message to a file\n",
    "DECRYPTED_MESSAGE_FILE = PROJECT_FOLDER / \"decrypted_message.bin\"\n",
    "with open(DECRYPTED_MESSAGE_FILE, \"wb\") as f:\n",
    "    f.write(decrypted_message)"
   ]
  },
  {
   "cell_type": "code",
   "execution_count": null,
   "id": "84cc7de9-e728-4017-a748-ed474d82e30a",
   "metadata": {},
   "outputs": [],
   "source": []
  }
 ],
 "metadata": {
  "kernelspec": {
   "display_name": "Python 3 (ipykernel)",
   "language": "python",
   "name": "python3"
  },
  "language_info": {
   "codemirror_mode": {
    "name": "ipython",
    "version": 3
   },
   "file_extension": ".py",
   "mimetype": "text/x-python",
   "name": "python",
   "nbconvert_exporter": "python",
   "pygments_lexer": "ipython3",
   "version": "3.11.4"
  }
 },
 "nbformat": 4,
 "nbformat_minor": 5
}
