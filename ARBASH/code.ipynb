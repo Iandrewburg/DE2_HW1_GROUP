{
 "cells": [
  {
   "cell_type": "code",
   "execution_count": 7,
   "metadata": {},
   "outputs": [],
   "source": [
    "from pathlib import Path\n",
    "import os\n",
    "\n",
    "from Crypto.Cipher import PKCS1_OAEP\n",
    "from Crypto.PublicKey import RSA\n"
   ]
  },
  {
   "cell_type": "code",
   "execution_count": 16,
   "metadata": {},
   "outputs": [],
   "source": [
    "\n",
    "PROJECT_FOLDER = Path(\"/workspaces/DE2_HW1_GROUP\")\n",
    "PRIVATE_KEY_CEU = PROJECT_FOLDER / \"CEU/my_keypair\"\n",
    "PUBLIC_KEY_CEU = PROJECT_FOLDER / \"CEU/my_keypair.pub\"\n"
   ]
  },
  {
   "cell_type": "code",
   "execution_count": 17,
   "metadata": {},
   "outputs": [],
   "source": [
    "    \n",
    "assert Path.exists(PRIVATE_KEY_CEU)\n",
    "assert Path.exists(PUBLIC_KEY_CEU)"
   ]
  },
  {
   "cell_type": "code",
   "execution_count": 25,
   "metadata": {},
   "outputs": [],
   "source": [
    "\n",
    "CEU_ENCRYPTED_MESSAGE_FILE = PROJECT_FOLDER / \"ARBASH/FROM_CEU_encrypted_message.bin\"\n"
   ]
  },
  {
   "cell_type": "code",
   "execution_count": 19,
   "metadata": {},
   "outputs": [
    {
     "name": "stdout",
     "output_type": "stream",
     "text": [
      "/workspaces/DE2_HW1_GROUP/ARBASH/FROM_CEU_encrypted_message.bin\n"
     ]
    }
   ],
   "source": [
    "print (CEU_ENCRYPTED_MESSAGE_FILE)"
   ]
  },
  {
   "cell_type": "code",
   "execution_count": 27,
   "metadata": {},
   "outputs": [
    {
     "ename": "TypeError",
     "evalue": "a bytes-like object is required, not 'PosixPath'",
     "output_type": "error",
     "traceback": [
      "\u001b[0;31m---------------------------------------------------------------------------\u001b[0m",
      "\u001b[0;31mTypeError\u001b[0m                                 Traceback (most recent call last)",
      "\u001b[1;32m/workspaces/DE2_HW1_GROUP/ARBASH/code.ipynb Cell 6\u001b[0m line \u001b[0;36m2\n\u001b[1;32m      <a href='vscode-notebook-cell://codespaces%2Bsuper-robot-69g797jjpx953xvqx/workspaces/DE2_HW1_GROUP/ARBASH/code.ipynb#W5sdnNjb2RlLXJlbW90ZQ%3D%3D?line=0'>1</a>\u001b[0m \u001b[39mwith\u001b[39;00m \u001b[39mopen\u001b[39m(CEU_ENCRYPTED_MESSAGE_FILE, \u001b[39m\"\u001b[39m\u001b[39mwb\u001b[39m\u001b[39m\"\u001b[39m) \u001b[39mas\u001b[39;00m f:\n\u001b[0;32m----> <a href='vscode-notebook-cell://codespaces%2Bsuper-robot-69g797jjpx953xvqx/workspaces/DE2_HW1_GROUP/ARBASH/code.ipynb#W5sdnNjb2RlLXJlbW90ZQ%3D%3D?line=1'>2</a>\u001b[0m     f\u001b[39m.\u001b[39;49mwrite(CEU_ENCRYPTED_MESSAGE_FILE)\n",
      "\u001b[0;31mTypeError\u001b[0m: a bytes-like object is required, not 'PosixPath'"
     ]
    }
   ],
   "source": [
    "with open(CEU_ENCRYPTED_MESSAGE_FILE, \"wb\") as f:\n",
    "    f.write(CEU_ENCRYPTED_MESSAGE_FILE)\n"
   ]
  },
  {
   "cell_type": "code",
   "execution_count": null,
   "metadata": {},
   "outputs": [],
   "source": []
  }
 ],
 "metadata": {
  "kernelspec": {
   "display_name": "Python 3",
   "language": "python",
   "name": "python3"
  },
  "language_info": {
   "codemirror_mode": {
    "name": "ipython",
    "version": 3
   },
   "file_extension": ".py",
   "mimetype": "text/x-python",
   "name": "python",
   "nbconvert_exporter": "python",
   "pygments_lexer": "ipython3",
   "version": "3.10.8"
  }
 },
 "nbformat": 4,
 "nbformat_minor": 2
}
