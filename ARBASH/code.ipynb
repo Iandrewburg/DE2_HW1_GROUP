{
 "cells": [
  {
   "cell_type": "code",
   "execution_count": 3,
   "metadata": {},
   "outputs": [
    {
     "ename": "NameError",
     "evalue": "name '__file__' is not defined",
     "output_type": "error",
     "traceback": [
      "\u001b[0;31m---------------------------------------------------------------------------\u001b[0m",
      "\u001b[0;31mNameError\u001b[0m                                 Traceback (most recent call last)",
      "\u001b[1;32m/workspaces/DE2_HW1_GROUP/ARBASH/code.ipynb Cell 1\u001b[0m line \u001b[0;36m7\n\u001b[1;32m      <a href='vscode-notebook-cell://codespaces%2Bsuper-robot-69g797jjpx953xvqx/workspaces/DE2_HW1_GROUP/ARBASH/code.ipynb#W0sdnNjb2RlLXJlbW90ZQ%3D%3D?line=3'>4</a>\u001b[0m \u001b[39mfrom\u001b[39;00m \u001b[39mCrypto\u001b[39;00m\u001b[39m.\u001b[39;00m\u001b[39mCipher\u001b[39;00m \u001b[39mimport\u001b[39;00m PKCS1_OAEP\n\u001b[1;32m      <a href='vscode-notebook-cell://codespaces%2Bsuper-robot-69g797jjpx953xvqx/workspaces/DE2_HW1_GROUP/ARBASH/code.ipynb#W0sdnNjb2RlLXJlbW90ZQ%3D%3D?line=4'>5</a>\u001b[0m \u001b[39mfrom\u001b[39;00m \u001b[39mCrypto\u001b[39;00m\u001b[39m.\u001b[39;00m\u001b[39mPublicKey\u001b[39;00m \u001b[39mimport\u001b[39;00m RSA\n\u001b[0;32m----> <a href='vscode-notebook-cell://codespaces%2Bsuper-robot-69g797jjpx953xvqx/workspaces/DE2_HW1_GROUP/ARBASH/code.ipynb#W0sdnNjb2RlLXJlbW90ZQ%3D%3D?line=6'>7</a>\u001b[0m PROJECT_FOLDER \u001b[39m=\u001b[39m Path(\u001b[39m__file__\u001b[39;49m)\u001b[39m.\u001b[39mparent\u001b[39m.\u001b[39mparent\n\u001b[1;32m      <a href='vscode-notebook-cell://codespaces%2Bsuper-robot-69g797jjpx953xvqx/workspaces/DE2_HW1_GROUP/ARBASH/code.ipynb#W0sdnNjb2RlLXJlbW90ZQ%3D%3D?line=7'>8</a>\u001b[0m PRIVATE_KEY_FILE \u001b[39m=\u001b[39m PROJECT_FOLDER \u001b[39m/\u001b[39m \u001b[39m\"\u001b[39m\u001b[39m/workspaces/DE2_HW1_GROUP/IAN/my_keypair\u001b[39m\u001b[39m\"\u001b[39m\n\u001b[1;32m      <a href='vscode-notebook-cell://codespaces%2Bsuper-robot-69g797jjpx953xvqx/workspaces/DE2_HW1_GROUP/ARBASH/code.ipynb#W0sdnNjb2RlLXJlbW90ZQ%3D%3D?line=8'>9</a>\u001b[0m PUBLIC_KEY_FILE \u001b[39m=\u001b[39m PROJECT_FOLDER \u001b[39m/\u001b[39m \u001b[39m\"\u001b[39m\u001b[39m/workspaces/DE2_HW1_GROUP/IAN/my_keypair.pub\u001b[39m\u001b[39m\"\u001b[39m\n",
      "\u001b[0;31mNameError\u001b[0m: name '__file__' is not defined"
     ]
    }
   ],
   "source": [
    "# %%\n",
    "from pathlib import Path\n",
    "\n",
    "from Crypto.Cipher import PKCS1_OAEP\n",
    "from Crypto.PublicKey import RSA\n",
    "\n",
    "PROJECT_FOLDER = Path(__file__).parent.parent\n",
    "PRIVATE_KEY_FILE = PROJECT_FOLDER / \"/workspaces/DE2_HW1_GROUP/IAN/my_keypair\"\n",
    "PUBLIC_KEY_FILE = PROJECT_FOLDER / \"/workspaces/DE2_HW1_GROUP/IAN/my_keypair.pub\"\n",
    "\n",
    "assert Path.exists(PRIVATE_KEY_FILE)\n",
    "assert Path.exists(PUBLIC_KEY_FILE)\n"
   ]
  },
  {
   "cell_type": "code",
   "execution_count": null,
   "metadata": {},
   "outputs": [],
   "source": []
  },
  {
   "cell_type": "code",
   "execution_count": null,
   "metadata": {},
   "outputs": [],
   "source": []
  }
 ],
 "metadata": {
  "kernelspec": {
   "display_name": "Python 3",
   "language": "python",
   "name": "python3"
  },
  "language_info": {
   "codemirror_mode": {
    "name": "ipython",
    "version": 3
   },
   "file_extension": ".py",
   "mimetype": "text/x-python",
   "name": "python",
   "nbconvert_exporter": "python",
   "pygments_lexer": "ipython3",
   "version": "3.10.8"
  }
 },
 "nbformat": 4,
 "nbformat_minor": 2
}
