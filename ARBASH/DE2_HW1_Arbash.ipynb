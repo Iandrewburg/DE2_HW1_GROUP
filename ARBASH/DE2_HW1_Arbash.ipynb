{
 "cells": [
  {
   "cell_type": "code",
   "execution_count": 1,
   "metadata": {},
   "outputs": [
    {
     "name": "stdout",
     "output_type": "stream",
     "text": [
      "Decrypted message: Hey, Arbash! Thank you for visiting CEU's website. Sorry, we cannot give you free money, but with our education, you can achieve your dreams! Have a nice day!\n"
     ]
    }
   ],
   "source": [
    "from Cryptodome.Cipher import PKCS1_OAEP\n",
    "from Cryptodome.PublicKey import RSA\n",
    "from pathlib import Path\n",
    "\n",
    "# Setting up path for my folder\n",
    "PROJECT_FOLDER = Path(\"/workspaces/DE2_HW1_GROUP/ARBASH\")\n",
    "# Setting up path for my private key\n",
    "PRIVATE_KEY_PATH = PROJECT_FOLDER / \"my_keypair\"  \n",
    "# Setting up path for finding the encrypted message from CEU\n",
    "ENCRYPTED_MESSAGE_CEU = PROJECT_FOLDER / \"FROM_CEU_encrypted_message.bin\"\n",
    "\n",
    "#Loading up my private key\n",
    "with open(PRIVATE_KEY_PATH, 'rb') as private_file:\n",
    "    private_key = RSA.import_key(private_file.read())\n",
    "    \n",
    "# Loading up the encrypted message file \n",
    "with open(ENCRYPTED_MESSAGE_CEU, \"rb\") as f:\n",
    "    encrypted_message_from_file = f.read()\n",
    "\n",
    "# Decrypting the code using my private key.\n",
    "private_key_cipher = PKCS1_OAEP.new(private_key)\n",
    "try:\n",
    "    decrypted_message = private_key_cipher.decrypt(encrypted_message_from_file)\n",
    "    print(f\"Decrypted message: {decrypted_message.decode('utf-8')}\")\n",
    "except ValueError as e:\n",
    "    decrypted_message = \"Decryption Not Possible\"\n",
    "    print(f\"Decryption failed: {e}\")\n",
    "\n",
    "\n",
    "# Save the decrypted message to a file\n",
    "DECRYPTED_MESSAGE_FILE_ARBASH = PROJECT_FOLDER / \"decrypted_message_Arbash.bin\"\n",
    "with open(DECRYPTED_MESSAGE_FILE_ARBASH, \"wb\") as f:\n",
    "    .write(decrypted_message)"
   ]
  },
  {
   "cell_type": "code",
   "execution_count": 3,
   "metadata": {},
   "outputs": [
    {
     "name": "stdout",
     "output_type": "stream",
     "text": [
      "Encrypted message: b'Vf\\xbf\\xd7\\xafK\\xea\\xbea+\\xc4\\xcfM\\x89(\\xcb\\xf4\\x1f4\\xfe\\x82AE\\x85C\\xc1+I[\\x1d\\xdc\\xff\\xba\\xeck\\x88f\\xb4\\xde+\\xe9\\xc1\\xbc=\\xe0;\\xf3\\xac\\xfc\\xc0Zm6\\xf39\\x97\\xf6\"\\x89^\\xb8\\x93\\x95G\\xe9\\xa3%.\\x93#J\\x16\\x13\\xa2\\xb9,\\tzt\\x1c\\x0fL\\x0e\\x0eD\\xaf\\xce\\x84_\\x1e\\xe1\\xa0s\\xbe\\xfat\\x12\\x87\\xa3\\x84\\xef\\x16\\x80\\xae\\xf2\\x80\\xb3JI\\xffG\\xb5g\\xa5\\x81`\\x8a\\x9e-\\x15\\xe1TD\\xb1\\xd7\\xc9\\xf3\\xa3,a\\xc4<(\\x9a\\x1d&E\\x96]\\xcd\\xf9\\x13\\x7f\\x99\\x8b`\\x04\\xbe\\xf3\\x80\\xda\\x88-\\xaa\\x89\\xb7\\xcf\\x94k\\x9e\\xe2\\xac\\xe2q\\xad\\\\\\x9b\\x1c\\xaa\\x82c\\xaeAg\\xaf\\xe5\\xf0Fd\\x95\\xb2I\\xf2\\xe3\\x07\\xb5\\x8057\\xa4\\x80\\'\\xb7\\xac\\x10k4%\\x1c\\xa8\\x92?\\xa1\\xa5.\\xd3X\\x19F\\x93c\\xb9hg\\x89\\xab\\xdd`\\xd0\\xa8S\\xbf{x\\x7f\\x9f/\\xd1\\xc2\\x0ew\\xd8g\\xe4\\xdd6\\xa6xi\\xb7+Y\\x81PD?\\xeb\\xbb\\xf0\\x9c\\xd0\\xa3qc7\\xbdaH\\xcc\\x00\\xa4\\x05\\x83\\'\\xcf\\xafO1\\xdf\\x1f\\xdf\\x1b\\x0cl$:v\\xda\\xc3\\xe7U\\x8bM\\xd5?\\x11z\\xf2\\xeb\\x13S\\x16\\xfa.\\xa5B\\xf5\\xc8\"\\x9a\\x19\\x97]\\x83\\x03R\\xc9\\x18HA\\x0eKo\\xc37\\xe8\\xaf@\\xc3\\xe8\\xbf\\xb5\\xb6X\\x93\\xc1\\x87\\x9fB+x\\xd3\\xe3\\x08\\xee\\x98\\n\\x1c\\xe5y\\x99\\xa4\\xa5\\xa2X\\xea\\x9e\\xc8%\\xba\\xbd\\x01\\xf0\\xbd]J\\xfd2\\xe1\\x00\\xca7k\\xfaG\\xd5\\x19i\\xf9\\xc3\\x89\\x1d1\\xc9t\\x04\\xbf2E\\xa4\\x13e\\x14\\xb9'\n"
     ]
    }
   ],
   "source": [
    "# Setting up path for my CEU folder\n",
    "PROJECT_FOLDER_CEU = Path(\"/workspaces/DE2_HW1_GROUP/CEU\")\n",
    "\n",
    "# Setting up path and loading CEU public_key\n",
    "CEU_PUBLIC_KEY_FILE = PROJECT_FOLDER_CEU / \"my_keypair.pub\" \n",
    "with open(CEU_PUBLIC_KEY_FILE, \"r\") as key_file:\n",
    "    public_key = RSA.import_key(key_file.read())\n",
    "\n",
    "# Your secret message\n",
    "short_secret_message = \"Hey, CEU! Please give me money\".encode(\"utf-8\")\n",
    "\n",
    "# Encrypt the message with the public key\n",
    "public_key_cipher = PKCS1_OAEP.new(public_key)\n",
    "encrypted_message = public_key_cipher.encrypt(short_secret_message)\n",
    " \n",
    "# Output the encrypted message\n",
    "print(f\"Encrypted message: {encrypted_message}\")\n",
    "\n",
    "# Save the encrypted message to a file\n",
    "ENCRYPTED_MESSAGE_FILE = PROJECT_FOLDER_CEU / \"arbash_to_ceu_encrypted_message.bin\"\n",
    "with open(ENCRYPTED_MESSAGE_FILE, \"wb\") as f:\n",
    "    f.write(encrypted_message)"
   ]
  },
  {
   "cell_type": "code",
   "execution_count": null,
   "metadata": {},
   "outputs": [],
   "source": []
  }
 ],
 "metadata": {
  "kernelspec": {
   "display_name": "Python 3",
   "language": "python",
   "name": "python3"
  },
  "language_info": {
   "codemirror_mode": {
    "name": "ipython",
    "version": 3
   },
   "file_extension": ".py",
   "mimetype": "text/x-python",
   "name": "python",
   "nbconvert_exporter": "python",
   "pygments_lexer": "ipython3",
   "version": "3.10.8"
  }
 },
 "nbformat": 4,
 "nbformat_minor": 2
}
