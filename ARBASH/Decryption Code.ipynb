{
 "cells": [
  {
   "cell_type": "code",
   "execution_count": 12,
   "metadata": {},
   "outputs": [
    {
     "name": "stdout",
     "output_type": "stream",
     "text": [
      "Decryption failed: Incorrect decryption.\n"
     ]
    },
    {
     "ename": "NameError",
     "evalue": "name 'decrypted_message_marcell' is not defined",
     "output_type": "error",
     "traceback": [
      "\u001b[0;31m---------------------------------------------------------------------------\u001b[0m",
      "\u001b[0;31mNameError\u001b[0m                                 Traceback (most recent call last)",
      "\u001b[1;32m/workspaces/DE2_HW1_GROUP/ARBASH/Decryption Code.ipynb Cell 1\u001b[0m line \u001b[0;36m2\n\u001b[1;32m     <a href='vscode-notebook-cell://codespaces%2Bsuper-robot-69g797jjpx953xvqx/workspaces/DE2_HW1_GROUP/ARBASH/Decryption%20Code.ipynb#W0sdnNjb2RlLXJlbW90ZQ%3D%3D?line=25'>26</a>\u001b[0m DECRYPTED_MESSAGE_FILE_MARCELL \u001b[39m=\u001b[39m PROJECT_FOLDER \u001b[39m/\u001b[39m \u001b[39m\"\u001b[39m\u001b[39mdecrypted_message_Marcell.bin\u001b[39m\u001b[39m\"\u001b[39m\n\u001b[1;32m     <a href='vscode-notebook-cell://codespaces%2Bsuper-robot-69g797jjpx953xvqx/workspaces/DE2_HW1_GROUP/ARBASH/Decryption%20Code.ipynb#W0sdnNjb2RlLXJlbW90ZQ%3D%3D?line=26'>27</a>\u001b[0m \u001b[39mwith\u001b[39;00m \u001b[39mopen\u001b[39m(DECRYPTED_MESSAGE_FILE_MARCELL, \u001b[39m\"\u001b[39m\u001b[39mwb\u001b[39m\u001b[39m\"\u001b[39m) \u001b[39mas\u001b[39;00m f:\n\u001b[0;32m---> <a href='vscode-notebook-cell://codespaces%2Bsuper-robot-69g797jjpx953xvqx/workspaces/DE2_HW1_GROUP/ARBASH/Decryption%20Code.ipynb#W0sdnNjb2RlLXJlbW90ZQ%3D%3D?line=27'>28</a>\u001b[0m     f\u001b[39m.\u001b[39mwrite(decrypted_message_marcell)\n",
      "\u001b[0;31mNameError\u001b[0m: name 'decrypted_message_marcell' is not defined"
     ]
    }
   ],
   "source": [
    "from Cryptodome.Cipher import PKCS1_OAEP\n",
    "from Cryptodome.PublicKey import RSA\n",
    "from pathlib import Path\n",
    "\n",
    "\n",
    "PROJECT_FOLDER = Path(\"/workspaces/DE2_HW1_GROUP/ARBASH\")\n",
    "PRIVATE_KEY_PATH = PROJECT_FOLDER / \"my_keypair\" \n",
    "ENCRYPTED_MESSAGE_CEU = PROJECT_FOLDER / \"FROM_CEU_encrypted_message.bin\"\n",
    "\n",
    "\n",
    "with open(PRIVATE_KEY_PATH, 'rb') as private_file:\n",
    "    private_key = RSA.import_key(private_file.read())\n",
    "\n",
    "with open(ENCRYPTED_MESSAGE_CEU, \"rb\") as f:\n",
    "    encrypted_message_from_file = f.read()\n",
    "\n",
    "private_key_cipher = PKCS1_OAEP.new(private_key)\n",
    "\n",
    "try:\n",
    "    decrypted_message_ceu = private_key_cipher.decrypt(encrypted_message_from_file)\n",
    "    print(f\"Decrypted message: {decrypted_message_ceu.decode('utf-8')}\")\n",
    "except ValueError as e:\n",
    "    print(f\"Decryption failed: {e}\")\n",
    "\n",
    "\n",
    "DECRYPTED_MESSAGE_FILE_CEU = PROJECT_FOLDER / \"decrypted_message_CEU.bin\"\n",
    "with open(DECRYPTED_MESSAGE_FILE_CEU, \"wb\") as f:\n",
    "    f.write(decrypted_message_ceu)\n"
   ]
  },
  {
   "cell_type": "code",
   "execution_count": 13,
   "metadata": {},
   "outputs": [
    {
     "name": "stdout",
     "output_type": "stream",
     "text": [
      "/workspaces/DE2_HW1_GROUP/ARBASH\n",
      "/workspaces/DE2_HW1_GROUP/ARBASH/my_keypair\n",
      "/workspaces/DE2_HW1_GROUP/ARBASH/FROM_CEU_encrypted_message.bin\n"
     ]
    }
   ],
   "source": [
    "print(PROJECT_FOLDER)\n",
    "print(PRIVATE_KEY_PATH)\n",
    "print(ENCRYPTED_MESSAGE_CEU)"
   ]
  },
  {
   "cell_type": "code",
   "execution_count": null,
   "metadata": {},
   "outputs": [],
   "source": []
  }
 ],
 "metadata": {
  "kernelspec": {
   "display_name": "Python 3",
   "language": "python",
   "name": "python3"
  },
  "language_info": {
   "codemirror_mode": {
    "name": "ipython",
    "version": 3
   },
   "file_extension": ".py",
   "mimetype": "text/x-python",
   "name": "python",
   "nbconvert_exporter": "python",
   "pygments_lexer": "ipython3",
   "version": "3.10.8"
  }
 },
 "nbformat": 4,
 "nbformat_minor": 2
}
