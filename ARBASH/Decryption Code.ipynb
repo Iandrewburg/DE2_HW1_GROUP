{
 "cells": [
  {
   "cell_type": "code",
   "execution_count": 1,
   "metadata": {},
   "outputs": [
    {
     "name": "stdout",
     "output_type": "stream",
     "text": [
      "Decrypted message: Hey, Arbash! Thank you for visiting CEU's website. Sorry, we cannot give you free money, but with our education, you can achieve your dreams! Have a nice day!\n"
     ]
    }
   ],
   "source": [
    "from Cryptodome.Cipher import PKCS1_OAEP\n",
    "from Cryptodome.PublicKey import RSA\n",
    "from pathlib import Path\n",
    "\n",
    "# Set up the paths\n",
    "PROJECT_FOLDER = Path(\"/workspaces/DE2_HW1_GROUP/ARBASH\")\n",
    "PRIVATE_KEY_PATH = PROJECT_FOLDER / \"my_keypair\"  # Adjust with your actual private key file path\n",
    "ENCRYPTED_MESSAGE_CEU = PROJECT_FOLDER / \"FROM_CEU_encrypted_message.bin\"\n",
    "\n",
    "# Load the private key\n",
    "with open(PRIVATE_KEY_PATH, 'rb') as private_file:\n",
    "    private_key = RSA.import_key(private_file.read())\n",
    "\n",
    "# Decrypt the message\n",
    "with open(ENCRYPTED_MESSAGE_CEU, \"rb\") as f:\n",
    "    encrypted_message_from_file = f.read()\n",
    "\n",
    "private_key_cipher = PKCS1_OAEP.new(private_key)\n",
    "try:\n",
    "    decrypted_message = private_key_cipher.decrypt(encrypted_message_from_file)\n",
    "    print(f\"Decrypted message: {decrypted_message.decode('utf-8')}\")\n",
    "except ValueError as e:\n",
    "    decrypted_message = \"Decryption Not Possible\"\n",
    "    print(f\"Decryption failed: {e}\")\n",
    "\n",
    "# Save the decrypted message to a file\n",
    "DECRYPTED_MESSAGE_FILE_ARBASH = PROJECT_FOLDER / \"decrypted_message_Arbash.bin\"\n",
    "with open(DECRYPTED_MESSAGE_FILE_ARBASH, \"wb\") as f:\n",
    "    f.write(decrypted_message)\n"
   ]
  }
 ],
 "metadata": {
  "kernelspec": {
   "display_name": "Python 3",
   "language": "python",
   "name": "python3"
  },
  "language_info": {
   "codemirror_mode": {
    "name": "ipython",
    "version": 3
   },
   "file_extension": ".py",
   "mimetype": "text/x-python",
   "name": "python",
   "nbconvert_exporter": "python",
   "pygments_lexer": "ipython3",
   "version": "3.10.8"
  }
 },
 "nbformat": 4,
 "nbformat_minor": 2
}
