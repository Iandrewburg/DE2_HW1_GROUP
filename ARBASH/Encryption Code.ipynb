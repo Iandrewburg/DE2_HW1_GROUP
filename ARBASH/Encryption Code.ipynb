{
 "cells": [
  {
   "cell_type": "code",
   "execution_count": 2,
   "metadata": {},
   "outputs": [
    {
     "name": "stdout",
     "output_type": "stream",
     "text": [
      "Encrypted message: b'\\x05\\xfe\\xa5o\\x7f\\xcb\\x8b\\xa3\\x12g\\xe7\\xba%\\xa3\\xce4\\x93\\x86\\x0bI\\xcc\\xe6L\\x0f\\xb7!L,t\\x00B\\x88\\xbe\\xe3\\x8e4K>f\\x13\\xd5\\x02\\xc6\\xe2{K\\x80\\xd7m\\x98Z\\n\\xbd{\\xeb\\xc6\\xf2&\\xcdN@\\xc7\\xe6\\xa3\\xa9}:\\x01b6\\xeeN\\x90-\\xb3\\x93v\\xad\\\\\\x1b>\\xa9\\xa72\\x87\\'\\x85\\x87&u\\xfa\\xb9:\\xa5\\xb5\\x05\\x03\\x1ak\\x16\\xf5;;\\x9d\\x8c?\\x15\\xd0\\xbed\\xb1\\x99\\xba\\xaf\\x87\\x98{\\xf1\\x99H\\x1f\\x90S&}\\xa6\\xbe\\xc1\\xbe\\x9d\\xcf\\xe8\\xdd\\xb2\\xabl\\r>\\x95\\x91?\\rz\\xc9Y\\xf6\\xf4\\x97F4t\\x86\\x97$kz@\\xb9\\x94E\\xbd\\xa9\\xab\\xaf\\t\\xffL\\x0cs\\x9f\\x04\\xaa\\xf3ye\\xd22\\xae?M\\x98\\\\\\x8f\\x98\\x80#\\xa7,O-t\\x1a\\xbc8\\xefl~\\xe9\\x8em~\\x8e\\xdb\\xe0A\\xc6k\\xd4Oy;m\\xd2\\x9eK-.v,\\x88\"\\x8d\\x8a7\\xac\\xdf\\xb0\\xa4\\x02\\x96\\xfd\\x8ah\\xbe}\\x14\\xae\\xd9\\xee\\xa8\\x9eB\\x15\\xc5\\xc2\\xf6\\xba\\xc4f\\xb9z\\xa6V\\xa8\\xa9\\x0c\\x89\\xad\\xd6\\xb0\\x90Z\"Y\\xcd\\xe2\\x0e\\x1d\\xdd\\x95\\x16=\\xbd\\x08\\xe9\\xcb\\xe3&\\xce\\xe6\\xf6Y\\xca]y\\xec\\xd2\\x83\\t\\xad\\xe0\\xd9\\x80\\xb09\\x13\"\\xb6\\x1ef\\xfe\\xd6?7\\xe0\\x10\\xefq7P\\'\\xd8\\xa0;\\x91\\xf6\\x13e\\xc8\\xe6\\xc6s\\xe5\\xeb\\x86<$\\xd1V\\r;\\x15&~\\x96\\xae\\xf4\\xb2{f\\x7f\\xdd?i8\\xf9\\x91\\x884\\xa6\\x8b\\x8ePLc$SG\\x85\\xb9O2vMi\\xc2u&\\xb8h\\x9a\\xa9\\xdd\\x18\\xe8\\x11\\xd40G\\xa1\\xf5\\x88,N'\n"
     ]
    }
   ],
   "source": [
    "from Cryptodome.PublicKey import RSA\n",
    "from Cryptodome.Cipher import PKCS1_OAEP\n",
    "import pathlib\n",
    "from pathlib import Path\n",
    "\n",
    "# CEU Folder Path\n",
    "PROJECT_FOLDER_CEU = Path(\"/workspaces/DE2_HW1_GROUP/CEU\")\n",
    "\n",
    "# Loading CEU keys\n",
    "CEU_PRIVATE_KEY_FILE = PROJECT_FOLDER_CEU / \"my_keypair\" \n",
    "with open(CEU_PRIVATE_KEY_FILE, \"r\") as key_file:\n",
    "    private_key = RSA.import_key(key_file.read())\n",
    "public_key = private_key.publickey()\n",
    "\n",
    "# Your secret message\n",
    "short_secret_message = \"Hey, CEU! Please give me money\".encode(\"utf-8\")\n",
    "\n",
    "# Encrypt the message with the public key\n",
    "public_key_cipher = PKCS1_OAEP.new(public_key)\n",
    "encrypted_message = public_key_cipher.encrypt(short_secret_message)\n",
    "\n",
    "# Output the encrypted message\n",
    "print(f\"Encrypted message: {encrypted_message}\")\n",
    "\n",
    "# Save the encrypted message to a file\n",
    "ENCRYPTED_MESSAGE_FILE = PROJECT_FOLDER_CEU / \"arbash_to_ceu_encrypted_message.bin\"\n",
    "with open(ENCRYPTED_MESSAGE_FILE, \"wb\") as f:\n",
    "    f.write(encrypted_message)"
   ]
  },
  {
   "cell_type": "code",
   "execution_count": null,
   "metadata": {},
   "outputs": [],
   "source": []
  }
 ],
 "metadata": {
  "kernelspec": {
   "display_name": "Python 3",
   "language": "python",
   "name": "python3"
  },
  "language_info": {
   "codemirror_mode": {
    "name": "ipython",
    "version": 3
   },
   "file_extension": ".py",
   "mimetype": "text/x-python",
   "name": "python",
   "nbconvert_exporter": "python",
   "pygments_lexer": "ipython3",
   "version": "3.10.8"
  }
 },
 "nbformat": 4,
 "nbformat_minor": 2
}
